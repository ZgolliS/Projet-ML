{
 "cells": [
  {
   "cell_type": "markdown",
   "id": "2c15b43c",
   "metadata": {},
   "source": [
    "# Import Librairies"
   ]
  },
  {
   "cell_type": "code",
   "execution_count": 151,
   "id": "bd1b8e65",
   "metadata": {},
   "outputs": [],
   "source": [
    "import numpy as np\n",
    "import pandas as pd\n",
    "import seaborn as sns\n",
    "import matplotlib.pyplot as plt\n",
    "import seaborn as sns\n",
    "import ipywidgets as widgets \n",
    "from ipywidgets import *\n",
    "\n",
    "from pyspark.sql import SparkSession\n",
    "from pyspark.sql.functions import isnan, when, count, col\n",
    "from pyspark.ml.feature import VectorAssembler\n",
    "from pyspark.ml.classification import LogisticRegression\n",
    "from pyspark.ml.evaluation import BinaryClassificationEvaluator\n",
    "from pyspark.ml.tuning import ParamGridBuilder, CrossValidator\n",
    "from pyspark.ml.classification import RandomForestClassifier\n",
    "from pyspark.ml.classification import GBTClassifier\n",
    "from pyspark.ml.classification import DecisionTreeClassifier"
   ]
  },
  {
   "cell_type": "code",
   "execution_count": 152,
   "id": "668d1b1b",
   "metadata": {},
   "outputs": [],
   "source": [
    "from pyspark.sql import SparkSession\n",
    "from pyspark import SparkConf\n",
    "spark = SparkSession \\\n",
    ".builder \\\n",
    ".appName(\" churn prediction\") \\\n",
    ".config(\"spark.jars.packages\", \"org.apache.spark:spark-sql-kafka-0-10_2.11:2.4.5\") \\\n",
    ".getOrCreate()\n"
   ]
  },
  {
   "cell_type": "code",
   "execution_count": 153,
   "id": "ac901e5d",
   "metadata": {},
   "outputs": [
    {
     "data": {
      "text/html": [
       "\n",
       "<style>\n",
       "div.output_area pre {\n",
       "    white-space: pre;\n",
       "}\n",
       "</style>\n"
      ],
      "text/plain": [
       "<IPython.core.display.HTML object>"
      ]
     },
     "metadata": {},
     "output_type": "display_data"
    }
   ],
   "source": [
    "%%html\n",
    "\n",
    "<style>\n",
    "div.output_area pre {\n",
    "    white-space: pre;\n",
    "}\n",
    "</style>"
   ]
  },
  {
   "cell_type": "markdown",
   "id": "5d20b663",
   "metadata": {},
   "source": [
    "# Loading Data"
   ]
  },
  {
   "cell_type": "code",
   "execution_count": 154,
   "id": "269e4183",
   "metadata": {},
   "outputs": [],
   "source": [
    "\n",
    "pdf = pd.read_excel('mobile-churn-data.xlsx', engine='openpyxl')\n"
   ]
  },
  {
   "cell_type": "code",
   "execution_count": 155,
   "id": "0b775ded",
   "metadata": {},
   "outputs": [
    {
     "name": "stdout",
     "output_type": "stream",
     "text": [
      "<class 'pandas.core.frame.DataFrame'>\n",
      "RangeIndex: 66469 entries, 0 to 66468\n",
      "Data columns (total 66 columns):\n",
      " #   Column                                      Non-Null Count  Dtype  \n",
      "---  ------                                      --------------  -----  \n",
      " 0   year                                        66469 non-null  int64  \n",
      " 1   month                                       66469 non-null  int64  \n",
      " 2   user_account_id                             66469 non-null  int64  \n",
      " 3   user_lifetime                               66469 non-null  int64  \n",
      " 4   user_intake                                 66469 non-null  int64  \n",
      " 5   user_no_outgoing_activity_in_days           66469 non-null  int64  \n",
      " 6   user_account_balance_last                   66469 non-null  float64\n",
      " 7   user_spendings                              66469 non-null  float64\n",
      " 8   user_has_outgoing_calls                     66469 non-null  int64  \n",
      " 9   user_has_outgoing_sms                       66469 non-null  int64  \n",
      " 10  user_use_gprs                               66469 non-null  int64  \n",
      " 11  user_does_reload                            66469 non-null  int64  \n",
      " 12  reloads_inactive_days                       66469 non-null  int64  \n",
      " 13  reloads_count                               66469 non-null  int64  \n",
      " 14  reloads_sum                                 66469 non-null  float64\n",
      " 15  calls_outgoing_count                        66469 non-null  int64  \n",
      " 16  calls_outgoing_spendings                    66469 non-null  float64\n",
      " 17  calls_outgoing_duration                     66469 non-null  float64\n",
      " 18  calls_outgoing_spendings_max                66469 non-null  float64\n",
      " 19  calls_outgoing_duration_max                 66469 non-null  float64\n",
      " 20  calls_outgoing_inactive_days                66469 non-null  int64  \n",
      " 21  calls_outgoing_to_onnet_count               66469 non-null  int64  \n",
      " 22  calls_outgoing_to_onnet_spendings           66469 non-null  float64\n",
      " 23  calls_outgoing_to_onnet_duration            66469 non-null  float64\n",
      " 24  calls_outgoing_to_onnet_inactive_days       66469 non-null  int64  \n",
      " 25  calls_outgoing_to_offnet_count              66469 non-null  int64  \n",
      " 26  calls_outgoing_to_offnet_spendings          66469 non-null  float64\n",
      " 27  calls_outgoing_to_offnet_duration           66469 non-null  float64\n",
      " 28  calls_outgoing_to_offnet_inactive_days      66469 non-null  int64  \n",
      " 29  calls_outgoing_to_abroad_count              66469 non-null  int64  \n",
      " 30  calls_outgoing_to_abroad_spendings          66469 non-null  float64\n",
      " 31  calls_outgoing_to_abroad_duration           66469 non-null  float64\n",
      " 32  calls_outgoing_to_abroad_inactive_days      66469 non-null  int64  \n",
      " 33  sms_outgoing_count                          66469 non-null  int64  \n",
      " 34  sms_outgoing_spendings                      66469 non-null  float64\n",
      " 35  sms_outgoing_spendings_max                  66469 non-null  float64\n",
      " 36  sms_outgoing_inactive_days                  66469 non-null  int64  \n",
      " 37  sms_outgoing_to_onnet_count                 66469 non-null  int64  \n",
      " 38  sms_outgoing_to_onnet_spendings             66469 non-null  float64\n",
      " 39  sms_outgoing_to_onnet_inactive_days         66469 non-null  int64  \n",
      " 40  sms_outgoing_to_offnet_count                66469 non-null  int64  \n",
      " 41  sms_outgoing_to_offnet_spendings            66469 non-null  float64\n",
      " 42  sms_outgoing_to_offnet_inactive_days        66469 non-null  int64  \n",
      " 43  sms_outgoing_to_abroad_count                66469 non-null  int64  \n",
      " 44  sms_outgoing_to_abroad_spendings            66469 non-null  float64\n",
      " 45  sms_outgoing_to_abroad_inactive_days        66469 non-null  int64  \n",
      " 46  sms_incoming_count                          66469 non-null  int64  \n",
      " 47  sms_incoming_spendings                      66469 non-null  float64\n",
      " 48  sms_incoming_from_abroad_count              66469 non-null  int64  \n",
      " 49  sms_incoming_from_abroad_spendings          66469 non-null  float64\n",
      " 50  gprs_session_count                          66469 non-null  int64  \n",
      " 51  gprs_usage                                  66469 non-null  float64\n",
      " 52  gprs_spendings                              66469 non-null  float64\n",
      " 53  gprs_inactive_days                          66469 non-null  int64  \n",
      " 54  last_100_reloads_count                      66469 non-null  int64  \n",
      " 55  last_100_reloads_sum                        66469 non-null  float64\n",
      " 56  last_100_calls_outgoing_duration            66469 non-null  float64\n",
      " 57  last_100_calls_outgoing_to_onnet_duration   66469 non-null  float64\n",
      " 58  last_100_calls_outgoing_to_offnet_duration  66469 non-null  float64\n",
      " 59  last_100_calls_outgoing_to_abroad_duration  66469 non-null  float64\n",
      " 60  last_100_sms_outgoing_count                 66469 non-null  int64  \n",
      " 61  last_100_sms_outgoing_to_onnet_count        66469 non-null  int64  \n",
      " 62  last_100_sms_outgoing_to_offnet_count       66469 non-null  int64  \n",
      " 63  last_100_sms_outgoing_to_abroad_count       66469 non-null  int64  \n",
      " 64  last_100_gprs_usage                         66469 non-null  float64\n",
      " 65  churn                                       66469 non-null  int64  \n",
      "dtypes: float64(28), int64(38)\n",
      "memory usage: 33.5 MB\n"
     ]
    }
   ],
   "source": [
    "pdf.info()"
   ]
  },
  {
   "cell_type": "code",
   "execution_count": 156,
   "id": "af432864",
   "metadata": {},
   "outputs": [],
   "source": [
    "#a=pdf.groupby(['churn']).count()\n",
    "#a"
   ]
  },
  {
   "cell_type": "markdown",
   "id": "e3473c84",
   "metadata": {},
   "source": [
    "# DataViz"
   ]
  },
  {
   "cell_type": "markdown",
   "id": "0fbb05be",
   "metadata": {},
   "source": [
    "### Distribution des classes de churn "
   ]
  },
  {
   "cell_type": "code",
   "execution_count": 157,
   "id": "eb163d12",
   "metadata": {},
   "outputs": [
    {
     "data": {
      "image/png": "[encoded data removed]",
      "text/plain": [
       "<Figure size 510.375x187.2 with 1 Axes>"
      ]
     },
     "metadata": {
      "needs_background": "light"
     },
     "output_type": "display_data"
    },
    {
     "name": "stdout",
     "output_type": "stream",
     "text": [
      "20.922535317215544 % churners\n"
     ]
    }
   ],
   "source": [
    "\n",
    "ax = sns.catplot(y=\"churn\", kind=\"count\", data=pdf, hue= 'churn', palette = 'tab10', height=2.6, aspect=2.5, orient='h')\n",
    "plt.title('Churn Distribution')\n",
    "plt.show()\n",
    "\n",
    "#pourcentage des churners \n",
    "prop_churn = sum(pdf['churn'] == 1) / len(pdf['churn'])*100\n",
    "print(str(prop_churn) + ' % churners')"
   ]
  },
  {
   "cell_type": "code",
   "execution_count": 158,
   "id": "1c2c87c7",
   "metadata": {},
   "outputs": [],
   "source": [
    "# D'après ce graphe on constate que la majorité des clients ne sont pas désabonnés (environ 80%)\n",
    "#D'autre par notre dataset présente un problème de déséquilibre qui peut impacter négativement la performance des modèles\n",
    "#de classification que nous allons créer"
   ]
  },
  {
   "cell_type": "code",
   "execution_count": 159,
   "id": "2e8a6518",
   "metadata": {},
   "outputs": [],
   "source": [
    "b = pdf.nunique()[pdf.nunique() < 5].keys().to_list()"
   ]
  },
  {
   "cell_type": "code",
   "execution_count": 169,
   "id": "c2b92171",
   "metadata": {
    "scrolled": false
   },
   "outputs": [
    {
     "data": {
      "application/vnd.jupyter.widget-view+json": {
       "model_id": "95ef34eab8b048f3ab490a8473a006d4",
       "version_major": 2,
       "version_minor": 0
      },
      "text/plain": [
       "interactive(children=(Dropdown(description='Column', options=('year', 'month', 'user_intake', 'user_has_outgoi…"
      ]
     },
     "metadata": {},
     "output_type": "display_data"
    },
    {
     "data": {
      "text/plain": [
       "<function __main__.draw_countplot(column)>"
      ]
     },
     "execution_count": 169,
     "metadata": {},
     "output_type": "execute_result"
    }
   ],
   "source": [
    "dd = widgets.Dropdown(options= b, value=b[0], description= 'Column')\n",
    "def draw_countplot(column):\n",
    "    p = sns.countplot(data=pdf, x= column, hue='churn', palette='plasma')\n",
    "    if len(pdf[column].unique()) > 4 :\n",
    "        p.tick_params(axis='x', rotation =90)\n",
    "    plt.title('Distribution de ' + str(column))\n",
    "    return plt.show()\n",
    "              \n",
    "interact(draw_countplot, column=dd)\n"
   ]
  },
  {
   "cell_type": "markdown",
   "id": "37835b02",
   "metadata": {},
   "source": [
    "# Data Processing"
   ]
  },
  {
   "cell_type": "code",
   "execution_count": 170,
   "id": "959f7d5f",
   "metadata": {},
   "outputs": [
    {
     "data": {
      "text/html": [
       "<div>\n",
       "<style scoped>\n",
       "    .dataframe tbody tr th:only-of-type {\n",
       "        vertical-align: middle;\n",
       "    }\n",
       "\n",
       "    .dataframe tbody tr th {\n",
       "        vertical-align: top;\n",
       "    }\n",
       "\n",
       "    .dataframe thead th {\n",
       "        text-align: right;\n",
       "    }\n",
       "</style>\n",
       "<table border=\"1\" class=\"dataframe\">\n",
       "  <thead>\n",
       "    <tr style=\"text-align: right;\">\n",
       "      <th></th>\n",
       "      <th>year</th>\n",
       "      <th>month</th>\n",
       "      <th>user_account_id</th>\n",
       "      <th>user_lifetime</th>\n",
       "      <th>user_intake</th>\n",
       "      <th>user_no_outgoing_activity_in_days</th>\n",
       "      <th>user_account_balance_last</th>\n",
       "      <th>user_spendings</th>\n",
       "      <th>user_has_outgoing_calls</th>\n",
       "      <th>user_has_outgoing_sms</th>\n",
       "      <th>...</th>\n",
       "      <th>last_100_calls_outgoing_duration</th>\n",
       "      <th>last_100_calls_outgoing_to_onnet_duration</th>\n",
       "      <th>last_100_calls_outgoing_to_offnet_duration</th>\n",
       "      <th>last_100_calls_outgoing_to_abroad_duration</th>\n",
       "      <th>last_100_sms_outgoing_count</th>\n",
       "      <th>last_100_sms_outgoing_to_onnet_count</th>\n",
       "      <th>last_100_sms_outgoing_to_offnet_count</th>\n",
       "      <th>last_100_sms_outgoing_to_abroad_count</th>\n",
       "      <th>last_100_gprs_usage</th>\n",
       "      <th>churn</th>\n",
       "    </tr>\n",
       "  </thead>\n",
       "  <tbody>\n",
       "    <tr>\n",
       "      <th>3</th>\n",
       "      <td>2013</td>\n",
       "      <td>6</td>\n",
       "      <td>27</td>\n",
       "      <td>1013</td>\n",
       "      <td>0</td>\n",
       "      <td>11</td>\n",
       "      <td>5.62</td>\n",
       "      <td>0.00</td>\n",
       "      <td>1</td>\n",
       "      <td>0</td>\n",
       "      <td>...</td>\n",
       "      <td>0.00</td>\n",
       "      <td>0.0</td>\n",
       "      <td>0.0</td>\n",
       "      <td>0.0</td>\n",
       "      <td>0</td>\n",
       "      <td>0</td>\n",
       "      <td>0</td>\n",
       "      <td>0</td>\n",
       "      <td>0.0</td>\n",
       "      <td>1</td>\n",
       "    </tr>\n",
       "    <tr>\n",
       "      <th>11</th>\n",
       "      <td>2013</td>\n",
       "      <td>6</td>\n",
       "      <td>69</td>\n",
       "      <td>769</td>\n",
       "      <td>0</td>\n",
       "      <td>90</td>\n",
       "      <td>30.01</td>\n",
       "      <td>0.00</td>\n",
       "      <td>0</td>\n",
       "      <td>0</td>\n",
       "      <td>...</td>\n",
       "      <td>0.00</td>\n",
       "      <td>0.0</td>\n",
       "      <td>0.0</td>\n",
       "      <td>0.0</td>\n",
       "      <td>0</td>\n",
       "      <td>0</td>\n",
       "      <td>0</td>\n",
       "      <td>0</td>\n",
       "      <td>0.0</td>\n",
       "      <td>1</td>\n",
       "    </tr>\n",
       "    <tr>\n",
       "      <th>12</th>\n",
       "      <td>2013</td>\n",
       "      <td>6</td>\n",
       "      <td>73</td>\n",
       "      <td>732</td>\n",
       "      <td>0</td>\n",
       "      <td>28</td>\n",
       "      <td>2.42</td>\n",
       "      <td>3.68</td>\n",
       "      <td>1</td>\n",
       "      <td>1</td>\n",
       "      <td>...</td>\n",
       "      <td>15.48</td>\n",
       "      <td>0.0</td>\n",
       "      <td>1.0</td>\n",
       "      <td>0.0</td>\n",
       "      <td>26</td>\n",
       "      <td>0</td>\n",
       "      <td>1</td>\n",
       "      <td>0</td>\n",
       "      <td>0.0</td>\n",
       "      <td>1</td>\n",
       "    </tr>\n",
       "    <tr>\n",
       "      <th>20</th>\n",
       "      <td>2013</td>\n",
       "      <td>6</td>\n",
       "      <td>104</td>\n",
       "      <td>15885</td>\n",
       "      <td>0</td>\n",
       "      <td>1276</td>\n",
       "      <td>0.00</td>\n",
       "      <td>0.00</td>\n",
       "      <td>0</td>\n",
       "      <td>0</td>\n",
       "      <td>...</td>\n",
       "      <td>0.00</td>\n",
       "      <td>0.0</td>\n",
       "      <td>0.0</td>\n",
       "      <td>0.0</td>\n",
       "      <td>0</td>\n",
       "      <td>0</td>\n",
       "      <td>0</td>\n",
       "      <td>0</td>\n",
       "      <td>0.0</td>\n",
       "      <td>1</td>\n",
       "    </tr>\n",
       "    <tr>\n",
       "      <th>50</th>\n",
       "      <td>2013</td>\n",
       "      <td>6</td>\n",
       "      <td>279</td>\n",
       "      <td>15885</td>\n",
       "      <td>0</td>\n",
       "      <td>8</td>\n",
       "      <td>0.00</td>\n",
       "      <td>0.00</td>\n",
       "      <td>1</td>\n",
       "      <td>0</td>\n",
       "      <td>...</td>\n",
       "      <td>0.00</td>\n",
       "      <td>0.0</td>\n",
       "      <td>0.0</td>\n",
       "      <td>0.0</td>\n",
       "      <td>0</td>\n",
       "      <td>0</td>\n",
       "      <td>0</td>\n",
       "      <td>0</td>\n",
       "      <td>0.0</td>\n",
       "      <td>1</td>\n",
       "    </tr>\n",
       "    <tr>\n",
       "      <th>...</th>\n",
       "      <td>...</td>\n",
       "      <td>...</td>\n",
       "      <td>...</td>\n",
       "      <td>...</td>\n",
       "      <td>...</td>\n",
       "      <td>...</td>\n",
       "      <td>...</td>\n",
       "      <td>...</td>\n",
       "      <td>...</td>\n",
       "      <td>...</td>\n",
       "      <td>...</td>\n",
       "      <td>...</td>\n",
       "      <td>...</td>\n",
       "      <td>...</td>\n",
       "      <td>...</td>\n",
       "      <td>...</td>\n",
       "      <td>...</td>\n",
       "      <td>...</td>\n",
       "      <td>...</td>\n",
       "      <td>...</td>\n",
       "      <td>...</td>\n",
       "    </tr>\n",
       "    <tr>\n",
       "      <th>66461</th>\n",
       "      <td>2013</td>\n",
       "      <td>8</td>\n",
       "      <td>1196934</td>\n",
       "      <td>15947</td>\n",
       "      <td>0</td>\n",
       "      <td>1</td>\n",
       "      <td>0.00</td>\n",
       "      <td>0.00</td>\n",
       "      <td>0</td>\n",
       "      <td>0</td>\n",
       "      <td>...</td>\n",
       "      <td>0.00</td>\n",
       "      <td>0.0</td>\n",
       "      <td>0.0</td>\n",
       "      <td>0.0</td>\n",
       "      <td>0</td>\n",
       "      <td>0</td>\n",
       "      <td>0</td>\n",
       "      <td>0</td>\n",
       "      <td>0.0</td>\n",
       "      <td>1</td>\n",
       "    </tr>\n",
       "    <tr>\n",
       "      <th>66462</th>\n",
       "      <td>2013</td>\n",
       "      <td>8</td>\n",
       "      <td>1196935</td>\n",
       "      <td>15947</td>\n",
       "      <td>0</td>\n",
       "      <td>1</td>\n",
       "      <td>0.00</td>\n",
       "      <td>0.00</td>\n",
       "      <td>0</td>\n",
       "      <td>0</td>\n",
       "      <td>...</td>\n",
       "      <td>0.00</td>\n",
       "      <td>0.0</td>\n",
       "      <td>0.0</td>\n",
       "      <td>0.0</td>\n",
       "      <td>0</td>\n",
       "      <td>0</td>\n",
       "      <td>0</td>\n",
       "      <td>0</td>\n",
       "      <td>0.0</td>\n",
       "      <td>1</td>\n",
       "    </tr>\n",
       "    <tr>\n",
       "      <th>66463</th>\n",
       "      <td>2013</td>\n",
       "      <td>8</td>\n",
       "      <td>1196936</td>\n",
       "      <td>15947</td>\n",
       "      <td>0</td>\n",
       "      <td>1</td>\n",
       "      <td>0.00</td>\n",
       "      <td>0.00</td>\n",
       "      <td>0</td>\n",
       "      <td>0</td>\n",
       "      <td>...</td>\n",
       "      <td>0.00</td>\n",
       "      <td>0.0</td>\n",
       "      <td>0.0</td>\n",
       "      <td>0.0</td>\n",
       "      <td>0</td>\n",
       "      <td>0</td>\n",
       "      <td>0</td>\n",
       "      <td>0</td>\n",
       "      <td>0.0</td>\n",
       "      <td>1</td>\n",
       "    </tr>\n",
       "    <tr>\n",
       "      <th>66464</th>\n",
       "      <td>2013</td>\n",
       "      <td>8</td>\n",
       "      <td>1196937</td>\n",
       "      <td>15947</td>\n",
       "      <td>0</td>\n",
       "      <td>1</td>\n",
       "      <td>0.00</td>\n",
       "      <td>0.00</td>\n",
       "      <td>0</td>\n",
       "      <td>0</td>\n",
       "      <td>...</td>\n",
       "      <td>0.00</td>\n",
       "      <td>0.0</td>\n",
       "      <td>0.0</td>\n",
       "      <td>0.0</td>\n",
       "      <td>0</td>\n",
       "      <td>0</td>\n",
       "      <td>0</td>\n",
       "      <td>0</td>\n",
       "      <td>0.0</td>\n",
       "      <td>1</td>\n",
       "    </tr>\n",
       "    <tr>\n",
       "      <th>66465</th>\n",
       "      <td>2013</td>\n",
       "      <td>8</td>\n",
       "      <td>1196938</td>\n",
       "      <td>15947</td>\n",
       "      <td>0</td>\n",
       "      <td>1</td>\n",
       "      <td>0.00</td>\n",
       "      <td>0.00</td>\n",
       "      <td>0</td>\n",
       "      <td>0</td>\n",
       "      <td>...</td>\n",
       "      <td>0.00</td>\n",
       "      <td>0.0</td>\n",
       "      <td>0.0</td>\n",
       "      <td>0.0</td>\n",
       "      <td>0</td>\n",
       "      <td>0</td>\n",
       "      <td>0</td>\n",
       "      <td>0</td>\n",
       "      <td>0.0</td>\n",
       "      <td>1</td>\n",
       "    </tr>\n",
       "  </tbody>\n",
       "</table>\n",
       "<p>13907 rows × 66 columns</p>\n",
       "</div>"
      ],
      "text/plain": [
       "       year  month  user_account_id  user_lifetime  user_intake  \\\n",
       "3      2013      6               27           1013            0   \n",
       "11     2013      6               69            769            0   \n",
       "12     2013      6               73            732            0   \n",
       "20     2013      6              104          15885            0   \n",
       "50     2013      6              279          15885            0   \n",
       "...     ...    ...              ...            ...          ...   \n",
       "66461  2013      8          1196934          15947            0   \n",
       "66462  2013      8          1196935          15947            0   \n",
       "66463  2013      8          1196936          15947            0   \n",
       "66464  2013      8          1196937          15947            0   \n",
       "66465  2013      8          1196938          15947            0   \n",
       "\n",
       "       user_no_outgoing_activity_in_days  user_account_balance_last  \\\n",
       "3                                     11                       5.62   \n",
       "11                                    90                      30.01   \n",
       "12                                    28                       2.42   \n",
       "20                                  1276                       0.00   \n",
       "50                                     8                       0.00   \n",
       "...                                  ...                        ...   \n",
       "66461                                  1                       0.00   \n",
       "66462                                  1                       0.00   \n",
       "66463                                  1                       0.00   \n",
       "66464                                  1                       0.00   \n",
       "66465                                  1                       0.00   \n",
       "\n",
       "       user_spendings  user_has_outgoing_calls  user_has_outgoing_sms  ...  \\\n",
       "3                0.00                        1                      0  ...   \n",
       "11               0.00                        0                      0  ...   \n",
       "12               3.68                        1                      1  ...   \n",
       "20               0.00                        0                      0  ...   \n",
       "50               0.00                        1                      0  ...   \n",
       "...               ...                      ...                    ...  ...   \n",
       "66461            0.00                        0                      0  ...   \n",
       "66462            0.00                        0                      0  ...   \n",
       "66463            0.00                        0                      0  ...   \n",
       "66464            0.00                        0                      0  ...   \n",
       "66465            0.00                        0                      0  ...   \n",
       "\n",
       "       last_100_calls_outgoing_duration  \\\n",
       "3                                  0.00   \n",
       "11                                 0.00   \n",
       "12                                15.48   \n",
       "20                                 0.00   \n",
       "50                                 0.00   \n",
       "...                                 ...   \n",
       "66461                              0.00   \n",
       "66462                              0.00   \n",
       "66463                              0.00   \n",
       "66464                              0.00   \n",
       "66465                              0.00   \n",
       "\n",
       "       last_100_calls_outgoing_to_onnet_duration  \\\n",
       "3                                            0.0   \n",
       "11                                           0.0   \n",
       "12                                           0.0   \n",
       "20                                           0.0   \n",
       "50                                           0.0   \n",
       "...                                          ...   \n",
       "66461                                        0.0   \n",
       "66462                                        0.0   \n",
       "66463                                        0.0   \n",
       "66464                                        0.0   \n",
       "66465                                        0.0   \n",
       "\n",
       "       last_100_calls_outgoing_to_offnet_duration  \\\n",
       "3                                             0.0   \n",
       "11                                            0.0   \n",
       "12                                            1.0   \n",
       "20                                            0.0   \n",
       "50                                            0.0   \n",
       "...                                           ...   \n",
       "66461                                         0.0   \n",
       "66462                                         0.0   \n",
       "66463                                         0.0   \n",
       "66464                                         0.0   \n",
       "66465                                         0.0   \n",
       "\n",
       "       last_100_calls_outgoing_to_abroad_duration  \\\n",
       "3                                             0.0   \n",
       "11                                            0.0   \n",
       "12                                            0.0   \n",
       "20                                            0.0   \n",
       "50                                            0.0   \n",
       "...                                           ...   \n",
       "66461                                         0.0   \n",
       "66462                                         0.0   \n",
       "66463                                         0.0   \n",
       "66464                                         0.0   \n",
       "66465                                         0.0   \n",
       "\n",
       "       last_100_sms_outgoing_count  last_100_sms_outgoing_to_onnet_count  \\\n",
       "3                                0                                     0   \n",
       "11                               0                                     0   \n",
       "12                              26                                     0   \n",
       "20                               0                                     0   \n",
       "50                               0                                     0   \n",
       "...                            ...                                   ...   \n",
       "66461                            0                                     0   \n",
       "66462                            0                                     0   \n",
       "66463                            0                                     0   \n",
       "66464                            0                                     0   \n",
       "66465                            0                                     0   \n",
       "\n",
       "       last_100_sms_outgoing_to_offnet_count  \\\n",
       "3                                          0   \n",
       "11                                         0   \n",
       "12                                         1   \n",
       "20                                         0   \n",
       "50                                         0   \n",
       "...                                      ...   \n",
       "66461                                      0   \n",
       "66462                                      0   \n",
       "66463                                      0   \n",
       "66464                                      0   \n",
       "66465                                      0   \n",
       "\n",
       "       last_100_sms_outgoing_to_abroad_count  last_100_gprs_usage  churn  \n",
       "3                                          0                  0.0      1  \n",
       "11                                         0                  0.0      1  \n",
       "12                                         0                  0.0      1  \n",
       "20                                         0                  0.0      1  \n",
       "50                                         0                  0.0      1  \n",
       "...                                      ...                  ...    ...  \n",
       "66461                                      0                  0.0      1  \n",
       "66462                                      0                  0.0      1  \n",
       "66463                                      0                  0.0      1  \n",
       "66464                                      0                  0.0      1  \n",
       "66465                                      0                  0.0      1  \n",
       "\n",
       "[13907 rows x 66 columns]"
      ]
     },
     "execution_count": 170,
     "metadata": {},
     "output_type": "execute_result"
    }
   ],
   "source": [
    "df_1= pdf[pdf['churn']==1]\n",
    "df_1_final = df_1[:13907]\n",
    "df_1_final"
   ]
  },
  {
   "cell_type": "code",
   "execution_count": 171,
   "id": "c99c9930",
   "metadata": {},
   "outputs": [
    {
     "data": {
      "text/html": [
       "<div>\n",
       "<style scoped>\n",
       "    .dataframe tbody tr th:only-of-type {\n",
       "        vertical-align: middle;\n",
       "    }\n",
       "\n",
       "    .dataframe tbody tr th {\n",
       "        vertical-align: top;\n",
       "    }\n",
       "\n",
       "    .dataframe thead th {\n",
       "        text-align: right;\n",
       "    }\n",
       "</style>\n",
       "<table border=\"1\" class=\"dataframe\">\n",
       "  <thead>\n",
       "    <tr style=\"text-align: right;\">\n",
       "      <th></th>\n",
       "      <th>year</th>\n",
       "      <th>month</th>\n",
       "      <th>user_account_id</th>\n",
       "      <th>user_lifetime</th>\n",
       "      <th>user_intake</th>\n",
       "      <th>user_no_outgoing_activity_in_days</th>\n",
       "      <th>user_account_balance_last</th>\n",
       "      <th>user_spendings</th>\n",
       "      <th>user_has_outgoing_calls</th>\n",
       "      <th>user_has_outgoing_sms</th>\n",
       "      <th>...</th>\n",
       "      <th>last_100_calls_outgoing_duration</th>\n",
       "      <th>last_100_calls_outgoing_to_onnet_duration</th>\n",
       "      <th>last_100_calls_outgoing_to_offnet_duration</th>\n",
       "      <th>last_100_calls_outgoing_to_abroad_duration</th>\n",
       "      <th>last_100_sms_outgoing_count</th>\n",
       "      <th>last_100_sms_outgoing_to_onnet_count</th>\n",
       "      <th>last_100_sms_outgoing_to_offnet_count</th>\n",
       "      <th>last_100_sms_outgoing_to_abroad_count</th>\n",
       "      <th>last_100_gprs_usage</th>\n",
       "      <th>churn</th>\n",
       "    </tr>\n",
       "  </thead>\n",
       "  <tbody>\n",
       "    <tr>\n",
       "      <th>0</th>\n",
       "      <td>2013</td>\n",
       "      <td>6</td>\n",
       "      <td>13</td>\n",
       "      <td>1000</td>\n",
       "      <td>0</td>\n",
       "      <td>1</td>\n",
       "      <td>0.05</td>\n",
       "      <td>0.00</td>\n",
       "      <td>1</td>\n",
       "      <td>1</td>\n",
       "      <td>...</td>\n",
       "      <td>75.27</td>\n",
       "      <td>0.00</td>\n",
       "      <td>63.43</td>\n",
       "      <td>0.00</td>\n",
       "      <td>210</td>\n",
       "      <td>1</td>\n",
       "      <td>84</td>\n",
       "      <td>0</td>\n",
       "      <td>0.0</td>\n",
       "      <td>0</td>\n",
       "    </tr>\n",
       "    <tr>\n",
       "      <th>1</th>\n",
       "      <td>2013</td>\n",
       "      <td>6</td>\n",
       "      <td>14</td>\n",
       "      <td>1000</td>\n",
       "      <td>0</td>\n",
       "      <td>25</td>\n",
       "      <td>28.31</td>\n",
       "      <td>3.45</td>\n",
       "      <td>1</td>\n",
       "      <td>0</td>\n",
       "      <td>...</td>\n",
       "      <td>13.38</td>\n",
       "      <td>11.18</td>\n",
       "      <td>2.00</td>\n",
       "      <td>11.18</td>\n",
       "      <td>0</td>\n",
       "      <td>0</td>\n",
       "      <td>0</td>\n",
       "      <td>0</td>\n",
       "      <td>0.0</td>\n",
       "      <td>0</td>\n",
       "    </tr>\n",
       "    <tr>\n",
       "      <th>2</th>\n",
       "      <td>2013</td>\n",
       "      <td>6</td>\n",
       "      <td>18</td>\n",
       "      <td>1005</td>\n",
       "      <td>0</td>\n",
       "      <td>8</td>\n",
       "      <td>15.62</td>\n",
       "      <td>1.97</td>\n",
       "      <td>1</td>\n",
       "      <td>0</td>\n",
       "      <td>...</td>\n",
       "      <td>30.00</td>\n",
       "      <td>0.00</td>\n",
       "      <td>0.00</td>\n",
       "      <td>10.45</td>\n",
       "      <td>0</td>\n",
       "      <td>0</td>\n",
       "      <td>0</td>\n",
       "      <td>0</td>\n",
       "      <td>0.0</td>\n",
       "      <td>0</td>\n",
       "    </tr>\n",
       "    <tr>\n",
       "      <th>4</th>\n",
       "      <td>2013</td>\n",
       "      <td>6</td>\n",
       "      <td>32</td>\n",
       "      <td>1032</td>\n",
       "      <td>0</td>\n",
       "      <td>2</td>\n",
       "      <td>5.86</td>\n",
       "      <td>0.15</td>\n",
       "      <td>1</td>\n",
       "      <td>0</td>\n",
       "      <td>...</td>\n",
       "      <td>2.58</td>\n",
       "      <td>0.00</td>\n",
       "      <td>1.00</td>\n",
       "      <td>0.00</td>\n",
       "      <td>0</td>\n",
       "      <td>0</td>\n",
       "      <td>0</td>\n",
       "      <td>0</td>\n",
       "      <td>0.0</td>\n",
       "      <td>0</td>\n",
       "    </tr>\n",
       "    <tr>\n",
       "      <th>5</th>\n",
       "      <td>2013</td>\n",
       "      <td>6</td>\n",
       "      <td>35</td>\n",
       "      <td>1039</td>\n",
       "      <td>0</td>\n",
       "      <td>1</td>\n",
       "      <td>12.51</td>\n",
       "      <td>12.96</td>\n",
       "      <td>1</td>\n",
       "      <td>1</td>\n",
       "      <td>...</td>\n",
       "      <td>356.65</td>\n",
       "      <td>0.00</td>\n",
       "      <td>215.83</td>\n",
       "      <td>0.00</td>\n",
       "      <td>4</td>\n",
       "      <td>1</td>\n",
       "      <td>1</td>\n",
       "      <td>0</td>\n",
       "      <td>0.0</td>\n",
       "      <td>0</td>\n",
       "    </tr>\n",
       "    <tr>\n",
       "      <th>...</th>\n",
       "      <td>...</td>\n",
       "      <td>...</td>\n",
       "      <td>...</td>\n",
       "      <td>...</td>\n",
       "      <td>...</td>\n",
       "      <td>...</td>\n",
       "      <td>...</td>\n",
       "      <td>...</td>\n",
       "      <td>...</td>\n",
       "      <td>...</td>\n",
       "      <td>...</td>\n",
       "      <td>...</td>\n",
       "      <td>...</td>\n",
       "      <td>...</td>\n",
       "      <td>...</td>\n",
       "      <td>...</td>\n",
       "      <td>...</td>\n",
       "      <td>...</td>\n",
       "      <td>...</td>\n",
       "      <td>...</td>\n",
       "      <td>...</td>\n",
       "    </tr>\n",
       "    <tr>\n",
       "      <th>15283</th>\n",
       "      <td>2013</td>\n",
       "      <td>6</td>\n",
       "      <td>217538</td>\n",
       "      <td>1805</td>\n",
       "      <td>0</td>\n",
       "      <td>2</td>\n",
       "      <td>5.99</td>\n",
       "      <td>1.47</td>\n",
       "      <td>1</td>\n",
       "      <td>1</td>\n",
       "      <td>...</td>\n",
       "      <td>0.45</td>\n",
       "      <td>0.00</td>\n",
       "      <td>0.00</td>\n",
       "      <td>0.45</td>\n",
       "      <td>28</td>\n",
       "      <td>0</td>\n",
       "      <td>2</td>\n",
       "      <td>26</td>\n",
       "      <td>0.0</td>\n",
       "      <td>0</td>\n",
       "    </tr>\n",
       "    <tr>\n",
       "      <th>15284</th>\n",
       "      <td>2013</td>\n",
       "      <td>6</td>\n",
       "      <td>217589</td>\n",
       "      <td>1640</td>\n",
       "      <td>0</td>\n",
       "      <td>3</td>\n",
       "      <td>6.64</td>\n",
       "      <td>1.62</td>\n",
       "      <td>0</td>\n",
       "      <td>1</td>\n",
       "      <td>...</td>\n",
       "      <td>1.57</td>\n",
       "      <td>0.00</td>\n",
       "      <td>1.00</td>\n",
       "      <td>0.00</td>\n",
       "      <td>111</td>\n",
       "      <td>0</td>\n",
       "      <td>101</td>\n",
       "      <td>7</td>\n",
       "      <td>0.0</td>\n",
       "      <td>0</td>\n",
       "    </tr>\n",
       "    <tr>\n",
       "      <th>15285</th>\n",
       "      <td>2013</td>\n",
       "      <td>6</td>\n",
       "      <td>217593</td>\n",
       "      <td>1719</td>\n",
       "      <td>0</td>\n",
       "      <td>5</td>\n",
       "      <td>1.05</td>\n",
       "      <td>0.25</td>\n",
       "      <td>1</td>\n",
       "      <td>0</td>\n",
       "      <td>...</td>\n",
       "      <td>8.32</td>\n",
       "      <td>0.00</td>\n",
       "      <td>3.00</td>\n",
       "      <td>0.00</td>\n",
       "      <td>0</td>\n",
       "      <td>0</td>\n",
       "      <td>0</td>\n",
       "      <td>0</td>\n",
       "      <td>0.0</td>\n",
       "      <td>0</td>\n",
       "    </tr>\n",
       "    <tr>\n",
       "      <th>15286</th>\n",
       "      <td>2013</td>\n",
       "      <td>6</td>\n",
       "      <td>217594</td>\n",
       "      <td>1847</td>\n",
       "      <td>0</td>\n",
       "      <td>1</td>\n",
       "      <td>18.29</td>\n",
       "      <td>5.71</td>\n",
       "      <td>1</td>\n",
       "      <td>1</td>\n",
       "      <td>...</td>\n",
       "      <td>48.45</td>\n",
       "      <td>1.50</td>\n",
       "      <td>37.23</td>\n",
       "      <td>8.28</td>\n",
       "      <td>156</td>\n",
       "      <td>0</td>\n",
       "      <td>66</td>\n",
       "      <td>39</td>\n",
       "      <td>0.0</td>\n",
       "      <td>0</td>\n",
       "    </tr>\n",
       "    <tr>\n",
       "      <th>15287</th>\n",
       "      <td>2013</td>\n",
       "      <td>6</td>\n",
       "      <td>217596</td>\n",
       "      <td>1550</td>\n",
       "      <td>0</td>\n",
       "      <td>1</td>\n",
       "      <td>5.20</td>\n",
       "      <td>21.62</td>\n",
       "      <td>1</td>\n",
       "      <td>1</td>\n",
       "      <td>...</td>\n",
       "      <td>362.28</td>\n",
       "      <td>0.00</td>\n",
       "      <td>250.43</td>\n",
       "      <td>4.02</td>\n",
       "      <td>159</td>\n",
       "      <td>20</td>\n",
       "      <td>107</td>\n",
       "      <td>0</td>\n",
       "      <td>0.0</td>\n",
       "      <td>0</td>\n",
       "    </tr>\n",
       "  </tbody>\n",
       "</table>\n",
       "<p>13907 rows × 66 columns</p>\n",
       "</div>"
      ],
      "text/plain": [
       "       year  month  user_account_id  user_lifetime  user_intake  \\\n",
       "0      2013      6               13           1000            0   \n",
       "1      2013      6               14           1000            0   \n",
       "2      2013      6               18           1005            0   \n",
       "4      2013      6               32           1032            0   \n",
       "5      2013      6               35           1039            0   \n",
       "...     ...    ...              ...            ...          ...   \n",
       "15283  2013      6           217538           1805            0   \n",
       "15284  2013      6           217589           1640            0   \n",
       "15285  2013      6           217593           1719            0   \n",
       "15286  2013      6           217594           1847            0   \n",
       "15287  2013      6           217596           1550            0   \n",
       "\n",
       "       user_no_outgoing_activity_in_days  user_account_balance_last  \\\n",
       "0                                      1                       0.05   \n",
       "1                                     25                      28.31   \n",
       "2                                      8                      15.62   \n",
       "4                                      2                       5.86   \n",
       "5                                      1                      12.51   \n",
       "...                                  ...                        ...   \n",
       "15283                                  2                       5.99   \n",
       "15284                                  3                       6.64   \n",
       "15285                                  5                       1.05   \n",
       "15286                                  1                      18.29   \n",
       "15287                                  1                       5.20   \n",
       "\n",
       "       user_spendings  user_has_outgoing_calls  user_has_outgoing_sms  ...  \\\n",
       "0                0.00                        1                      1  ...   \n",
       "1                3.45                        1                      0  ...   \n",
       "2                1.97                        1                      0  ...   \n",
       "4                0.15                        1                      0  ...   \n",
       "5               12.96                        1                      1  ...   \n",
       "...               ...                      ...                    ...  ...   \n",
       "15283            1.47                        1                      1  ...   \n",
       "15284            1.62                        0                      1  ...   \n",
       "15285            0.25                        1                      0  ...   \n",
       "15286            5.71                        1                      1  ...   \n",
       "15287           21.62                        1                      1  ...   \n",
       "\n",
       "       last_100_calls_outgoing_duration  \\\n",
       "0                                 75.27   \n",
       "1                                 13.38   \n",
       "2                                 30.00   \n",
       "4                                  2.58   \n",
       "5                                356.65   \n",
       "...                                 ...   \n",
       "15283                              0.45   \n",
       "15284                              1.57   \n",
       "15285                              8.32   \n",
       "15286                             48.45   \n",
       "15287                            362.28   \n",
       "\n",
       "       last_100_calls_outgoing_to_onnet_duration  \\\n",
       "0                                           0.00   \n",
       "1                                          11.18   \n",
       "2                                           0.00   \n",
       "4                                           0.00   \n",
       "5                                           0.00   \n",
       "...                                          ...   \n",
       "15283                                       0.00   \n",
       "15284                                       0.00   \n",
       "15285                                       0.00   \n",
       "15286                                       1.50   \n",
       "15287                                       0.00   \n",
       "\n",
       "       last_100_calls_outgoing_to_offnet_duration  \\\n",
       "0                                           63.43   \n",
       "1                                            2.00   \n",
       "2                                            0.00   \n",
       "4                                            1.00   \n",
       "5                                          215.83   \n",
       "...                                           ...   \n",
       "15283                                        0.00   \n",
       "15284                                        1.00   \n",
       "15285                                        3.00   \n",
       "15286                                       37.23   \n",
       "15287                                      250.43   \n",
       "\n",
       "       last_100_calls_outgoing_to_abroad_duration  \\\n",
       "0                                            0.00   \n",
       "1                                           11.18   \n",
       "2                                           10.45   \n",
       "4                                            0.00   \n",
       "5                                            0.00   \n",
       "...                                           ...   \n",
       "15283                                        0.45   \n",
       "15284                                        0.00   \n",
       "15285                                        0.00   \n",
       "15286                                        8.28   \n",
       "15287                                        4.02   \n",
       "\n",
       "       last_100_sms_outgoing_count  last_100_sms_outgoing_to_onnet_count  \\\n",
       "0                              210                                     1   \n",
       "1                                0                                     0   \n",
       "2                                0                                     0   \n",
       "4                                0                                     0   \n",
       "5                                4                                     1   \n",
       "...                            ...                                   ...   \n",
       "15283                           28                                     0   \n",
       "15284                          111                                     0   \n",
       "15285                            0                                     0   \n",
       "15286                          156                                     0   \n",
       "15287                          159                                    20   \n",
       "\n",
       "       last_100_sms_outgoing_to_offnet_count  \\\n",
       "0                                         84   \n",
       "1                                          0   \n",
       "2                                          0   \n",
       "4                                          0   \n",
       "5                                          1   \n",
       "...                                      ...   \n",
       "15283                                      2   \n",
       "15284                                    101   \n",
       "15285                                      0   \n",
       "15286                                     66   \n",
       "15287                                    107   \n",
       "\n",
       "       last_100_sms_outgoing_to_abroad_count  last_100_gprs_usage  churn  \n",
       "0                                          0                  0.0      0  \n",
       "1                                          0                  0.0      0  \n",
       "2                                          0                  0.0      0  \n",
       "4                                          0                  0.0      0  \n",
       "5                                          0                  0.0      0  \n",
       "...                                      ...                  ...    ...  \n",
       "15283                                     26                  0.0      0  \n",
       "15284                                      7                  0.0      0  \n",
       "15285                                      0                  0.0      0  \n",
       "15286                                     39                  0.0      0  \n",
       "15287                                      0                  0.0      0  \n",
       "\n",
       "[13907 rows x 66 columns]"
      ]
     },
     "execution_count": 171,
     "metadata": {},
     "output_type": "execute_result"
    }
   ],
   "source": [
    "df_0= pdf[pdf['churn']==0]\n",
    "df_0_final = df_0[:13907]\n",
    "df_0_final"
   ]
  },
  {
   "cell_type": "code",
   "execution_count": 172,
   "id": "2ce34e07",
   "metadata": {},
   "outputs": [],
   "source": [
    "df_after_concat =pd.concat([df_0_final, df_1_final], ignore_index=True)"
   ]
  },
  {
   "cell_type": "code",
   "execution_count": 173,
   "id": "6d8e357c",
   "metadata": {},
   "outputs": [],
   "source": [
    "df_after_concat.to_csv(\"/home/jovyan/work/balanced_data\", header=True)"
   ]
  },
  {
   "cell_type": "code",
   "execution_count": 174,
   "id": "01048ccd",
   "metadata": {},
   "outputs": [],
   "source": [
    "\n",
    "df = spark.read.csv('/home/jovyan/work/balanced_data', header = True)\n"
   ]
  },
  {
   "cell_type": "code",
   "execution_count": 175,
   "id": "678a03ff",
   "metadata": {},
   "outputs": [
    {
     "name": "stdout",
     "output_type": "stream",
     "text": [
      "+---+----+-----+---------------+-------------+-----------+---------------------------------+-------------------------+--------------+-----------------------+---------------------+-------------+----------------+---------------------+-------------+-----------+--------------------+------------------------+-----------------------+----------------------------+---------------------------+----------------------------+-----------------------------+---------------------------------+--------------------------------+-------------------------------------+------------------------------+----------------------------------+---------------------------------+--------------------------------------+------------------------------+----------------------------------+---------------------------------+--------------------------------------+------------------+----------------------+--------------------------+--------------------------+---------------------------+-------------------------------+-----------------------------------+----------------------------+--------------------------------+------------------------------------+----------------------------+--------------------------------+------------------------------------+------------------+----------------------+------------------------------+----------------------------------+------------------+----------+--------------+------------------+----------------------+--------------------+--------------------------------+-----------------------------------------+------------------------------------------+------------------------------------------+---------------------------+------------------------------------+-------------------------------------+-------------------------------------+-------------------+-----+\n",
      "|_c0|year|month|user_account_id|user_lifetime|user_intake|user_no_outgoing_activity_in_days|user_account_balance_last|user_spendings|user_has_outgoing_calls|user_has_outgoing_sms|user_use_gprs|user_does_reload|reloads_inactive_days|reloads_count|reloads_sum|calls_outgoing_count|calls_outgoing_spendings|calls_outgoing_duration|calls_outgoing_spendings_max|calls_outgoing_duration_max|calls_outgoing_inactive_days|calls_outgoing_to_onnet_count|calls_outgoing_to_onnet_spendings|calls_outgoing_to_onnet_duration|calls_outgoing_to_onnet_inactive_days|calls_outgoing_to_offnet_count|calls_outgoing_to_offnet_spendings|calls_outgoing_to_offnet_duration|calls_outgoing_to_offnet_inactive_days|calls_outgoing_to_abroad_count|calls_outgoing_to_abroad_spendings|calls_outgoing_to_abroad_duration|calls_outgoing_to_abroad_inactive_days|sms_outgoing_count|sms_outgoing_spendings|sms_outgoing_spendings_max|sms_outgoing_inactive_days|sms_outgoing_to_onnet_count|sms_outgoing_to_onnet_spendings|sms_outgoing_to_onnet_inactive_days|sms_outgoing_to_offnet_count|sms_outgoing_to_offnet_spendings|sms_outgoing_to_offnet_inactive_days|sms_outgoing_to_abroad_count|sms_outgoing_to_abroad_spendings|sms_outgoing_to_abroad_inactive_days|sms_incoming_count|sms_incoming_spendings|sms_incoming_from_abroad_count|sms_incoming_from_abroad_spendings|gprs_session_count|gprs_usage|gprs_spendings|gprs_inactive_days|last_100_reloads_count|last_100_reloads_sum|last_100_calls_outgoing_duration|last_100_calls_outgoing_to_onnet_duration|last_100_calls_outgoing_to_offnet_duration|last_100_calls_outgoing_to_abroad_duration|last_100_sms_outgoing_count|last_100_sms_outgoing_to_onnet_count|last_100_sms_outgoing_to_offnet_count|last_100_sms_outgoing_to_abroad_count|last_100_gprs_usage|churn|\n",
      "+---+----+-----+---------------+-------------+-----------+---------------------------------+-------------------------+--------------+-----------------------+---------------------+-------------+----------------+---------------------+-------------+-----------+--------------------+------------------------+-----------------------+----------------------------+---------------------------+----------------------------+-----------------------------+---------------------------------+--------------------------------+-------------------------------------+------------------------------+----------------------------------+---------------------------------+--------------------------------------+------------------------------+----------------------------------+---------------------------------+--------------------------------------+------------------+----------------------+--------------------------+--------------------------+---------------------------+-------------------------------+-----------------------------------+----------------------------+--------------------------------+------------------------------------+----------------------------+--------------------------------+------------------------------------+------------------+----------------------+------------------------------+----------------------------------+------------------+----------+--------------+------------------+----------------------+--------------------+--------------------------------+-----------------------------------------+------------------------------------------+------------------------------------------+---------------------------+------------------------------------+-------------------------------------+-------------------------------------+-------------------+-----+\n",
      "|  0|2013|    6|             13|         1000|          0|                                1|                     0.05|           0.0|                      1|                    1|            0|               0|                   66|            0|        0.0|                  27|                     0.0|                   1.02|                         0.0|                       0.58|                           1|                            2|                              0.0|                             0.0|                                    1|                             6|                               0.0|                              0.0|                                     1|                             0|                               0.0|                              0.0|                                     1|                 6|                   0.0|                       0.0|                         5|                          0|                            0.0|                                  5|                           5|                             0.0|                                   5|                           0|                             0.0|                                   5|                18|                   0.0|                             0|                               0.0|                 0|       0.0|           0.0|              1276|                     4|               12.01|                           75.27|                                      0.0|                                     63.43|                                       0.0|                        210|                                   1|                                   84|                                    0|                0.0|    0|\n",
      "|  1|2013|    6|             14|         1000|          0|                               25|                    28.31|          3.45|                      1|                    0|            0|               0|                 1276|            0|        0.0|                   5|                    3.45|                    9.9|                        1.51|                       4.33|                          25|                            5|                             3.45|                             9.9|                                   25|                             0|                               0.0|                              0.0|                                    25|                             5|                              3.45|                              9.9|                                    25|                 0|                   0.0|                       0.0|                      1276|                          0|                            0.0|                               1276|                           0|                             0.0|                                1276|                           0|                             0.0|                                1276|                 0|                   0.0|                             0|                               0.0|                 0|       0.0|           0.0|              1276|                     0|                 0.0|                           13.38|                                    11.18|                                       2.0|                                     11.18|                          0|                                   0|                                    0|                                    0|                0.0|    0|\n",
      "|  2|2013|    6|             18|         1005|          0|                                8|                    15.62|          1.97|                      1|                    0|            0|               0|                 1276|            0|        0.0|                  18|                    1.97|                  14.92|                        0.89|                       9.23|                           8|                            0|                              0.0|                             0.0|                                    8|                             0|                               0.0|                              0.0|                                     8|                             6|                              1.31|                            10.45|                                     8|                 0|                   0.0|                       0.0|                      1276|                          0|                            0.0|                               1276|                           0|                             0.0|                                1276|                           0|                             0.0|                                1276|                 7|                   0.0|                             4|                               0.0|                 0|       0.0|           0.0|              1276|                     0|                 0.0|                            30.0|                                      0.0|                                       0.0|                                     10.45|                          0|                                   0|                                    0|                                    0|                0.0|    0|\n",
      "|  3|2013|    6|             32|         1032|          0|                                2|                     5.86|          0.15|                      1|                    0|            0|               1|                   17|            1|        6.0|                  22|                    0.15|                   2.58|                        0.15|                        1.0|                           2|                            0|                              0.0|                             0.0|                                    2|                             4|                              0.15|                              1.0|                                     2|                             0|                               0.0|                              0.0|                                     2|                 0|                   0.0|                       0.0|                      1276|                          0|                            0.0|                               1276|                           0|                             0.0|                                1276|                           0|                             0.0|                                1276|                 5|                   0.0|                             0|                               0.0|                 0|       0.0|           0.0|              1276|                     1|                 6.0|                            2.58|                                      0.0|                                       1.0|                                       0.0|                          0|                                   0|                                    0|                                    0|                0.0|    0|\n",
      "|  4|2013|    6|             35|         1039|          0|                                1|                    12.51|         12.96|                      1|                    1|            0|               1|                    6|            1|       17.0|                  56|                   12.96|                  90.73|                        2.39|                      15.95|                           1|                            0|                              0.0|                             0.0|                                    1|                            15|                              8.44|                            56.28|                                     1|                             0|                               0.0|                              0.0|                                     1|                 2|                   0.0|                       0.0|                         6|                          0|                            0.0|                                  6|                           0|                             0.0|                                   6|                           0|                             0.0|                                   6|                11|                   0.0|                             0|                               0.0|                 0|       0.0|           0.0|              1276|                     3|                29.0|                          356.65|                                      0.0|                                    215.83|                                       0.0|                          4|                                   1|                                    1|                                    0|                0.0|    0|\n",
      "+---+----+-----+---------------+-------------+-----------+---------------------------------+-------------------------+--------------+-----------------------+---------------------+-------------+----------------+---------------------+-------------+-----------+--------------------+------------------------+-----------------------+----------------------------+---------------------------+----------------------------+-----------------------------+---------------------------------+--------------------------------+-------------------------------------+------------------------------+----------------------------------+---------------------------------+--------------------------------------+------------------------------+----------------------------------+---------------------------------+--------------------------------------+------------------+----------------------+--------------------------+--------------------------+---------------------------+-------------------------------+-----------------------------------+----------------------------+--------------------------------+------------------------------------+----------------------------+--------------------------------+------------------------------------+------------------+----------------------+------------------------------+----------------------------------+------------------+----------+--------------+------------------+----------------------+--------------------+--------------------------------+-----------------------------------------+------------------------------------------+------------------------------------------+---------------------------+------------------------------------+-------------------------------------+-------------------------------------+-------------------+-----+\n",
      "only showing top 5 rows\n",
      "\n"
     ]
    }
   ],
   "source": [
    "df.show(5)"
   ]
  },
  {
   "cell_type": "code",
   "execution_count": 176,
   "id": "911f833e",
   "metadata": {},
   "outputs": [
    {
     "data": {
      "text/plain": [
       "'from IPython.display import display, HTML\\ndisplay(HTML(\"<style>div.jp-OutputArea-output pre {white-space: pre;}</style>\")) '"
      ]
     },
     "execution_count": 176,
     "metadata": {},
     "output_type": "execute_result"
    }
   ],
   "source": [
    "'''from IPython.display import display, HTML\n",
    "display(HTML(\"<style>div.jp-OutputArea-output pre {white-space: pre;}</style>\")) '''\n"
   ]
  },
  {
   "cell_type": "code",
   "execution_count": 177,
   "id": "5c4fbff7",
   "metadata": {},
   "outputs": [
    {
     "name": "stdout",
     "output_type": "stream",
     "text": [
      "+-------+---------------+------+------------------+------------------+-----------------+--------------------+---------------------------------+-------------------------+------------------+-----------------------+---------------------+--------------------+-------------------+---------------------+------------------+------------------+--------------------+------------------------+-----------------------+----------------------------+---------------------------+----------------------------+-----------------------------+---------------------------------+--------------------------------+-------------------------------------+------------------------------+----------------------------------+---------------------------------+--------------------------------------+------------------------------+----------------------------------+---------------------------------+--------------------------------------+------------------+----------------------+--------------------------+--------------------------+---------------------------+-------------------------------+-----------------------------------+----------------------------+--------------------------------+------------------------------------+----------------------------+--------------------------------+------------------------------------+------------------+----------------------+------------------------------+----------------------------------+------------------+------------------+-------------------+------------------+----------------------+--------------------+--------------------------------+-----------------------------------------+------------------------------------------+------------------------------------------+---------------------------+------------------------------------+-------------------------------------+-------------------------------------+-------------------+-----------------+\n",
      "|summary|_c0            |year  |month             |user_account_id   |user_lifetime    |user_intake         |user_no_outgoing_activity_in_days|user_account_balance_last|user_spendings    |user_has_outgoing_calls|user_has_outgoing_sms|user_use_gprs       |user_does_reload   |reloads_inactive_days|reloads_count     |reloads_sum       |calls_outgoing_count|calls_outgoing_spendings|calls_outgoing_duration|calls_outgoing_spendings_max|calls_outgoing_duration_max|calls_outgoing_inactive_days|calls_outgoing_to_onnet_count|calls_outgoing_to_onnet_spendings|calls_outgoing_to_onnet_duration|calls_outgoing_to_onnet_inactive_days|calls_outgoing_to_offnet_count|calls_outgoing_to_offnet_spendings|calls_outgoing_to_offnet_duration|calls_outgoing_to_offnet_inactive_days|calls_outgoing_to_abroad_count|calls_outgoing_to_abroad_spendings|calls_outgoing_to_abroad_duration|calls_outgoing_to_abroad_inactive_days|sms_outgoing_count|sms_outgoing_spendings|sms_outgoing_spendings_max|sms_outgoing_inactive_days|sms_outgoing_to_onnet_count|sms_outgoing_to_onnet_spendings|sms_outgoing_to_onnet_inactive_days|sms_outgoing_to_offnet_count|sms_outgoing_to_offnet_spendings|sms_outgoing_to_offnet_inactive_days|sms_outgoing_to_abroad_count|sms_outgoing_to_abroad_spendings|sms_outgoing_to_abroad_inactive_days|sms_incoming_count|sms_incoming_spendings|sms_incoming_from_abroad_count|sms_incoming_from_abroad_spendings|gprs_session_count|gprs_usage        |gprs_spendings     |gprs_inactive_days|last_100_reloads_count|last_100_reloads_sum|last_100_calls_outgoing_duration|last_100_calls_outgoing_to_onnet_duration|last_100_calls_outgoing_to_offnet_duration|last_100_calls_outgoing_to_abroad_duration|last_100_sms_outgoing_count|last_100_sms_outgoing_to_onnet_count|last_100_sms_outgoing_to_offnet_count|last_100_sms_outgoing_to_abroad_count|last_100_gprs_usage|churn            |\n",
      "+-------+---------------+------+------------------+------------------+-----------------+--------------------+---------------------------------+-------------------------+------------------+-----------------------+---------------------+--------------------+-------------------+---------------------+------------------+------------------+--------------------+------------------------+-----------------------+----------------------------+---------------------------+----------------------------+-----------------------------+---------------------------------+--------------------------------+-------------------------------------+------------------------------+----------------------------------+---------------------------------+--------------------------------------+------------------------------+----------------------------------+---------------------------------+--------------------------------------+------------------+----------------------+--------------------------+--------------------------+---------------------------+-------------------------------+-----------------------------------+----------------------------+--------------------------------+------------------------------------+----------------------------+--------------------------------+------------------------------------+------------------+----------------------+------------------------------+----------------------------------+------------------+------------------+-------------------+------------------+----------------------+--------------------+--------------------------------+-----------------------------------------+------------------------------------------+------------------------------------------+---------------------------+------------------------------------+-------------------------------------+-------------------------------------+-------------------+-----------------+\n",
      "|count  |27814          |27814 |27814             |27814             |27814            |27814               |27814                            |27814                    |27814             |27814                  |27814                |27814               |27814              |27814                |27814             |27814             |27814               |27814                   |27814                  |27814                       |27814                      |27814                       |27814                        |27814                            |27814                           |27814                                |27814                         |27814                             |27814                            |27814                                 |27814                         |27814                             |27814                            |27814                                 |27814             |27814                 |27814                     |27814                     |27814                      |27814                          |27814                              |27814                       |27814                           |27814                               |27814                       |27814                           |27814                               |27814             |27814                 |27814                         |27814                             |27814             |27814             |27814              |27814             |27814                 |27814               |27814                           |27814                                    |27814                                     |27814                                     |27814                      |27814                               |27814                                |27814                                |27814              |27814            |\n",
      "|mean   |13906.5        |2013.0|6.435032717336593 |492354.47303516214|5948.733120011505|0.017724886747681023|95.39753361616452                |8.27934924857987         |4.72854174156895  |0.671028978212411      |0.45987632127705474  |0.028762493708204502|0.5415618034083555 |411.83483137988065   |0.788739483713238 |5.352022722369995 |22.674336664988854  |3.326585891996794       |22.027065147048326     |0.6486463651398572          |3.5661731502121197         |352.0760767958582           |0.23020780901704177          |0.12234126698784739              |0.318446106277414               |352.0760767958582                    |10.858560437189904            |2.0418400805350205                |14.374360753577285               |352.0760767958582                     |1.0651830013662185            |0.24232329042928064               |0.9043496081110222               |352.0760767958582                     |23.484971597037465|1.26494427266846      |0.06424678219600538       |604.07442295247           |1.552599410368879          |0.08072841015315821            |604.07442295247                    |14.368231825699288          |0.8632544761631021              |604.07442295247                     |0.7407061192205364          |0.09839541238225304             |604.07442295247                     |6.299165887682462 |0.0833159559933846    |0.5682749694398505            |0.0014435176529805133             |4.238620838426692 |1.192017688933629 |0.13701337455957452|1227.2874811246136|2.4934924857985186    |15.367990454447984  |69.03545624505671               |0.7956931760983689                       |46.16179693679444                         |2.270507298482783                         |70.26648450420652          |4.567124469691522                   |42.12123391098008                    |2.1429495937297762                   |3.9827770187675284 |0.5              |\n",
      "|stddev |8029.3545298901|0.0   |0.8229028484043747|495580.2878283497 |6843.330330974704|0.1319520410204022  |320.7690389992439                |17.82180368982784        |11.406080500247835|0.4698478748646359     |0.4983964497514419   |0.16714130865221258 |0.49827857970501027|581.4216551014745    |1.1006029406659366|15.301721622117693|47.57504414224048   |8.783501221690614       |51.78014212565935      |1.5382704170179908          |6.527006638901297          |575.4180782712746           |2.073965565746496            |1.2805701652415522               |3.369636508736631               |575.4180782712746                    |26.402910986875547            |4.8969076546208035                |38.76211772579916                |575.4180782712746                     |15.404801433628572            |2.631572745496011                 |7.96677012996396                 |575.4180782712746                     |74.19873380719905 |4.515067496388985     |0.2358397292314756        |643.7138964493074         |8.654123080771958          |0.4623124280832822             |643.7138964493074                  |51.54537309002217           |3.085006729817985               |643.7138964493074                   |5.4139538965538625          |0.8265987003374184              |643.7138964493074                   |11.03407879836733 |0.9540104388078956    |2.1486638645610325            |0.08326723213770537               |81.29242739731745 |24.305517117316757|2.4828396454235824 |274.9422651664891 |4.82783937296792      |38.97328053803339   |151.03826223953078              |6.603592963223109                        |111.94954397384164                        |16.117048656485906                        |207.2366580127475          |23.042626798831055                  |135.58773139723516                   |12.414632281420738                   |68.79104859372065  |0.500008988521658|\n",
      "|min    |0              |2013  |6                 |1000              |0                |0                   |0                                |0.0                      |0.0               |0                      |0                    |0                   |0                  |0                    |0                 |-1.5              |0                   |0.0                     |0.0                    |0.0                         |0.0                        |0                           |0                            |0.0                              |0.0                             |0                                    |0                             |0.0                               |0.0                              |0                                     |0                             |0.0                               |0.0                              |0                                     |0                 |0.0                   |0.0                       |0                         |0                          |0.0                            |0                                  |0                           |0.0                             |0                                   |0                           |0.0                             |0                                   |0                 |-1.85                 |0                             |0.0                               |0                 |0.0               |-0.1               |0                 |0                     |-1.0                |0.0                             |0.0                                      |0.0                                       |0.0                                       |0                          |0                                   |0                                    |0                                    |0.0                |0                |\n",
      "|25%    |6954.0         |2013.0|6.0               |60607.0           |946.0            |0.0                 |1.0                              |0.0                      |0.0               |0.0                    |0.0                  |0.0                 |0.0                |8.0                  |0.0               |0.0               |0.0                 |0.0                     |0.0                    |0.0                         |0.0                        |2.0                         |0.0                          |0.0                              |0.0                             |2.0                                  |0.0                           |0.0                               |0.0                              |2.0                                   |0.0                           |0.0                               |0.0                              |2.0                                   |0.0               |0.0                   |0.0                       |3.0                       |0.0                        |0.0                            |3.0                                |0.0                         |0.0                             |3.0                                 |0.0                         |0.0                             |3.0                                 |0.0               |0.0                   |0.0                           |0.0                               |0.0               |0.0               |0.0                |1276.0            |0.0                   |0.0                 |0.0                             |0.0                                      |0.0                                       |0.0                                       |0.0                        |0.0                                 |0.0                                  |0.0                                  |0.0                |0.0              |\n",
      "|50%    |13906.0        |2013.0|6.0               |193345.0          |1984.0           |0.0                 |3.0                              |3.39                     |0.48              |1.0                    |0.0                  |0.0                 |1.0                |25.0                 |1.0               |0.0               |6.0                 |0.15                    |2.0                    |0.15                        |1.0                        |6.0                         |0.0                          |0.0                              |0.0                             |6.0                                  |1.0                           |0.0                               |0.0                              |6.0                                   |0.0                           |0.0                               |0.0                              |6.0                                   |0.0               |0.0                   |0.0                       |53.0                      |0.0                        |0.0                            |53.0                               |0.0                         |0.0                             |53.0                                |0.0                         |0.0                             |53.0                                |3.0               |0.0                   |0.0                           |0.0                               |0.0               |0.0               |0.0                |1276.0            |1.0                   |0.0                 |11.42                           |0.0                                      |4.0                                       |0.0                                       |2.0                        |0.0                                 |0.0                                  |0.0                                  |0.0                |0.0              |\n",
      "|75%    |20858.0        |2013.0|6.0               |1127881.0         |15885.0          |0.0                 |8.0                              |11.35                    |5.4               |1.0                    |1.0                  |0.0                 |1.0                |1276.0               |1.0               |6.0               |27.0                |3.23                    |23.02                  |0.71                        |4.5                        |1276.0                      |0.0                          |0.0                              |0.0                             |1276.0                               |11.0                          |1.93                              |13.0                             |1276.0                                |0.0                           |0.0                               |0.0                              |1276.0                                |15.0              |0.81                  |0.06                      |1276.0                    |0.0                        |0.0                            |1276.0                             |7.0                         |0.36                            |1276.0                              |0.0                         |0.0                             |1276.0                              |9.0               |0.0                   |0.0                           |0.0                               |0.0               |0.0               |0.0                |1276.0            |3.0                   |19.5                |74.4                            |0.0                                      |45.42                                     |0.0                                       |53.0                       |0.0                                 |26.0                                 |0.0                                  |0.0                |1.0              |\n",
      "|max    |9999           |2013  |8                 |99993             |999              |1                   |92                               |99.95                    |99.0              |1                      |1                    |1                   |1                  |92                   |9                 |99.06             |99                  |98.16                   |99.95                  |9.99                        |9.98                       |92                          |9                            |9.95                             |94.07                           |92                                   |99                            |90.65                             |99.9                             |92                                    |99                            |98.05                             |99.93                            |92                                    |99                |9.99                  |4.0                       |92                        |99                         |9.42                           |92                                 |99                          |9.99                            |92                                  |98                          |9.9                             |92                                  |99                |9.1                   |94                            |5.0                               |994               |99.8              |99.8               |92                |97                    |99.63               |997.28                          |94.07                                    |99.95                                     |99.47                                     |999                        |99                                  |996                                  |99                                   |99.76              |1                |\n",
      "+-------+---------------+------+------------------+------------------+-----------------+--------------------+---------------------------------+-------------------------+------------------+-----------------------+---------------------+--------------------+-------------------+---------------------+------------------+------------------+--------------------+------------------------+-----------------------+----------------------------+---------------------------+----------------------------+-----------------------------+---------------------------------+--------------------------------+-------------------------------------+------------------------------+----------------------------------+---------------------------------+--------------------------------------+------------------------------+----------------------------------+---------------------------------+--------------------------------------+------------------+----------------------+--------------------------+--------------------------+---------------------------+-------------------------------+-----------------------------------+----------------------------+--------------------------------+------------------------------------+----------------------------+--------------------------------+------------------------------------+------------------+----------------------+------------------------------+----------------------------------+------------------+------------------+-------------------+------------------+----------------------+--------------------+--------------------------------+-----------------------------------------+------------------------------------------+------------------------------------------+---------------------------+------------------------------------+-------------------------------------+-------------------------------------+-------------------+-----------------+\n",
      "\n"
     ]
    }
   ],
   "source": [
    "# Statistiques Descriptives\n",
    "dfSummary = df.summary().show(truncate=False)\n"
   ]
  },
  {
   "cell_type": "code",
   "execution_count": 178,
   "id": "c79b5d8f",
   "metadata": {},
   "outputs": [
    {
     "name": "stdout",
     "output_type": "stream",
     "text": [
      "+-----+-----+\n",
      "|churn|count|\n",
      "+-----+-----+\n",
      "|    0|13907|\n",
      "|    1|13907|\n",
      "+-----+-----+\n",
      "\n"
     ]
    }
   ],
   "source": [
    "df.groupBy('churn').count().show()"
   ]
  },
  {
   "cell_type": "code",
   "execution_count": 179,
   "id": "ca85814c",
   "metadata": {},
   "outputs": [],
   "source": [
    "# ==> dataset équilibrée"
   ]
  },
  {
   "cell_type": "code",
   "execution_count": 180,
   "id": "3ef3dfd4",
   "metadata": {},
   "outputs": [
    {
     "name": "stdout",
     "output_type": "stream",
     "text": [
      "+---+----+-----+---------------+-------------+-----------+---------------------------------+-------------------------+--------------+-----------------------+---------------------+-------------+----------------+---------------------+-------------+-----------+--------------------+------------------------+-----------------------+----------------------------+---------------------------+----------------------------+-----------------------------+---------------------------------+--------------------------------+-------------------------------------+------------------------------+----------------------------------+---------------------------------+--------------------------------------+------------------------------+----------------------------------+---------------------------------+--------------------------------------+------------------+----------------------+--------------------------+--------------------------+---------------------------+-------------------------------+-----------------------------------+----------------------------+--------------------------------+------------------------------------+----------------------------+--------------------------------+------------------------------------+------------------+----------------------+------------------------------+----------------------------------+------------------+----------+--------------+------------------+----------------------+--------------------+--------------------------------+-----------------------------------------+------------------------------------------+------------------------------------------+---------------------------+------------------------------------+-------------------------------------+-------------------------------------+-------------------+-----+\n",
      "|_c0|year|month|user_account_id|user_lifetime|user_intake|user_no_outgoing_activity_in_days|user_account_balance_last|user_spendings|user_has_outgoing_calls|user_has_outgoing_sms|user_use_gprs|user_does_reload|reloads_inactive_days|reloads_count|reloads_sum|calls_outgoing_count|calls_outgoing_spendings|calls_outgoing_duration|calls_outgoing_spendings_max|calls_outgoing_duration_max|calls_outgoing_inactive_days|calls_outgoing_to_onnet_count|calls_outgoing_to_onnet_spendings|calls_outgoing_to_onnet_duration|calls_outgoing_to_onnet_inactive_days|calls_outgoing_to_offnet_count|calls_outgoing_to_offnet_spendings|calls_outgoing_to_offnet_duration|calls_outgoing_to_offnet_inactive_days|calls_outgoing_to_abroad_count|calls_outgoing_to_abroad_spendings|calls_outgoing_to_abroad_duration|calls_outgoing_to_abroad_inactive_days|sms_outgoing_count|sms_outgoing_spendings|sms_outgoing_spendings_max|sms_outgoing_inactive_days|sms_outgoing_to_onnet_count|sms_outgoing_to_onnet_spendings|sms_outgoing_to_onnet_inactive_days|sms_outgoing_to_offnet_count|sms_outgoing_to_offnet_spendings|sms_outgoing_to_offnet_inactive_days|sms_outgoing_to_abroad_count|sms_outgoing_to_abroad_spendings|sms_outgoing_to_abroad_inactive_days|sms_incoming_count|sms_incoming_spendings|sms_incoming_from_abroad_count|sms_incoming_from_abroad_spendings|gprs_session_count|gprs_usage|gprs_spendings|gprs_inactive_days|last_100_reloads_count|last_100_reloads_sum|last_100_calls_outgoing_duration|last_100_calls_outgoing_to_onnet_duration|last_100_calls_outgoing_to_offnet_duration|last_100_calls_outgoing_to_abroad_duration|last_100_sms_outgoing_count|last_100_sms_outgoing_to_onnet_count|last_100_sms_outgoing_to_offnet_count|last_100_sms_outgoing_to_abroad_count|last_100_gprs_usage|churn|\n",
      "+---+----+-----+---------------+-------------+-----------+---------------------------------+-------------------------+--------------+-----------------------+---------------------+-------------+----------------+---------------------+-------------+-----------+--------------------+------------------------+-----------------------+----------------------------+---------------------------+----------------------------+-----------------------------+---------------------------------+--------------------------------+-------------------------------------+------------------------------+----------------------------------+---------------------------------+--------------------------------------+------------------------------+----------------------------------+---------------------------------+--------------------------------------+------------------+----------------------+--------------------------+--------------------------+---------------------------+-------------------------------+-----------------------------------+----------------------------+--------------------------------+------------------------------------+----------------------------+--------------------------------+------------------------------------+------------------+----------------------+------------------------------+----------------------------------+------------------+----------+--------------+------------------+----------------------+--------------------+--------------------------------+-----------------------------------------+------------------------------------------+------------------------------------------+---------------------------+------------------------------------+-------------------------------------+-------------------------------------+-------------------+-----+\n",
      "|  0|   0|    0|              0|            0|          0|                                0|                        0|             0|                      0|                    0|            0|               0|                    0|            0|          0|                   0|                       0|                      0|                           0|                          0|                           0|                            0|                                0|                               0|                                    0|                             0|                                 0|                                0|                                     0|                             0|                                 0|                                0|                                     0|                 0|                     0|                         0|                         0|                          0|                              0|                                  0|                           0|                               0|                                   0|                           0|                               0|                                   0|                 0|                     0|                             0|                                 0|                 0|         0|             0|                 0|                     0|                   0|                               0|                                        0|                                         0|                                         0|                          0|                                   0|                                    0|                                    0|                  0|    0|\n",
      "+---+----+-----+---------------+-------------+-----------+---------------------------------+-------------------------+--------------+-----------------------+---------------------+-------------+----------------+---------------------+-------------+-----------+--------------------+------------------------+-----------------------+----------------------------+---------------------------+----------------------------+-----------------------------+---------------------------------+--------------------------------+-------------------------------------+------------------------------+----------------------------------+---------------------------------+--------------------------------------+------------------------------+----------------------------------+---------------------------------+--------------------------------------+------------------+----------------------+--------------------------+--------------------------+---------------------------+-------------------------------+-----------------------------------+----------------------------+--------------------------------+------------------------------------+----------------------------+--------------------------------+------------------------------------+------------------+----------------------+------------------------------+----------------------------------+------------------+----------+--------------+------------------+----------------------+--------------------+--------------------------------+-----------------------------------------+------------------------------------------+------------------------------------------+---------------------------+------------------------------------+-------------------------------------+-------------------------------------+-------------------+-----+\n",
      "\n"
     ]
    }
   ],
   "source": [
    "# Vérification de la présence des valeurs manquantes / nulles\n",
    "from pyspark.sql.functions import isnan, when, count, col\n",
    "df.select([count(when(isnan(c) | col(c).isNull(), c)).alias(c) for c in df.columns]).show()\n"
   ]
  },
  {
   "cell_type": "code",
   "execution_count": 181,
   "id": "3af536a9",
   "metadata": {},
   "outputs": [
    {
     "name": "stdout",
     "output_type": "stream",
     "text": [
      "+-----+-------------+-----------+---------------------------------+-------------------------+--------------+-----------------------+---------------------+-------------+----------------+---------------------+-------------+-----------+--------------------+------------------------+-----------------------+----------------------------+---------------------------+----------------------------+-----------------------------+---------------------------------+--------------------------------+-------------------------------------+------------------------------+----------------------------------+---------------------------------+--------------------------------------+------------------------------+----------------------------------+---------------------------------+--------------------------------------+------------------+----------------------+--------------------------+--------------------------+---------------------------+-------------------------------+-----------------------------------+----------------------------+--------------------------------+------------------------------------+----------------------------+--------------------------------+------------------------------------+------------------+----------------------+------------------------------+----------------------------------+------------------+----------+--------------+------------------+----------------------+--------------------+--------------------------------+-----------------------------------------+------------------------------------------+------------------------------------------+---------------------------+------------------------------------+-------------------------------------+-------------------------------------+-------------------+-----+\n",
      "|month|user_lifetime|user_intake|user_no_outgoing_activity_in_days|user_account_balance_last|user_spendings|user_has_outgoing_calls|user_has_outgoing_sms|user_use_gprs|user_does_reload|reloads_inactive_days|reloads_count|reloads_sum|calls_outgoing_count|calls_outgoing_spendings|calls_outgoing_duration|calls_outgoing_spendings_max|calls_outgoing_duration_max|calls_outgoing_inactive_days|calls_outgoing_to_onnet_count|calls_outgoing_to_onnet_spendings|calls_outgoing_to_onnet_duration|calls_outgoing_to_onnet_inactive_days|calls_outgoing_to_offnet_count|calls_outgoing_to_offnet_spendings|calls_outgoing_to_offnet_duration|calls_outgoing_to_offnet_inactive_days|calls_outgoing_to_abroad_count|calls_outgoing_to_abroad_spendings|calls_outgoing_to_abroad_duration|calls_outgoing_to_abroad_inactive_days|sms_outgoing_count|sms_outgoing_spendings|sms_outgoing_spendings_max|sms_outgoing_inactive_days|sms_outgoing_to_onnet_count|sms_outgoing_to_onnet_spendings|sms_outgoing_to_onnet_inactive_days|sms_outgoing_to_offnet_count|sms_outgoing_to_offnet_spendings|sms_outgoing_to_offnet_inactive_days|sms_outgoing_to_abroad_count|sms_outgoing_to_abroad_spendings|sms_outgoing_to_abroad_inactive_days|sms_incoming_count|sms_incoming_spendings|sms_incoming_from_abroad_count|sms_incoming_from_abroad_spendings|gprs_session_count|gprs_usage|gprs_spendings|gprs_inactive_days|last_100_reloads_count|last_100_reloads_sum|last_100_calls_outgoing_duration|last_100_calls_outgoing_to_onnet_duration|last_100_calls_outgoing_to_offnet_duration|last_100_calls_outgoing_to_abroad_duration|last_100_sms_outgoing_count|last_100_sms_outgoing_to_onnet_count|last_100_sms_outgoing_to_offnet_count|last_100_sms_outgoing_to_abroad_count|last_100_gprs_usage|churn|\n",
      "+-----+-------------+-----------+---------------------------------+-------------------------+--------------+-----------------------+---------------------+-------------+----------------+---------------------+-------------+-----------+--------------------+------------------------+-----------------------+----------------------------+---------------------------+----------------------------+-----------------------------+---------------------------------+--------------------------------+-------------------------------------+------------------------------+----------------------------------+---------------------------------+--------------------------------------+------------------------------+----------------------------------+---------------------------------+--------------------------------------+------------------+----------------------+--------------------------+--------------------------+---------------------------+-------------------------------+-----------------------------------+----------------------------+--------------------------------+------------------------------------+----------------------------+--------------------------------+------------------------------------+------------------+----------------------+------------------------------+----------------------------------+------------------+----------+--------------+------------------+----------------------+--------------------+--------------------------------+-----------------------------------------+------------------------------------------+------------------------------------------+---------------------------+------------------------------------+-------------------------------------+-------------------------------------+-------------------+-----+\n",
      "|    6|         1000|          0|                                1|                     0.05|           0.0|                      1|                    1|            0|               0|                   66|            0|        0.0|                  27|                     0.0|                   1.02|                         0.0|                       0.58|                           1|                            2|                              0.0|                             0.0|                                    1|                             6|                               0.0|                              0.0|                                     1|                             0|                               0.0|                              0.0|                                     1|                 6|                   0.0|                       0.0|                         5|                          0|                            0.0|                                  5|                           5|                             0.0|                                   5|                           0|                             0.0|                                   5|                18|                   0.0|                             0|                               0.0|                 0|       0.0|           0.0|              1276|                     4|               12.01|                           75.27|                                      0.0|                                     63.43|                                       0.0|                        210|                                   1|                                   84|                                    0|                0.0|    0|\n",
      "|    6|         1000|          0|                               25|                    28.31|          3.45|                      1|                    0|            0|               0|                 1276|            0|        0.0|                   5|                    3.45|                    9.9|                        1.51|                       4.33|                          25|                            5|                             3.45|                             9.9|                                   25|                             0|                               0.0|                              0.0|                                    25|                             5|                              3.45|                              9.9|                                    25|                 0|                   0.0|                       0.0|                      1276|                          0|                            0.0|                               1276|                           0|                             0.0|                                1276|                           0|                             0.0|                                1276|                 0|                   0.0|                             0|                               0.0|                 0|       0.0|           0.0|              1276|                     0|                 0.0|                           13.38|                                    11.18|                                       2.0|                                     11.18|                          0|                                   0|                                    0|                                    0|                0.0|    0|\n",
      "+-----+-------------+-----------+---------------------------------+-------------------------+--------------+-----------------------+---------------------+-------------+----------------+---------------------+-------------+-----------+--------------------+------------------------+-----------------------+----------------------------+---------------------------+----------------------------+-----------------------------+---------------------------------+--------------------------------+-------------------------------------+------------------------------+----------------------------------+---------------------------------+--------------------------------------+------------------------------+----------------------------------+---------------------------------+--------------------------------------+------------------+----------------------+--------------------------+--------------------------+---------------------------+-------------------------------+-----------------------------------+----------------------------+--------------------------------+------------------------------------+----------------------------+--------------------------------+------------------------------------+------------------+----------------------+------------------------------+----------------------------------+------------------+----------+--------------+------------------+----------------------+--------------------+--------------------------------+-----------------------------------------+------------------------------------------+------------------------------------------+---------------------------+------------------------------------+-------------------------------------+-------------------------------------+-------------------+-----+\n",
      "only showing top 2 rows\n",
      "\n"
     ]
    }
   ],
   "source": [
    "#Suppression des variables non nécessaires\n",
    "unuseful_columns= ['_c0','year','user_account_id']\n",
    "cleaned_df = df.drop(*unuseful_columns)\n",
    "cleaned_df.show(2)"
   ]
  },
  {
   "cell_type": "code",
   "execution_count": 182,
   "id": "29ebc9e2",
   "metadata": {},
   "outputs": [
    {
     "name": "stdout",
     "output_type": "stream",
     "text": [
      "+-----+-----+\n",
      "|churn|count|\n",
      "+-----+-----+\n",
      "|    0|13907|\n",
      "|    1|13907|\n",
      "+-----+-----+\n",
      "\n"
     ]
    }
   ],
   "source": [
    "cleaned_df.groupby('churn').count().show()"
   ]
  },
  {
   "cell_type": "code",
   "execution_count": 183,
   "id": "4dce5e0f",
   "metadata": {},
   "outputs": [],
   "source": [
    "cleaned_df = cleaned_df.select(*(col(c).cast(\"float\").alias(c) for c in cleaned_df.columns))\n"
   ]
  },
  {
   "cell_type": "code",
   "execution_count": 184,
   "id": "04b6a225",
   "metadata": {},
   "outputs": [],
   "source": [
    "# Machine Learning Pipline "
   ]
  },
  {
   "cell_type": "code",
   "execution_count": 190,
   "id": "1ec51b0c",
   "metadata": {},
   "outputs": [],
   "source": [
    "from pyspark.ml.feature import VectorAssembler\n",
    "\n",
    "assembler = VectorAssembler(inputCols=['month','user_lifetime','user_intake','user_no_outgoing_activity_in_days',\n",
    "                                       'user_account_balance_last',\n",
    "                                       'user_spendings','user_has_outgoing_calls','user_has_outgoing_sms','user_use_gprs',\n",
    "                                       'user_does_reload', 'reloads_inactive_days', 'reloads_count', 'reloads_sum',\n",
    "                                       'calls_outgoing_count',\n",
    "                                       'calls_outgoing_spendings','calls_outgoing_duration','calls_outgoing_spendings_max',\n",
    "                                       'calls_outgoing_duration_max','calls_outgoing_inactive_days','calls_outgoing_to_onnet_count',\n",
    "                                       'calls_outgoing_to_onnet_spendings','calls_outgoing_to_onnet_duration',\n",
    "                                       'calls_outgoing_to_onnet_inactive_days','calls_outgoing_to_offnet_count',\n",
    "                                       'calls_outgoing_to_offnet_spendings','calls_outgoing_to_offnet_duration',\n",
    "                                       'calls_outgoing_to_offnet_inactive_days','calls_outgoing_to_abroad_count',\n",
    "                                       'calls_outgoing_to_abroad_spendings','calls_outgoing_to_abroad_duration',\n",
    "                                       'calls_outgoing_to_abroad_inactive_days','sms_outgoing_count','sms_outgoing_spendings',\n",
    "                                       'sms_outgoing_spendings_max','sms_outgoing_inactive_days','sms_outgoing_to_onnet_count',\n",
    "                                       'sms_outgoing_to_onnet_spendings','sms_outgoing_to_onnet_inactive_days',\n",
    "                                       'sms_outgoing_to_offnet_count','sms_outgoing_to_offnet_spendings',\n",
    "                                       'sms_outgoing_to_offnet_inactive_days','sms_outgoing_to_abroad_count',\n",
    "                                       'sms_outgoing_to_abroad_spendings','sms_outgoing_to_abroad_inactive_days',\n",
    "                                       'sms_incoming_count','sms_incoming_spendings','sms_incoming_from_abroad_count',\n",
    "                                       'sms_incoming_from_abroad_spendings','gprs_session_count','gprs_usage','gprs_spendings',\n",
    "                                       'gprs_inactive_days','last_100_reloads_count','last_100_reloads_sum',\n",
    "                                       'last_100_calls_outgoing_duration','last_100_calls_outgoing_to_onnet_duration',\n",
    "                                       'last_100_calls_outgoing_to_offnet_duration','last_100_calls_outgoing_to_abroad_duration',\n",
    "                                       'last_100_sms_outgoing_count','last_100_sms_outgoing_to_onnet_count',\n",
    "                                       'last_100_sms_outgoing_to_offnet_count','last_100_sms_outgoing_to_abroad_count',\n",
    "                                       'last_100_gprs_usage'], outputCol=\"features\")\n"
   ]
  },
  {
   "cell_type": "code",
   "execution_count": 191,
   "id": "60a9c1ae",
   "metadata": {},
   "outputs": [],
   "source": [
    "output = assembler.transform(cleaned_df)"
   ]
  },
  {
   "cell_type": "code",
   "execution_count": 192,
   "id": "0de5a0f5",
   "metadata": {},
   "outputs": [],
   "source": [
    "final_df = output.select(\"features\", \"churn\")"
   ]
  },
  {
   "cell_type": "code",
   "execution_count": 193,
   "id": "896121fa",
   "metadata": {},
   "outputs": [
    {
     "name": "stdout",
     "output_type": "stream",
     "text": [
      "+--------------------+-----+\n",
      "|            features|churn|\n",
      "+--------------------+-----+\n",
      "|(63,[0,1,3,4,6,7,...|  0.0|\n",
      "|(63,[0,1,3,4,5,6,...|  0.0|\n",
      "|(63,[0,1,3,4,5,6,...|  0.0|\n",
      "|(63,[0,1,3,4,5,6,...|  0.0|\n",
      "|(63,[0,1,3,4,5,6,...|  0.0|\n",
      "+--------------------+-----+\n",
      "only showing top 5 rows\n",
      "\n"
     ]
    }
   ],
   "source": [
    "final_df.show(5)"
   ]
  },
  {
   "cell_type": "code",
   "execution_count": 194,
   "id": "5775193a",
   "metadata": {},
   "outputs": [],
   "source": [
    "train, test = final_df.randomSplit([0.7, 0.3], seed = 10)"
   ]
  },
  {
   "cell_type": "markdown",
   "id": "a4ee292b",
   "metadata": {},
   "source": [
    "# Logistic Regression "
   ]
  },
  {
   "cell_type": "code",
   "execution_count": 195,
   "id": "83f1e712",
   "metadata": {},
   "outputs": [],
   "source": [
    "from pyspark.ml.classification import LogisticRegression\n",
    "lr = LogisticRegression(labelCol=\"churn\", featuresCol=\"features\", maxIter=10)\n",
    "\n",
    "\n",
    "lrModel = lr.fit(train)\n",
    "lrModelSummary = lrModel.summary"
   ]
  },
  {
   "cell_type": "code",
   "execution_count": 196,
   "id": "1184368b",
   "metadata": {},
   "outputs": [
    {
     "name": "stdout",
     "output_type": "stream",
     "text": [
      "Accuracy : 0.876744066313134\n",
      "FPR: 0.12309346311274016\n",
      "TPR: 0.876744066313134\n",
      "F-measure: 0.876585530178116\n",
      "Precision: 0.8788343065299297\n",
      "Recall: 0.876744066313134\n",
      "AreaUnderROC: 0.9322921328681154\n"
     ]
    }
   ],
   "source": [
    "accuracy =lrModelSummary.accuracy\n",
    "falsePositiveRate = lrModelSummary.weightedFalsePositiveRate\n",
    "truePositiveRate = lrModelSummary.weightedTruePositiveRate\n",
    "fMeasure = lrModelSummary.weightedFMeasure()\n",
    "precision = lrModelSummary.weightedPrecision\n",
    "recall = lrModelSummary.weightedRecall\n",
    "print(\"Accuracy : %s\\nFPR: %s\\nTPR: %s\\nF-measure: %s\\nPrecision: %s\\nRecall: %s\\nAreaUnderROC: %s\"\n",
    "      % (accuracy, falsePositiveRate, truePositiveRate, fMeasure, precision, recall,\n",
    "         lrModelSummary.areaUnderROC))"
   ]
  },
  {
   "cell_type": "code",
   "execution_count": 200,
   "id": "aec3c774",
   "metadata": {},
   "outputs": [
    {
     "data": {
      "image/png": "[encoded data removed]",
      "text/plain": [
       "<Figure size 432x288 with 1 Axes>"
      ]
     },
     "metadata": {
      "needs_background": "light"
     },
     "output_type": "display_data"
    },
    {
     "name": "stdout",
     "output_type": "stream",
     "text": [
      "Training set areaUnderROC: 0.9322921328681154\n"
     ]
    }
   ],
   "source": [
    "trainingSummary = lrModel.summary\n",
    "roc = trainingSummary.roc.toPandas()\n",
    "plt.plot(roc['FPR'],roc['TPR'])\n",
    "plt.ylabel('True Positive Rate')\n",
    "plt.xlabel('False Positive Rate')\n",
    "plt.title('ROC Curve')\n",
    "plt.show()\n",
    "print('Training set areaUnderROC: ' + str(trainingSummary.areaUnderROC))"
   ]
  },
  {
   "cell_type": "code",
   "execution_count": 388,
   "id": "533ecc07",
   "metadata": {},
   "outputs": [
    {
     "name": "stdout",
     "output_type": "stream",
     "text": [
      "Area Under Curve = 0.872132\n"
     ]
    }
   ],
   "source": [
    "\n",
    "predictions = lrModel.transform(test)\n",
    "\n",
    "evaluatorLR = BinaryClassificationEvaluator(rawPredictionCol='prediction', labelCol = 'churn')\n",
    "area_under_curveLR = evaluatorLR.evaluate(predictions,  {evaluator.metricName: \"areaUnderROC\"})\n",
    "\n",
    "print(\"Area Under Curve = %g\" % area_under_curveLR)\n"
   ]
  },
  {
   "cell_type": "code",
   "execution_count": 333,
   "id": "5b95b601",
   "metadata": {},
   "outputs": [
    {
     "name": "stdout",
     "output_type": "stream",
     "text": [
      "+--------------------+-----+--------------------+--------------------+----------+\n",
      "|            features|churn|       rawPrediction|         probability|prediction|\n",
      "+--------------------+-----+--------------------+--------------------+----------+\n",
      "|(63,[0,1,2,3,4,5,...|  1.0|[-4.1632687920810...|[0.01531832198536...|       1.0|\n",
      "|(63,[0,1,2,3,4,5,...|  1.0|[-6.1664656783318...|[0.00209424511095...|       1.0|\n",
      "|(63,[0,1,2,3,4,5,...|  1.0|[-7.7312774017129...|[4.38690594913013...|       1.0|\n",
      "|(63,[0,1,2,3,4,5,...|  0.0|[-7.7582542329743...|[4.2701930137476E...|       1.0|\n",
      "|(63,[0,1,2,3,4,5,...|  1.0|[-7.6130380339591...|[4.93724997562589...|       1.0|\n",
      "|(63,[0,1,2,3,4,6,...|  1.0|[-8.0915274304783...|[3.06028138164769...|       1.0|\n",
      "|(63,[0,1,2,3,6,9,...|  1.0|[-7.9588721472521...|[3.49424992412447...|       1.0|\n",
      "|(63,[0,1,3,4,5,6,...|  0.0|[1.91114443319212...|[0.87114766437961...|       0.0|\n",
      "|(63,[0,1,3,4,5,6,...|  0.0|[1.17255296831496...|[0.76360616669841...|       0.0|\n",
      "|(63,[0,1,3,4,5,6,...|  0.0|[1.68953953439381...|[0.84416359457100...|       0.0|\n",
      "|(63,[0,1,3,4,5,6,...|  1.0|[2.61659187311713...|[0.93192180075902...|       0.0|\n",
      "|(63,[0,1,3,4,5,6,...|  1.0|[1.45955638265888...|[0.81146481529341...|       0.0|\n",
      "|(63,[0,1,3,4,5,6,...|  0.0|[1.45093846174124...|[0.81014282214160...|       0.0|\n",
      "|(63,[0,1,3,4,5,6,...|  0.0|[1.35117791590211...|[0.79432213631488...|       0.0|\n",
      "|(63,[0,1,3,4,5,6,...|  0.0|[2.83905250003606...|[0.94475002600498...|       0.0|\n",
      "|(63,[0,1,3,4,5,6,...|  1.0|[1.23173710529629...|[0.77412246370245...|       0.0|\n",
      "|(63,[0,1,3,4,5,6,...|  1.0|[1.29139851855882...|[0.78438380888531...|       0.0|\n",
      "|(63,[0,1,3,4,5,6,...|  1.0|[1.82313849557515...|[0.86094229561854...|       0.0|\n",
      "|(63,[0,1,3,4,5,6,...|  0.0|[2.19446930054573...|[0.89975175164873...|       0.0|\n",
      "|(63,[0,1,3,4,5,6,...|  0.0|[2.40874266830614...|[0.91749155079994...|       0.0|\n",
      "+--------------------+-----+--------------------+--------------------+----------+\n",
      "only showing top 20 rows\n",
      "\n"
     ]
    }
   ],
   "source": [
    "predictions.show()"
   ]
  },
  {
   "cell_type": "code",
   "execution_count": 383,
   "id": "81def5f0",
   "metadata": {},
   "outputs": [
    {
     "name": "stdout",
     "output_type": "stream",
     "text": [
      "Correct:7320\n",
      "Wrong:1071\n",
      "tp:3452\n",
      "fp:349\n",
      "fn:722\n",
      "tn:3868\n",
      "Accuracy: 87.23632463353593\n",
      "Precision: 90.8182057353328\n",
      "Recall: 82.7024436990896\n"
     ]
    }
   ],
   "source": [
    "resultsLR = predictions.select(['prediction', 'churn'])\n",
    "\n",
    "count = predictions.count()\n",
    "correct = resultsLR.filter(resultsLR.prediction == resultsLR.churn).count()\n",
    "wrong = resultsLR.filter(resultsLR.prediction != resultsLR.churn).count()\n",
    "tp = resultsLR.filter(resultsLR.prediction ==1.0).filter(resultsLR.prediction == resultsLR.churn).count()\n",
    "fp = resultsLR.filter(resultsLR.prediction ==1.0).filter(resultsLR.prediction != resultsLR.churn).count()\n",
    "fn = resultsLR.filter(resultsLR.prediction ==0.0).filter(resultsLR.prediction != resultsLR.churn).count()\n",
    "tn = resultsLR.filter(resultsLR.prediction ==0.0).filter(resultsLR.prediction == resultsLR.churn).count()\n",
    "\n",
    "\n",
    "accuracyLR = ((tp+tn)/count)*100\n",
    "precisionLR = (tp/(tp+fp))*100\n",
    "recallLR = (tp/(tp+fn))*100\n",
    "print(\"Correct:{}\\nWrong:{}\\ntp:{}\\nfp:{}\\nfn:{}\\ntn:{}\\nAccuracy: {}\\nPrecision: {}\\nRecall: {}\".format(correct, wrong, tp, fp, fn, tn, accuracyLR, precisionLR, recallLR))\n"
   ]
  },
  {
   "cell_type": "code",
   "execution_count": 387,
   "id": "77eef336",
   "metadata": {},
   "outputs": [
    {
     "name": "stdout",
     "output_type": "stream",
     "text": [
      "                 Model   Accuracy  Precision     Recall  areaUnderROC\n",
      "0  Logistic Regression  87.236325  90.818206  82.702444      0.872132\n"
     ]
    }
   ],
   "source": [
    "resultsLR = pd.DataFrame([['Logistic Regression', \n",
    "accuracyLR, precisionLR, recallLR, area_under_curveLR ]], columns = ['Model', \n",
    "'Accuracy', 'Precision', 'Recall','areaUnderROC' ])\n",
    "\n",
    "resultsLR = resultsLR.sort_values([\"Precision\", \n",
    "\"Recall\", \"a\n",
    "                                   reaUnderROC\"], ascending = False)\n",
    "print (resultsLR)"
   ]
  },
  {
   "cell_type": "code",
   "execution_count": 289,
   "id": "ee2558c7",
   "metadata": {},
   "outputs": [],
   "source": [
    "from pyspark.ml.tuning import ParamGridBuilder, CrossValidator\n",
    "\n",
    "paraGrid = (ParamGridBuilder()\n",
    "            .addGrid(lr.regParam, [0.01, 0.5, 2.0])\n",
    "            .addGrid(lr.elasticNetParam, [0.0, 0.5, 1.0])\n",
    "            .addGrid(lr.maxIter, [5, 10, 20])\n",
    "            .build())\n",
    "\n"
   ]
  },
  {
   "cell_type": "code",
   "execution_count": 290,
   "id": "eed378f9",
   "metadata": {},
   "outputs": [],
   "source": [
    "cv = CrossValidator(estimator=lr, estimatorParamMaps=paraGrid, evaluator=evaluatorLR, numFolds=5)\n",
    "cvModel = cv.fit(train)"
   ]
  },
  {
   "cell_type": "code",
   "execution_count": 291,
   "id": "20896944",
   "metadata": {},
   "outputs": [],
   "source": [
    "predictions = cvModel.bestModel.transform(test)"
   ]
  },
  {
   "cell_type": "code",
   "execution_count": 292,
   "id": "7580888d",
   "metadata": {},
   "outputs": [
    {
     "name": "stdout",
     "output_type": "stream",
     "text": [
      "Correct:7333\n",
      "Wrong:1058\n",
      "tp:3479\n",
      "fp:363\n",
      "fn:695\n",
      "tn:3854\n",
      "Accuracy: 87.39125253247528\n",
      "Precision: 90.55179593961479\n",
      "Recall: 83.34930522280786\n",
      "areaUnderROC: 0.9224277484101303\n"
     ]
    }
   ],
   "source": [
    "resultsModel = predictions.select(['prediction', 'churn'])\n",
    "\n",
    "count = predictions.count()\n",
    "correct = resultsModel.filter(resultsModel.prediction == resultsModel.churn).count()\n",
    "wrong = resultsModel.filter(resultsModel.prediction != resultsModel.churn).count()\n",
    "tp = resultsModel.filter(resultsModel.prediction ==1.0).filter(resultsModel.prediction == resultsModel.churn).count()\n",
    "fp = resultsModel.filter(resultsModel.prediction ==1.0).filter(resultsModel.prediction != resultsModel.churn).count()\n",
    "fn = resultsModel.filter(resultsModel.prediction ==0.0).filter(resultsModel.prediction != resultsModel.churn).count()\n",
    "tn = resultsModel.filter(resultsModel.prediction ==0.0).filter(resultsModel.prediction == resultsModel.churn).count()\n",
    "\n",
    "\n",
    "accuracy = ((tp+tn)/count)*100\n",
    "precision = (tp/(tp+fp))*100\n",
    "recall = (tp/(tp+fn))*100\n",
    "areaUnderROC = metrics.areaUnderROC\n",
    "print(\"Correct:{}\\nWrong:{}\\ntp:{}\\nfp:{}\\nfn:{}\\ntn:{}\\nAccuracy: {}\\nPrecision: {}\\nRecall: {}\\nareaUnderROC: {}\".format(correct, wrong, tp, fp, fn, tn, accuracy, precision, recall, areaUnderROC))\n"
   ]
  },
  {
   "cell_type": "markdown",
   "id": "75ad1b0f",
   "metadata": {},
   "source": [
    "### Random Forest"
   ]
  },
  {
   "cell_type": "code",
   "execution_count": 343,
   "id": "f1076796",
   "metadata": {},
   "outputs": [],
   "source": [
    "from pyspark.ml.classification import RandomForestClassifier\n",
    " \n",
    "rf = RandomForestClassifier(labelCol=\"churn\", featuresCol=\"features\").setImpurity(\"gini\").setMaxDepth(6).setNumTrees(50).setFeatureSubsetStrategy(\"auto\").setSeed(4500)\n",
    " \n",
    "rfModel = rf.fit(train)"
   ]
  },
  {
   "cell_type": "code",
   "execution_count": 389,
   "id": "8d490e63",
   "metadata": {},
   "outputs": [
    {
     "name": "stdout",
     "output_type": "stream",
     "text": [
      "areUnderCurve = 0.904485\n"
     ]
    }
   ],
   "source": [
    "predictions = rfModel.transform(test)\n",
    "evaluatorRF = BinaryClassificationEvaluator(rawPredictionCol='prediction', labelCol = 'churn')\n",
    "area_under_curveRF = evaluatorRF.evaluate(predictions,  {evaluator.metricName: \"areaUnderROC\"})\n",
    "\n",
    "print(\"areUnderCurve = %g\" % area_under_curveRF)\n"
   ]
  },
  {
   "cell_type": "code",
   "execution_count": 390,
   "id": "97d8178d",
   "metadata": {},
   "outputs": [
    {
     "name": "stdout",
     "output_type": "stream",
     "text": [
      "Correct:7591\n",
      "Wrong:800\n",
      "tp:3633\n",
      "fp:259\n",
      "fn:541\n",
      "tn:3958\n",
      "Accuracy: 90.46597544988678\n",
      "Precision: 93.34532374100719\n",
      "Recall: 87.03881169142309\n"
     ]
    }
   ],
   "source": [
    "resultsRF = predictions.select(['prediction', 'churn'])\n",
    "\n",
    "count = predictions.count()\n",
    "correct = resultsRF.filter(resultsRF.prediction == resultsRF.churn).count()\n",
    "wrong = resultsRF.filter(resultsRF.prediction != resultsRF.churn).count()\n",
    "tp = resultsRF.filter(resultsRF.prediction ==1.0).filter(resultsRF.prediction == resultsRF.churn).count()\n",
    "fp = resultsRF.filter(resultsRF.prediction ==1.0).filter(resultsRF.prediction != resultsRF.churn).count()\n",
    "fn = resultsRF.filter(resultsRF.prediction ==0.0).filter(resultsRF.prediction != resultsRF.churn).count()\n",
    "tn = resultsRF.filter(resultsRF.prediction ==0.0).filter(resultsRF.prediction == resultsRF.churn).count()\n",
    "\n",
    "\n",
    "accuracyRF = ((tp+tn)/count)*100\n",
    "precisionRF = (tp/(tp+fp))*100\n",
    "recallRF = (tp/(tp+fn))*100\n",
    "print(\"Correct:{}\\nWrong:{}\\ntp:{}\\nfp:{}\\nfn:{}\\ntn:{}\\nAccuracy: {}\\nPrecision: {}\\nRecall: {}\".format(correct, wrong, tp, fp, fn, tn, accuracyRF, precisionRF, recallRF))\n"
   ]
  },
  {
   "cell_type": "code",
   "execution_count": 391,
   "id": "fc547d21",
   "metadata": {},
   "outputs": [
    {
     "name": "stdout",
     "output_type": "stream",
     "text": [
      "           Model   Accuracy  Precision     Recall  areaUnderROC\n",
      "0  Random Forest  90.465975  93.345324  87.038812      0.904485\n"
     ]
    }
   ],
   "source": [
    "resultsRF = pd.DataFrame([['Random Forest', \n",
    "accuracyRF, precisionRF, recallRF, area_under_curveRF]], columns = ['Model', \n",
    "'Accuracy', 'Precision', 'Recall','areaUnderROC'])\n",
    "\n",
    "\n",
    "resultsRF = resultsRF.sort_values([\"Precision\", \n",
    "\"Recall\", \"areaUnderROC\"], ascending = False)\n",
    "print (resultsRF)"
   ]
  },
  {
   "cell_type": "markdown",
   "id": "36e3144a",
   "metadata": {},
   "source": [
    "# Gradient-Boosted Trees (GBTs)"
   ]
  },
  {
   "cell_type": "code",
   "execution_count": 347,
   "id": "9a0760ea",
   "metadata": {},
   "outputs": [],
   "source": [
    "from pyspark.ml.classification import GBTClassifier\n",
    "gbt = GBTClassifier(labelCol=\"churn\", featuresCol=\"features\", maxIter=20)"
   ]
  },
  {
   "cell_type": "code",
   "execution_count": 348,
   "id": "d6622db7",
   "metadata": {},
   "outputs": [],
   "source": [
    "gbtModel =gbt.fit(train)\n"
   ]
  },
  {
   "cell_type": "code",
   "execution_count": 392,
   "id": "ccb6a62c",
   "metadata": {},
   "outputs": [
    {
     "name": "stdout",
     "output_type": "stream",
     "text": [
      "areUnderCurve = 0.922428\n"
     ]
    }
   ],
   "source": [
    "predictions = gbtModel.transform(test)\n",
    "evaluatorGBT = BinaryClassificationEvaluator(rawPredictionCol='prediction', labelCol = 'churn')\n",
    "area_under_curveGBT = evaluatorGBT.evaluate(predictions,  {evaluator.metricName: \"areaUnderROC\"})\n",
    "\n",
    "print(\"areUnderCurve = %g\" % area_under_curveGBT)\n"
   ]
  },
  {
   "cell_type": "code",
   "execution_count": 393,
   "id": "118ff02f",
   "metadata": {},
   "outputs": [
    {
     "name": "stdout",
     "output_type": "stream",
     "text": [
      "Correct:7741\n",
      "Wrong:650\n",
      "tp:3762\n",
      "fp:238\n",
      "fn:412\n",
      "tn:3979\n",
      "Accuracy: 92.25360505303301\n",
      "Precision: 94.05\n",
      "Recall: 90.12937230474365\n"
     ]
    }
   ],
   "source": [
    "resultsGBT = predictions.select(['prediction', 'churn'])\n",
    "\n",
    "count = predictions.count()\n",
    "correct = resultsGBT.filter(resultsGBT.prediction == resultsGBT.churn).count()\n",
    "wrong = resultsGBT.filter(resultsGBT.prediction != resultsGBT.churn).count()\n",
    "tp = resultsGBT.filter(resultsGBT.prediction ==1.0).filter(resultsGBT.prediction == resultsGBT.churn).count()\n",
    "fp = resultsGBT.filter(resultsGBT.prediction ==1.0).filter(resultsGBT.prediction != resultsGBT.churn).count()\n",
    "fn = resultsGBT.filter(resultsGBT.prediction ==0.0).filter(resultsGBT.prediction != resultsGBT.churn).count()\n",
    "tn = resultsGBT.filter(resultsGBT.prediction ==0.0).filter(resultsGBT.prediction == resultsGBT.churn).count()\n",
    "\n",
    "\n",
    "accuracyGBT = ((tp+tn)/count)*100\n",
    "precisionGBT = (tp/(tp+fp))*100\n",
    "recallGBT = (tp/(tp+fn))*100\n",
    "print(\"Correct:{}\\nWrong:{}\\ntp:{}\\nfp:{}\\nfn:{}\\ntn:{}\\nAccuracy: {}\\nPrecision: {}\\nRecall: {}\".format(correct, wrong, tp, fp, fn, tn, accuracyGBT, precisionGBT, recallGBT))\n"
   ]
  },
  {
   "cell_type": "code",
   "execution_count": 394,
   "id": "00dba3a3",
   "metadata": {},
   "outputs": [
    {
     "name": "stdout",
     "output_type": "stream",
     "text": [
      "                    Model   Accuracy  Precision     Recall  areaUnderROC\n",
      "0  Gradient-Boosted Trees  92.253605      94.05  90.129372      0.922428\n"
     ]
    }
   ],
   "source": [
    "resultsGBT = pd.DataFrame([['Gradient-Boosted Trees', \n",
    "accuracyGBT, precisionGBT, recallGBT, area_under_curveGBT]], columns = ['Model', \n",
    "'Accuracy', 'Precision', 'Recall','areaUnderROC'])\n",
    "\n",
    "resultsGBT = resultsGBT.sort_values([\"Precision\", \n",
    "\"Recall\", \"areaUnderROC\"], ascending = False)\n",
    "print (resultsGBT)"
   ]
  },
  {
   "cell_type": "markdown",
   "id": "c43fcadc",
   "metadata": {},
   "source": [
    "### Decision Tree"
   ]
  },
  {
   "cell_type": "code",
   "execution_count": 352,
   "id": "0b610273",
   "metadata": {},
   "outputs": [],
   "source": [
    "from pyspark.ml.classification import DecisionTreeClassifier\n",
    "dt = DecisionTreeClassifier(featuresCol = 'features', labelCol = 'churn', maxDepth = 3)\n",
    "dtModel = dt.fit(train)\n"
   ]
  },
  {
   "cell_type": "code",
   "execution_count": 395,
   "id": "77074a0b",
   "metadata": {},
   "outputs": [
    {
     "name": "stdout",
     "output_type": "stream",
     "text": [
      "areUnderCurve = 0.90857\n"
     ]
    }
   ],
   "source": [
    "predictions = dtModel.transform(test)\n",
    "evaluatorDT = BinaryClassificationEvaluator(rawPredictionCol='prediction', labelCol = 'churn')\n",
    "area_under_curveDT = evaluatorDT.evaluate(predictions,  {evaluator.metricName: \"areaUnderROC\"})\n",
    "\n",
    "print(\"areUnderCurve = %g\" % area_under_curveDT)\n"
   ]
  },
  {
   "cell_type": "code",
   "execution_count": 396,
   "id": "29ac711d",
   "metadata": {},
   "outputs": [
    {
     "name": "stdout",
     "output_type": "stream",
     "text": [
      "Correct:7625\n",
      "Wrong:766\n",
      "tp:3677\n",
      "fp:269\n",
      "fn:497\n",
      "tn:3948\n",
      "Accuracy: 90.8711714932666\n",
      "Precision: 93.18297009630005\n",
      "Recall: 88.09295639674174\n"
     ]
    }
   ],
   "source": [
    "resultsDT = predictions.select(['prediction', 'churn'])\n",
    "\n",
    "count = predictions.count()\n",
    "correct = resultsDT.filter(resultsDT.prediction == resultsDT.churn).count()\n",
    "wrong = resultsDT.filter(resultsDT.prediction != resultsDT.churn).count()\n",
    "tp = resultsDT.filter(resultsDT.prediction ==1.0).filter(resultsDT.prediction == resultsDT.churn).count()\n",
    "fp = resultsDT.filter(resultsDT.prediction ==1.0).filter(resultsDT.prediction != resultsDT.churn).count()\n",
    "fn = resultsDT.filter(resultsDT.prediction ==0.0).filter(resultsDT.prediction != resultsDT.churn).count()\n",
    "tn = resultsDT.filter(resultsDT.prediction ==0.0).filter(resultsDT.prediction == resultsDT.churn).count()\n",
    "\n",
    "\n",
    "accuracyDT = ((tp+tn)/count)*100\n",
    "precisionDT = (tp/(tp+fp))*100\n",
    "recallDT = (tp/(tp+fn))*100\n",
    "print(\"Correct:{}\\nWrong:{}\\ntp:{}\\nfp:{}\\nfn:{}\\ntn:{}\\nAccuracy: {}\\nPrecision: {}\\nRecall: {}\".format(correct, wrong, tp, fp, fn, tn, accuracyDT, precisionDT, recallDT))\n"
   ]
  },
  {
   "cell_type": "code",
   "execution_count": 397,
   "id": "6a1ad8d2",
   "metadata": {},
   "outputs": [
    {
     "name": "stdout",
     "output_type": "stream",
     "text": [
      "           Model   Accuracy  Precision     Recall  areaUnderROC\n",
      "0  Decision Tree  90.871171   93.18297  88.092956       0.90857\n"
     ]
    }
   ],
   "source": [
    "resultsDT = pd.DataFrame([['Decision Tree', \n",
    "accuracyDT, precisionDT, recallDT, area_under_curveDT]], columns = ['Model', \n",
    "'Accuracy', 'Precision', 'Recall','areaUnderROC'])\n",
    "\n",
    "\n",
    "resultsDT = resultsDT.sort_values([\"Precision\", \n",
    "\"Recall\", \"areaUnderROC\"], ascending = False)\n",
    "print (resultsDT)"
   ]
  },
  {
   "cell_type": "code",
   "execution_count": 398,
   "id": "f9d4162b",
   "metadata": {
    "scrolled": false
   },
   "outputs": [
    {
     "data": {
      "text/html": [
       "<div>\n",
       "<style scoped>\n",
       "    .dataframe tbody tr th:only-of-type {\n",
       "        vertical-align: middle;\n",
       "    }\n",
       "\n",
       "    .dataframe tbody tr th {\n",
       "        vertical-align: top;\n",
       "    }\n",
       "\n",
       "    .dataframe thead th {\n",
       "        text-align: right;\n",
       "    }\n",
       "</style>\n",
       "<table border=\"1\" class=\"dataframe\">\n",
       "  <thead>\n",
       "    <tr style=\"text-align: right;\">\n",
       "      <th></th>\n",
       "      <th>Model</th>\n",
       "      <th>Accuracy</th>\n",
       "      <th>Precision</th>\n",
       "      <th>Recall</th>\n",
       "      <th>areaUnderROC</th>\n",
       "    </tr>\n",
       "  </thead>\n",
       "  <tbody>\n",
       "    <tr>\n",
       "      <th>2</th>\n",
       "      <td>Gradient-Boosted Trees</td>\n",
       "      <td>92.253605</td>\n",
       "      <td>94.050000</td>\n",
       "      <td>90.129372</td>\n",
       "      <td>0.922428</td>\n",
       "    </tr>\n",
       "    <tr>\n",
       "      <th>1</th>\n",
       "      <td>Random Forest</td>\n",
       "      <td>90.465975</td>\n",
       "      <td>93.345324</td>\n",
       "      <td>87.038812</td>\n",
       "      <td>0.904485</td>\n",
       "    </tr>\n",
       "    <tr>\n",
       "      <th>3</th>\n",
       "      <td>Decision Tree</td>\n",
       "      <td>90.871171</td>\n",
       "      <td>93.182970</td>\n",
       "      <td>88.092956</td>\n",
       "      <td>0.908570</td>\n",
       "    </tr>\n",
       "    <tr>\n",
       "      <th>0</th>\n",
       "      <td>Logistic Regression</td>\n",
       "      <td>87.236325</td>\n",
       "      <td>90.818206</td>\n",
       "      <td>82.702444</td>\n",
       "      <td>0.872132</td>\n",
       "    </tr>\n",
       "  </tbody>\n",
       "</table>\n",
       "</div>"
      ],
      "text/plain": [
       "                    Model   Accuracy  Precision     Recall  areaUnderROC\n",
       "2  Gradient-Boosted Trees  92.253605  94.050000  90.129372      0.922428\n",
       "1           Random Forest  90.465975  93.345324  87.038812      0.904485\n",
       "3           Decision Tree  90.871171  93.182970  88.092956      0.908570\n",
       "0     Logistic Regression  87.236325  90.818206  82.702444      0.872132"
      ]
     },
     "execution_count": 398,
     "metadata": {},
     "output_type": "execute_result"
    }
   ],
   "source": [
    "models_evaluation =pd.concat([resultsLR, resultsRF, resultsGBT, resultsDT], ignore_index=True)\n",
    "models_evaluation = models_evaluation.sort_values([\"Precision\", \"Recall\", \"areaUnderROC\"], ascending = False)\n",
    "models_evaluation"
   ]
  },
  {
   "cell_type": "code",
   "execution_count": 399,
   "id": "5c81859c",
   "metadata": {},
   "outputs": [
    {
     "data": {
      "image/png": "[encoded data removed]",
      "text/plain": [
       "<IPython.core.display.Image object>"
      ]
     },
     "execution_count": 399,
     "metadata": {},
     "output_type": "execute_result"
    }
   ],
   "source": [
    "from IPython.display import Image\n",
    "Image(filename='metrics.png') "
   ]
  },
  {
   "cell_type": "code",
   "execution_count": null,
   "id": "eb3a6ba5",
   "metadata": {},
   "outputs": [],
   "source": [
    "#D'aprés les résultats obtenus, le modèle Gradient Bossted Trees est le plus précis pour notre problème de classification\n",
    "# par rapport aux autres modèles que nous avons essayé."
   ]
  },
  {
   "cell_type": "markdown",
   "id": "4d67ad72",
   "metadata": {},
   "source": [
    "# Save The Model"
   ]
  },
  {
   "cell_type": "code",
   "execution_count": 411,
   "id": "94b7a2b4",
   "metadata": {},
   "outputs": [],
   "source": [
    "modelPath = '/work/'\n",
    "gbtModel.write().overwrite().save(\"gbt\")\n"
   ]
  },
  {
   "cell_type": "markdown",
   "id": "0c94a6aa",
   "metadata": {},
   "source": [
    "# Loading Saved Model"
   ]
  },
  {
   "cell_type": "code",
   "execution_count": 414,
   "id": "3eae9ed7",
   "metadata": {},
   "outputs": [],
   "source": [
    "from pyspark.ml.classification import GBTClassificationModel\n",
    "\n",
    "savedModel = GBTClassificationModel.load('gbt')\n"
   ]
  },
  {
   "cell_type": "markdown",
   "id": "a02208b7",
   "metadata": {},
   "source": [
    "# Consumer"
   ]
  },
  {
   "cell_type": "code",
   "execution_count": 147,
   "id": "e5c9b471",
   "metadata": {},
   "outputs": [
    {
     "name": "stdout",
     "output_type": "stream",
     "text": [
      "2147\n",
      "[{'month': 6, 'user_lifetime': 3, 'user_intake': 1, 'user_no_outgoing_activity_in_days': 1, 'user_account_balance_last': 23.79, 'user_spendings': 0.21, 'user_has_outgoing_calls': 1, 'user_has_outgoing_sms': 1, 'user_use_gprs': 0, 'user_does_reload': 1, 'reloads_inactive_days': 3, 'reloads_count': 1, 'reloads_sum': 24.02, 'calls_outgoing_count': 3, 'calls_outgoing_spendings': 0.0, 'calls_outgoing_duration': 1.18, 'calls_outgoing_spendings_max': 0.0, 'calls_outgoing_duration_max': 1.18, 'calls_outgoing_inactive_days': 1, 'calls_outgoing_to_onnet_count': 0, 'calls_outgoing_to_onnet_spendings': 0, 'calls_outgoing_to_onnet_duration': 0, 'calls_outgoing_to_onnet_inactive_days': 1, 'calls_outgoing_to_offnet_count': 0, 'calls_outgoing_to_offnet_spendings': 0.0, 'calls_outgoing_to_offnet_duration': 0.0, 'calls_outgoing_to_offnet_inactive_days': 1, 'calls_outgoing_to_abroad_count': 0, 'calls_outgoing_to_abroad_spendings': 0, 'calls_outgoing_to_abroad_duration': 0, 'calls_outgoing_to_abroad_inactive_days': 1, 'sms_outgoing_count': 6, 'sms_outgoing_spendings': 0.21, 'sms_outgoing_spendings_max': 0.15, 'sms_outgoing_inactive_days': 1, 'sms_outgoing_to_onnet_count': 4, 'sms_outgoing_to_onnet_spendings': 0.0, 'sms_outgoing_to_onnet_inactive_days': 1, 'sms_outgoing_to_offnet_count': 1, 'sms_outgoing_to_offnet_spendings': 0.06, 'sms_outgoing_to_offnet_inactive_days': 1, 'sms_outgoing_to_abroad_count': 0, 'sms_outgoing_to_abroad_spendings': 0, 'sms_outgoing_to_abroad_inactive_days': 1, 'sms_incoming_count': 1, 'sms_incoming_spendings': 0, 'sms_incoming_from_abroad_count': 0, 'sms_incoming_from_abroad_spendings': 0, 'gprs_session_count': 0, 'gprs_usage': 0.0, 'gprs_spendings': 0.0, 'gprs_inactive_days': 1276, 'last_100_reloads_count': 4, 'last_100_reloads_sum': 24.015, 'last_100_calls_outgoing_duration': 1.18, 'last_100_calls_outgoing_to_onnet_duration': 0, 'last_100_calls_outgoing_to_offnet_duration': 0.0, 'last_100_calls_outgoing_to_abroad_duration': 0, 'last_100_sms_outgoing_count': 6, 'last_100_sms_outgoing_to_onnet_count': 4, 'last_100_sms_outgoing_to_offnet_count': 1, 'last_100_sms_outgoing_to_abroad_count': 0, 'last_100_gprs_usage': 0.0, 'churn': 0}, {'month': 6, 'user_lifetime': 3, 'user_intake': 1, 'user_no_outgoing_activity_in_days': 1, 'user_account_balance_last': 10.91, 'user_spendings': 28.64, 'user_has_outgoing_calls': 1, 'user_has_outgoing_sms': 1, 'user_use_gprs': 1, 'user_does_reload': 1, 'reloads_inactive_days': 1, 'reloads_count': 3, 'reloads_sum': 29.0, 'calls_outgoing_count': 61, 'calls_outgoing_spendings': 5.77, 'calls_outgoing_duration': 37.93, 'calls_outgoing_spendings_max': 0.59, 'calls_outgoing_duration_max': 3.95, 'calls_outgoing_inactive_days': 1, 'calls_outgoing_to_onnet_count': 0, 'calls_outgoing_to_onnet_spendings': 0, 'calls_outgoing_to_onnet_duration': 0, 'calls_outgoing_to_onnet_inactive_days': 1, 'calls_outgoing_to_offnet_count': 42, 'calls_outgoing_to_offnet_spendings': 3.75, 'calls_outgoing_to_offnet_duration': 25.0, 'calls_outgoing_to_offnet_inactive_days': 1, 'calls_outgoing_to_abroad_count': 0, 'calls_outgoing_to_abroad_spendings': 0, 'calls_outgoing_to_abroad_duration': 0, 'calls_outgoing_to_abroad_inactive_days': 1, 'sms_outgoing_count': 12, 'sms_outgoing_spendings': 1.17, 'sms_outgoing_spendings_max': 0.5, 'sms_outgoing_inactive_days': 1, 'sms_outgoing_to_onnet_count': 0, 'sms_outgoing_to_onnet_spendings': 0.0, 'sms_outgoing_to_onnet_inactive_days': 1, 'sms_outgoing_to_offnet_count': 2, 'sms_outgoing_to_offnet_spendings': 0.12, 'sms_outgoing_to_offnet_inactive_days': 1, 'sms_outgoing_to_abroad_count': 0, 'sms_outgoing_to_abroad_spendings': 0, 'sms_outgoing_to_abroad_inactive_days': 1, 'sms_incoming_count': 63, 'sms_incoming_spendings': 0, 'sms_incoming_from_abroad_count': 0, 'sms_incoming_from_abroad_spendings': 0, 'gprs_session_count': 1030, 'gprs_usage': 499.16, 'gprs_spendings': 21.7, 'gprs_inactive_days': 1, 'last_100_reloads_count': 5, 'last_100_reloads_sum': 29.0, 'last_100_calls_outgoing_duration': 36.93, 'last_100_calls_outgoing_to_onnet_duration': 0, 'last_100_calls_outgoing_to_offnet_duration': 25.0, 'last_100_calls_outgoing_to_abroad_duration': 0, 'last_100_sms_outgoing_count': 12, 'last_100_sms_outgoing_to_onnet_count': 0, 'last_100_sms_outgoing_to_offnet_count': 2, 'last_100_sms_outgoing_to_abroad_count': 0, 'last_100_gprs_usage': 417.84, 'churn': 0}, {'month': 6, 'user_lifetime': 3, 'user_intake': 1, 'user_no_outgoing_activity_in_days': 1, 'user_account_balance_last': 6.75, 'user_spendings': 8.25, 'user_has_outgoing_calls': 1, 'user_has_outgoing_sms': 0, 'user_use_gprs': 0, 'user_does_reload': 1, 'reloads_inactive_days': 3, 'reloads_count': 1, 'reloads_sum': 15.0, 'calls_outgoing_count': 48, 'calls_outgoing_spendings': 8.25, 'calls_outgoing_duration': 54.37, 'calls_outgoing_spendings_max': 0.82, 'calls_outgoing_duration_max': 5.43, 'calls_outgoing_inactive_days': 1, 'calls_outgoing_to_onnet_count': 0, 'calls_outgoing_to_onnet_spendings': 0, 'calls_outgoing_to_onnet_duration': 0, 'calls_outgoing_to_onnet_inactive_days': 1, 'calls_outgoing_to_offnet_count': 33, 'calls_outgoing_to_offnet_spendings': 7.42, 'calls_outgoing_to_offnet_duration': 49.48, 'calls_outgoing_to_offnet_inactive_days': 1, 'calls_outgoing_to_abroad_count': 0, 'calls_outgoing_to_abroad_spendings': 0, 'calls_outgoing_to_abroad_duration': 0, 'calls_outgoing_to_abroad_inactive_days': 1, 'sms_outgoing_count': 0, 'sms_outgoing_spendings': 0.0, 'sms_outgoing_spendings_max': 0.0, 'sms_outgoing_inactive_days': 1276, 'sms_outgoing_to_onnet_count': 0, 'sms_outgoing_to_onnet_spendings': 0.0, 'sms_outgoing_to_onnet_inactive_days': 1276, 'sms_outgoing_to_offnet_count': 0, 'sms_outgoing_to_offnet_spendings': 0.0, 'sms_outgoing_to_offnet_inactive_days': 1276, 'sms_outgoing_to_abroad_count': 0, 'sms_outgoing_to_abroad_spendings': 0, 'sms_outgoing_to_abroad_inactive_days': 1276, 'sms_incoming_count': 9, 'sms_incoming_spendings': 0, 'sms_incoming_from_abroad_count': 0, 'sms_incoming_from_abroad_spendings': 0, 'gprs_session_count': 0, 'gprs_usage': 0.0, 'gprs_spendings': 0.0, 'gprs_inactive_days': 1276, 'last_100_reloads_count': 2, 'last_100_reloads_sum': 15.0, 'last_100_calls_outgoing_duration': 53.37, 'last_100_calls_outgoing_to_onnet_duration': 0, 'last_100_calls_outgoing_to_offnet_duration': 48.48, 'last_100_calls_outgoing_to_abroad_duration': 0, 'last_100_sms_outgoing_count': 0, 'last_100_sms_outgoing_to_onnet_count': 0, 'last_100_sms_outgoing_to_offnet_count': 0, 'last_100_sms_outgoing_to_abroad_count': 0, 'last_100_gprs_usage': 0.0, 'churn': 0}, {'month': 6, 'user_lifetime': 3, 'user_intake': 1, 'user_no_outgoing_activity_in_days': 1, 'user_account_balance_last': 1.8, 'user_spendings': 12.87, 'user_has_outgoing_calls': 1, 'user_has_outgoing_sms': 1, 'user_use_gprs': 0, 'user_does_reload': 1, 'reloads_inactive_days': 3, 'reloads_count': 1, 'reloads_sum': 15.0, 'calls_outgoing_count': 41, 'calls_outgoing_spendings': 12.39, 'calls_outgoing_duration': 82.62, 'calls_outgoing_spendings_max': 2.61, 'calls_outgoing_duration_max': 17.38, 'calls_outgoing_inactive_days': 1, 'calls_outgoing_to_onnet_count': 0, 'calls_outgoing_to_onnet_spendings': 0, 'calls_outgoing_to_onnet_duration': 0, 'calls_outgoing_to_onnet_inactive_days': 1, 'calls_outgoing_to_offnet_count': 17, 'calls_outgoing_to_offnet_spendings': 8.98, 'calls_outgoing_to_offnet_duration': 59.88, 'calls_outgoing_to_offnet_inactive_days': 1, 'calls_outgoing_to_abroad_count': 0, 'calls_outgoing_to_abroad_spendings': 0, 'calls_outgoing_to_abroad_duration': 0, 'calls_outgoing_to_abroad_inactive_days': 1, 'sms_outgoing_count': 10, 'sms_outgoing_spendings': 0.48, 'sms_outgoing_spendings_max': 0.06, 'sms_outgoing_inactive_days': 1, 'sms_outgoing_to_onnet_count': 0, 'sms_outgoing_to_onnet_spendings': 0.0, 'sms_outgoing_to_onnet_inactive_days': 1, 'sms_outgoing_to_offnet_count': 8, 'sms_outgoing_to_offnet_spendings': 0.48, 'sms_outgoing_to_offnet_inactive_days': 1, 'sms_outgoing_to_abroad_count': 0, 'sms_outgoing_to_abroad_spendings': 0, 'sms_outgoing_to_abroad_inactive_days': 1, 'sms_incoming_count': 2, 'sms_incoming_spendings': 0, 'sms_incoming_from_abroad_count': 0, 'sms_incoming_from_abroad_spendings': 0, 'gprs_session_count': 0, 'gprs_usage': 0.0, 'gprs_spendings': 0.0, 'gprs_inactive_days': 1276, 'last_100_reloads_count': 2, 'last_100_reloads_sum': 15.0, 'last_100_calls_outgoing_duration': 65.1, 'last_100_calls_outgoing_to_onnet_duration': 0, 'last_100_calls_outgoing_to_offnet_duration': 43.62, 'last_100_calls_outgoing_to_abroad_duration': 0, 'last_100_sms_outgoing_count': 7, 'last_100_sms_outgoing_to_onnet_count': 0, 'last_100_sms_outgoing_to_offnet_count': 5, 'last_100_sms_outgoing_to_abroad_count': 0, 'last_100_gprs_usage': 0.0, 'churn': 0}, {'month': 6, 'user_lifetime': 3, 'user_intake': 1, 'user_no_outgoing_activity_in_days': 3, 'user_account_balance_last': 48.0, 'user_spendings': 0.0, 'user_has_outgoing_calls': 1, 'user_has_outgoing_sms': 1, 'user_use_gprs': 0, 'user_does_reload': 1, 'reloads_inactive_days': 3, 'reloads_count': 1, 'reloads_sum': 48.03, 'calls_outgoing_count': 3, 'calls_outgoing_spendings': 0.0, 'calls_outgoing_duration': 4.25, 'calls_outgoing_spendings_max': 0.0, 'calls_outgoing_duration_max': 3.77, 'calls_outgoing_inactive_days': 3, 'calls_outgoing_to_onnet_count': 0, 'calls_outgoing_to_onnet_spendings': 0, 'calls_outgoing_to_onnet_duration': 0, 'calls_outgoing_to_onnet_inactive_days': 3, 'calls_outgoing_to_offnet_count': 0, 'calls_outgoing_to_offnet_spendings': 0.0, 'calls_outgoing_to_offnet_duration': 0.0, 'calls_outgoing_to_offnet_inactive_days': 3, 'calls_outgoing_to_abroad_count': 0, 'calls_outgoing_to_abroad_spendings': 0, 'calls_outgoing_to_abroad_duration': 0, 'calls_outgoing_to_abroad_inactive_days': 3, 'sms_outgoing_count': 2, 'sms_outgoing_spendings': 0.0, 'sms_outgoing_spendings_max': 0.0, 'sms_outgoing_inactive_days': 3, 'sms_outgoing_to_onnet_count': 0, 'sms_outgoing_to_onnet_spendings': 0.0, 'sms_outgoing_to_onnet_inactive_days': 3, 'sms_outgoing_to_offnet_count': 0, 'sms_outgoing_to_offnet_spendings': 0.0, 'sms_outgoing_to_offnet_inactive_days': 3, 'sms_outgoing_to_abroad_count': 0, 'sms_outgoing_to_abroad_spendings': 0, 'sms_outgoing_to_abroad_inactive_days': 3, 'sms_incoming_count': 1, 'sms_incoming_spendings': 0, 'sms_incoming_from_abroad_count': 0, 'sms_incoming_from_abroad_spendings': 0, 'gprs_session_count': 0, 'gprs_usage': 0.0, 'gprs_spendings': 0.0, 'gprs_inactive_days': 1276, 'last_100_reloads_count': 7, 'last_100_reloads_sum': 48.03, 'last_100_calls_outgoing_duration': 4.25, 'last_100_calls_outgoing_to_onnet_duration': 0, 'last_100_calls_outgoing_to_offnet_duration': 0.0, 'last_100_calls_outgoing_to_abroad_duration': 0, 'last_100_sms_outgoing_count': 2, 'last_100_sms_outgoing_to_onnet_count': 0, 'last_100_sms_outgoing_to_offnet_count': 0, 'last_100_sms_outgoing_to_abroad_count': 0, 'last_100_gprs_usage': 0.0, 'churn': 0}]\n"
     ]
    },
    {
     "name": "stdout",
     "output_type": "stream",
     "text": [
      "2148\n",
      "[{'month': 6, 'user_lifetime': 3, 'user_intake': 1, 'user_no_outgoing_activity_in_days': 1, 'user_account_balance_last': 23.79, 'user_spendings': 0.21, 'user_has_outgoing_calls': 1, 'user_has_outgoing_sms': 1, 'user_use_gprs': 0, 'user_does_reload': 1, 'reloads_inactive_days': 3, 'reloads_count': 1, 'reloads_sum': 24.02, 'calls_outgoing_count': 3, 'calls_outgoing_spendings': 0.0, 'calls_outgoing_duration': 1.18, 'calls_outgoing_spendings_max': 0.0, 'calls_outgoing_duration_max': 1.18, 'calls_outgoing_inactive_days': 1, 'calls_outgoing_to_onnet_count': 0, 'calls_outgoing_to_onnet_spendings': 0, 'calls_outgoing_to_onnet_duration': 0, 'calls_outgoing_to_onnet_inactive_days': 1, 'calls_outgoing_to_offnet_count': 0, 'calls_outgoing_to_offnet_spendings': 0.0, 'calls_outgoing_to_offnet_duration': 0.0, 'calls_outgoing_to_offnet_inactive_days': 1, 'calls_outgoing_to_abroad_count': 0, 'calls_outgoing_to_abroad_spendings': 0, 'calls_outgoing_to_abroad_duration': 0, 'calls_outgoing_to_abroad_inactive_days': 1, 'sms_outgoing_count': 6, 'sms_outgoing_spendings': 0.21, 'sms_outgoing_spendings_max': 0.15, 'sms_outgoing_inactive_days': 1, 'sms_outgoing_to_onnet_count': 4, 'sms_outgoing_to_onnet_spendings': 0.0, 'sms_outgoing_to_onnet_inactive_days': 1, 'sms_outgoing_to_offnet_count': 1, 'sms_outgoing_to_offnet_spendings': 0.06, 'sms_outgoing_to_offnet_inactive_days': 1, 'sms_outgoing_to_abroad_count': 0, 'sms_outgoing_to_abroad_spendings': 0, 'sms_outgoing_to_abroad_inactive_days': 1, 'sms_incoming_count': 1, 'sms_incoming_spendings': 0, 'sms_incoming_from_abroad_count': 0, 'sms_incoming_from_abroad_spendings': 0, 'gprs_session_count': 0, 'gprs_usage': 0.0, 'gprs_spendings': 0.0, 'gprs_inactive_days': 1276, 'last_100_reloads_count': 4, 'last_100_reloads_sum': 24.015, 'last_100_calls_outgoing_duration': 1.18, 'last_100_calls_outgoing_to_onnet_duration': 0, 'last_100_calls_outgoing_to_offnet_duration': 0.0, 'last_100_calls_outgoing_to_abroad_duration': 0, 'last_100_sms_outgoing_count': 6, 'last_100_sms_outgoing_to_onnet_count': 4, 'last_100_sms_outgoing_to_offnet_count': 1, 'last_100_sms_outgoing_to_abroad_count': 0, 'last_100_gprs_usage': 0.0, 'churn': 0}, {'month': 6, 'user_lifetime': 3, 'user_intake': 1, 'user_no_outgoing_activity_in_days': 1, 'user_account_balance_last': 10.91, 'user_spendings': 28.64, 'user_has_outgoing_calls': 1, 'user_has_outgoing_sms': 1, 'user_use_gprs': 1, 'user_does_reload': 1, 'reloads_inactive_days': 1, 'reloads_count': 3, 'reloads_sum': 29.0, 'calls_outgoing_count': 61, 'calls_outgoing_spendings': 5.77, 'calls_outgoing_duration': 37.93, 'calls_outgoing_spendings_max': 0.59, 'calls_outgoing_duration_max': 3.95, 'calls_outgoing_inactive_days': 1, 'calls_outgoing_to_onnet_count': 0, 'calls_outgoing_to_onnet_spendings': 0, 'calls_outgoing_to_onnet_duration': 0, 'calls_outgoing_to_onnet_inactive_days': 1, 'calls_outgoing_to_offnet_count': 42, 'calls_outgoing_to_offnet_spendings': 3.75, 'calls_outgoing_to_offnet_duration': 25.0, 'calls_outgoing_to_offnet_inactive_days': 1, 'calls_outgoing_to_abroad_count': 0, 'calls_outgoing_to_abroad_spendings': 0, 'calls_outgoing_to_abroad_duration': 0, 'calls_outgoing_to_abroad_inactive_days': 1, 'sms_outgoing_count': 12, 'sms_outgoing_spendings': 1.17, 'sms_outgoing_spendings_max': 0.5, 'sms_outgoing_inactive_days': 1, 'sms_outgoing_to_onnet_count': 0, 'sms_outgoing_to_onnet_spendings': 0.0, 'sms_outgoing_to_onnet_inactive_days': 1, 'sms_outgoing_to_offnet_count': 2, 'sms_outgoing_to_offnet_spendings': 0.12, 'sms_outgoing_to_offnet_inactive_days': 1, 'sms_outgoing_to_abroad_count': 0, 'sms_outgoing_to_abroad_spendings': 0, 'sms_outgoing_to_abroad_inactive_days': 1, 'sms_incoming_count': 63, 'sms_incoming_spendings': 0, 'sms_incoming_from_abroad_count': 0, 'sms_incoming_from_abroad_spendings': 0, 'gprs_session_count': 1030, 'gprs_usage': 499.16, 'gprs_spendings': 21.7, 'gprs_inactive_days': 1, 'last_100_reloads_count': 5, 'last_100_reloads_sum': 29.0, 'last_100_calls_outgoing_duration': 36.93, 'last_100_calls_outgoing_to_onnet_duration': 0, 'last_100_calls_outgoing_to_offnet_duration': 25.0, 'last_100_calls_outgoing_to_abroad_duration': 0, 'last_100_sms_outgoing_count': 12, 'last_100_sms_outgoing_to_onnet_count': 0, 'last_100_sms_outgoing_to_offnet_count': 2, 'last_100_sms_outgoing_to_abroad_count': 0, 'last_100_gprs_usage': 417.84, 'churn': 0}, {'month': 6, 'user_lifetime': 3, 'user_intake': 1, 'user_no_outgoing_activity_in_days': 1, 'user_account_balance_last': 6.75, 'user_spendings': 8.25, 'user_has_outgoing_calls': 1, 'user_has_outgoing_sms': 0, 'user_use_gprs': 0, 'user_does_reload': 1, 'reloads_inactive_days': 3, 'reloads_count': 1, 'reloads_sum': 15.0, 'calls_outgoing_count': 48, 'calls_outgoing_spendings': 8.25, 'calls_outgoing_duration': 54.37, 'calls_outgoing_spendings_max': 0.82, 'calls_outgoing_duration_max': 5.43, 'calls_outgoing_inactive_days': 1, 'calls_outgoing_to_onnet_count': 0, 'calls_outgoing_to_onnet_spendings': 0, 'calls_outgoing_to_onnet_duration': 0, 'calls_outgoing_to_onnet_inactive_days': 1, 'calls_outgoing_to_offnet_count': 33, 'calls_outgoing_to_offnet_spendings': 7.42, 'calls_outgoing_to_offnet_duration': 49.48, 'calls_outgoing_to_offnet_inactive_days': 1, 'calls_outgoing_to_abroad_count': 0, 'calls_outgoing_to_abroad_spendings': 0, 'calls_outgoing_to_abroad_duration': 0, 'calls_outgoing_to_abroad_inactive_days': 1, 'sms_outgoing_count': 0, 'sms_outgoing_spendings': 0.0, 'sms_outgoing_spendings_max': 0.0, 'sms_outgoing_inactive_days': 1276, 'sms_outgoing_to_onnet_count': 0, 'sms_outgoing_to_onnet_spendings': 0.0, 'sms_outgoing_to_onnet_inactive_days': 1276, 'sms_outgoing_to_offnet_count': 0, 'sms_outgoing_to_offnet_spendings': 0.0, 'sms_outgoing_to_offnet_inactive_days': 1276, 'sms_outgoing_to_abroad_count': 0, 'sms_outgoing_to_abroad_spendings': 0, 'sms_outgoing_to_abroad_inactive_days': 1276, 'sms_incoming_count': 9, 'sms_incoming_spendings': 0, 'sms_incoming_from_abroad_count': 0, 'sms_incoming_from_abroad_spendings': 0, 'gprs_session_count': 0, 'gprs_usage': 0.0, 'gprs_spendings': 0.0, 'gprs_inactive_days': 1276, 'last_100_reloads_count': 2, 'last_100_reloads_sum': 15.0, 'last_100_calls_outgoing_duration': 53.37, 'last_100_calls_outgoing_to_onnet_duration': 0, 'last_100_calls_outgoing_to_offnet_duration': 48.48, 'last_100_calls_outgoing_to_abroad_duration': 0, 'last_100_sms_outgoing_count': 0, 'last_100_sms_outgoing_to_onnet_count': 0, 'last_100_sms_outgoing_to_offnet_count': 0, 'last_100_sms_outgoing_to_abroad_count': 0, 'last_100_gprs_usage': 0.0, 'churn': 0}, {'month': 6, 'user_lifetime': 3, 'user_intake': 1, 'user_no_outgoing_activity_in_days': 1, 'user_account_balance_last': 1.8, 'user_spendings': 12.87, 'user_has_outgoing_calls': 1, 'user_has_outgoing_sms': 1, 'user_use_gprs': 0, 'user_does_reload': 1, 'reloads_inactive_days': 3, 'reloads_count': 1, 'reloads_sum': 15.0, 'calls_outgoing_count': 41, 'calls_outgoing_spendings': 12.39, 'calls_outgoing_duration': 82.62, 'calls_outgoing_spendings_max': 2.61, 'calls_outgoing_duration_max': 17.38, 'calls_outgoing_inactive_days': 1, 'calls_outgoing_to_onnet_count': 0, 'calls_outgoing_to_onnet_spendings': 0, 'calls_outgoing_to_onnet_duration': 0, 'calls_outgoing_to_onnet_inactive_days': 1, 'calls_outgoing_to_offnet_count': 17, 'calls_outgoing_to_offnet_spendings': 8.98, 'calls_outgoing_to_offnet_duration': 59.88, 'calls_outgoing_to_offnet_inactive_days': 1, 'calls_outgoing_to_abroad_count': 0, 'calls_outgoing_to_abroad_spendings': 0, 'calls_outgoing_to_abroad_duration': 0, 'calls_outgoing_to_abroad_inactive_days': 1, 'sms_outgoing_count': 10, 'sms_outgoing_spendings': 0.48, 'sms_outgoing_spendings_max': 0.06, 'sms_outgoing_inactive_days': 1, 'sms_outgoing_to_onnet_count': 0, 'sms_outgoing_to_onnet_spendings': 0.0, 'sms_outgoing_to_onnet_inactive_days': 1, 'sms_outgoing_to_offnet_count': 8, 'sms_outgoing_to_offnet_spendings': 0.48, 'sms_outgoing_to_offnet_inactive_days': 1, 'sms_outgoing_to_abroad_count': 0, 'sms_outgoing_to_abroad_spendings': 0, 'sms_outgoing_to_abroad_inactive_days': 1, 'sms_incoming_count': 2, 'sms_incoming_spendings': 0, 'sms_incoming_from_abroad_count': 0, 'sms_incoming_from_abroad_spendings': 0, 'gprs_session_count': 0, 'gprs_usage': 0.0, 'gprs_spendings': 0.0, 'gprs_inactive_days': 1276, 'last_100_reloads_count': 2, 'last_100_reloads_sum': 15.0, 'last_100_calls_outgoing_duration': 65.1, 'last_100_calls_outgoing_to_onnet_duration': 0, 'last_100_calls_outgoing_to_offnet_duration': 43.62, 'last_100_calls_outgoing_to_abroad_duration': 0, 'last_100_sms_outgoing_count': 7, 'last_100_sms_outgoing_to_onnet_count': 0, 'last_100_sms_outgoing_to_offnet_count': 5, 'last_100_sms_outgoing_to_abroad_count': 0, 'last_100_gprs_usage': 0.0, 'churn': 0}, {'month': 6, 'user_lifetime': 3, 'user_intake': 1, 'user_no_outgoing_activity_in_days': 3, 'user_account_balance_last': 48.0, 'user_spendings': 0.0, 'user_has_outgoing_calls': 1, 'user_has_outgoing_sms': 1, 'user_use_gprs': 0, 'user_does_reload': 1, 'reloads_inactive_days': 3, 'reloads_count': 1, 'reloads_sum': 48.03, 'calls_outgoing_count': 3, 'calls_outgoing_spendings': 0.0, 'calls_outgoing_duration': 4.25, 'calls_outgoing_spendings_max': 0.0, 'calls_outgoing_duration_max': 3.77, 'calls_outgoing_inactive_days': 3, 'calls_outgoing_to_onnet_count': 0, 'calls_outgoing_to_onnet_spendings': 0, 'calls_outgoing_to_onnet_duration': 0, 'calls_outgoing_to_onnet_inactive_days': 3, 'calls_outgoing_to_offnet_count': 0, 'calls_outgoing_to_offnet_spendings': 0.0, 'calls_outgoing_to_offnet_duration': 0.0, 'calls_outgoing_to_offnet_inactive_days': 3, 'calls_outgoing_to_abroad_count': 0, 'calls_outgoing_to_abroad_spendings': 0, 'calls_outgoing_to_abroad_duration': 0, 'calls_outgoing_to_abroad_inactive_days': 3, 'sms_outgoing_count': 2, 'sms_outgoing_spendings': 0.0, 'sms_outgoing_spendings_max': 0.0, 'sms_outgoing_inactive_days': 3, 'sms_outgoing_to_onnet_count': 0, 'sms_outgoing_to_onnet_spendings': 0.0, 'sms_outgoing_to_onnet_inactive_days': 3, 'sms_outgoing_to_offnet_count': 0, 'sms_outgoing_to_offnet_spendings': 0.0, 'sms_outgoing_to_offnet_inactive_days': 3, 'sms_outgoing_to_abroad_count': 0, 'sms_outgoing_to_abroad_spendings': 0, 'sms_outgoing_to_abroad_inactive_days': 3, 'sms_incoming_count': 1, 'sms_incoming_spendings': 0, 'sms_incoming_from_abroad_count': 0, 'sms_incoming_from_abroad_spendings': 0, 'gprs_session_count': 0, 'gprs_usage': 0.0, 'gprs_spendings': 0.0, 'gprs_inactive_days': 1276, 'last_100_reloads_count': 7, 'last_100_reloads_sum': 48.03, 'last_100_calls_outgoing_duration': 4.25, 'last_100_calls_outgoing_to_onnet_duration': 0, 'last_100_calls_outgoing_to_offnet_duration': 0.0, 'last_100_calls_outgoing_to_abroad_duration': 0, 'last_100_sms_outgoing_count': 2, 'last_100_sms_outgoing_to_onnet_count': 0, 'last_100_sms_outgoing_to_offnet_count': 0, 'last_100_sms_outgoing_to_abroad_count': 0, 'last_100_gprs_usage': 0.0, 'churn': 0}]\n"
     ]
    },
    {
     "name": "stdout",
     "output_type": "stream",
     "text": [
      "2149\n",
      "[{'month': 6, 'user_lifetime': 3, 'user_intake': 1, 'user_no_outgoing_activity_in_days': 1, 'user_account_balance_last': 23.79, 'user_spendings': 0.21, 'user_has_outgoing_calls': 1, 'user_has_outgoing_sms': 1, 'user_use_gprs': 0, 'user_does_reload': 1, 'reloads_inactive_days': 3, 'reloads_count': 1, 'reloads_sum': 24.02, 'calls_outgoing_count': 3, 'calls_outgoing_spendings': 0.0, 'calls_outgoing_duration': 1.18, 'calls_outgoing_spendings_max': 0.0, 'calls_outgoing_duration_max': 1.18, 'calls_outgoing_inactive_days': 1, 'calls_outgoing_to_onnet_count': 0, 'calls_outgoing_to_onnet_spendings': 0, 'calls_outgoing_to_onnet_duration': 0, 'calls_outgoing_to_onnet_inactive_days': 1, 'calls_outgoing_to_offnet_count': 0, 'calls_outgoing_to_offnet_spendings': 0.0, 'calls_outgoing_to_offnet_duration': 0.0, 'calls_outgoing_to_offnet_inactive_days': 1, 'calls_outgoing_to_abroad_count': 0, 'calls_outgoing_to_abroad_spendings': 0, 'calls_outgoing_to_abroad_duration': 0, 'calls_outgoing_to_abroad_inactive_days': 1, 'sms_outgoing_count': 6, 'sms_outgoing_spendings': 0.21, 'sms_outgoing_spendings_max': 0.15, 'sms_outgoing_inactive_days': 1, 'sms_outgoing_to_onnet_count': 4, 'sms_outgoing_to_onnet_spendings': 0.0, 'sms_outgoing_to_onnet_inactive_days': 1, 'sms_outgoing_to_offnet_count': 1, 'sms_outgoing_to_offnet_spendings': 0.06, 'sms_outgoing_to_offnet_inactive_days': 1, 'sms_outgoing_to_abroad_count': 0, 'sms_outgoing_to_abroad_spendings': 0, 'sms_outgoing_to_abroad_inactive_days': 1, 'sms_incoming_count': 1, 'sms_incoming_spendings': 0, 'sms_incoming_from_abroad_count': 0, 'sms_incoming_from_abroad_spendings': 0, 'gprs_session_count': 0, 'gprs_usage': 0.0, 'gprs_spendings': 0.0, 'gprs_inactive_days': 1276, 'last_100_reloads_count': 4, 'last_100_reloads_sum': 24.015, 'last_100_calls_outgoing_duration': 1.18, 'last_100_calls_outgoing_to_onnet_duration': 0, 'last_100_calls_outgoing_to_offnet_duration': 0.0, 'last_100_calls_outgoing_to_abroad_duration': 0, 'last_100_sms_outgoing_count': 6, 'last_100_sms_outgoing_to_onnet_count': 4, 'last_100_sms_outgoing_to_offnet_count': 1, 'last_100_sms_outgoing_to_abroad_count': 0, 'last_100_gprs_usage': 0.0, 'churn': 0}, {'month': 6, 'user_lifetime': 3, 'user_intake': 1, 'user_no_outgoing_activity_in_days': 1, 'user_account_balance_last': 10.91, 'user_spendings': 28.64, 'user_has_outgoing_calls': 1, 'user_has_outgoing_sms': 1, 'user_use_gprs': 1, 'user_does_reload': 1, 'reloads_inactive_days': 1, 'reloads_count': 3, 'reloads_sum': 29.0, 'calls_outgoing_count': 61, 'calls_outgoing_spendings': 5.77, 'calls_outgoing_duration': 37.93, 'calls_outgoing_spendings_max': 0.59, 'calls_outgoing_duration_max': 3.95, 'calls_outgoing_inactive_days': 1, 'calls_outgoing_to_onnet_count': 0, 'calls_outgoing_to_onnet_spendings': 0, 'calls_outgoing_to_onnet_duration': 0, 'calls_outgoing_to_onnet_inactive_days': 1, 'calls_outgoing_to_offnet_count': 42, 'calls_outgoing_to_offnet_spendings': 3.75, 'calls_outgoing_to_offnet_duration': 25.0, 'calls_outgoing_to_offnet_inactive_days': 1, 'calls_outgoing_to_abroad_count': 0, 'calls_outgoing_to_abroad_spendings': 0, 'calls_outgoing_to_abroad_duration': 0, 'calls_outgoing_to_abroad_inactive_days': 1, 'sms_outgoing_count': 12, 'sms_outgoing_spendings': 1.17, 'sms_outgoing_spendings_max': 0.5, 'sms_outgoing_inactive_days': 1, 'sms_outgoing_to_onnet_count': 0, 'sms_outgoing_to_onnet_spendings': 0.0, 'sms_outgoing_to_onnet_inactive_days': 1, 'sms_outgoing_to_offnet_count': 2, 'sms_outgoing_to_offnet_spendings': 0.12, 'sms_outgoing_to_offnet_inactive_days': 1, 'sms_outgoing_to_abroad_count': 0, 'sms_outgoing_to_abroad_spendings': 0, 'sms_outgoing_to_abroad_inactive_days': 1, 'sms_incoming_count': 63, 'sms_incoming_spendings': 0, 'sms_incoming_from_abroad_count': 0, 'sms_incoming_from_abroad_spendings': 0, 'gprs_session_count': 1030, 'gprs_usage': 499.16, 'gprs_spendings': 21.7, 'gprs_inactive_days': 1, 'last_100_reloads_count': 5, 'last_100_reloads_sum': 29.0, 'last_100_calls_outgoing_duration': 36.93, 'last_100_calls_outgoing_to_onnet_duration': 0, 'last_100_calls_outgoing_to_offnet_duration': 25.0, 'last_100_calls_outgoing_to_abroad_duration': 0, 'last_100_sms_outgoing_count': 12, 'last_100_sms_outgoing_to_onnet_count': 0, 'last_100_sms_outgoing_to_offnet_count': 2, 'last_100_sms_outgoing_to_abroad_count': 0, 'last_100_gprs_usage': 417.84, 'churn': 0}, {'month': 6, 'user_lifetime': 3, 'user_intake': 1, 'user_no_outgoing_activity_in_days': 1, 'user_account_balance_last': 6.75, 'user_spendings': 8.25, 'user_has_outgoing_calls': 1, 'user_has_outgoing_sms': 0, 'user_use_gprs': 0, 'user_does_reload': 1, 'reloads_inactive_days': 3, 'reloads_count': 1, 'reloads_sum': 15.0, 'calls_outgoing_count': 48, 'calls_outgoing_spendings': 8.25, 'calls_outgoing_duration': 54.37, 'calls_outgoing_spendings_max': 0.82, 'calls_outgoing_duration_max': 5.43, 'calls_outgoing_inactive_days': 1, 'calls_outgoing_to_onnet_count': 0, 'calls_outgoing_to_onnet_spendings': 0, 'calls_outgoing_to_onnet_duration': 0, 'calls_outgoing_to_onnet_inactive_days': 1, 'calls_outgoing_to_offnet_count': 33, 'calls_outgoing_to_offnet_spendings': 7.42, 'calls_outgoing_to_offnet_duration': 49.48, 'calls_outgoing_to_offnet_inactive_days': 1, 'calls_outgoing_to_abroad_count': 0, 'calls_outgoing_to_abroad_spendings': 0, 'calls_outgoing_to_abroad_duration': 0, 'calls_outgoing_to_abroad_inactive_days': 1, 'sms_outgoing_count': 0, 'sms_outgoing_spendings': 0.0, 'sms_outgoing_spendings_max': 0.0, 'sms_outgoing_inactive_days': 1276, 'sms_outgoing_to_onnet_count': 0, 'sms_outgoing_to_onnet_spendings': 0.0, 'sms_outgoing_to_onnet_inactive_days': 1276, 'sms_outgoing_to_offnet_count': 0, 'sms_outgoing_to_offnet_spendings': 0.0, 'sms_outgoing_to_offnet_inactive_days': 1276, 'sms_outgoing_to_abroad_count': 0, 'sms_outgoing_to_abroad_spendings': 0, 'sms_outgoing_to_abroad_inactive_days': 1276, 'sms_incoming_count': 9, 'sms_incoming_spendings': 0, 'sms_incoming_from_abroad_count': 0, 'sms_incoming_from_abroad_spendings': 0, 'gprs_session_count': 0, 'gprs_usage': 0.0, 'gprs_spendings': 0.0, 'gprs_inactive_days': 1276, 'last_100_reloads_count': 2, 'last_100_reloads_sum': 15.0, 'last_100_calls_outgoing_duration': 53.37, 'last_100_calls_outgoing_to_onnet_duration': 0, 'last_100_calls_outgoing_to_offnet_duration': 48.48, 'last_100_calls_outgoing_to_abroad_duration': 0, 'last_100_sms_outgoing_count': 0, 'last_100_sms_outgoing_to_onnet_count': 0, 'last_100_sms_outgoing_to_offnet_count': 0, 'last_100_sms_outgoing_to_abroad_count': 0, 'last_100_gprs_usage': 0.0, 'churn': 0}, {'month': 6, 'user_lifetime': 3, 'user_intake': 1, 'user_no_outgoing_activity_in_days': 1, 'user_account_balance_last': 1.8, 'user_spendings': 12.87, 'user_has_outgoing_calls': 1, 'user_has_outgoing_sms': 1, 'user_use_gprs': 0, 'user_does_reload': 1, 'reloads_inactive_days': 3, 'reloads_count': 1, 'reloads_sum': 15.0, 'calls_outgoing_count': 41, 'calls_outgoing_spendings': 12.39, 'calls_outgoing_duration': 82.62, 'calls_outgoing_spendings_max': 2.61, 'calls_outgoing_duration_max': 17.38, 'calls_outgoing_inactive_days': 1, 'calls_outgoing_to_onnet_count': 0, 'calls_outgoing_to_onnet_spendings': 0, 'calls_outgoing_to_onnet_duration': 0, 'calls_outgoing_to_onnet_inactive_days': 1, 'calls_outgoing_to_offnet_count': 17, 'calls_outgoing_to_offnet_spendings': 8.98, 'calls_outgoing_to_offnet_duration': 59.88, 'calls_outgoing_to_offnet_inactive_days': 1, 'calls_outgoing_to_abroad_count': 0, 'calls_outgoing_to_abroad_spendings': 0, 'calls_outgoing_to_abroad_duration': 0, 'calls_outgoing_to_abroad_inactive_days': 1, 'sms_outgoing_count': 10, 'sms_outgoing_spendings': 0.48, 'sms_outgoing_spendings_max': 0.06, 'sms_outgoing_inactive_days': 1, 'sms_outgoing_to_onnet_count': 0, 'sms_outgoing_to_onnet_spendings': 0.0, 'sms_outgoing_to_onnet_inactive_days': 1, 'sms_outgoing_to_offnet_count': 8, 'sms_outgoing_to_offnet_spendings': 0.48, 'sms_outgoing_to_offnet_inactive_days': 1, 'sms_outgoing_to_abroad_count': 0, 'sms_outgoing_to_abroad_spendings': 0, 'sms_outgoing_to_abroad_inactive_days': 1, 'sms_incoming_count': 2, 'sms_incoming_spendings': 0, 'sms_incoming_from_abroad_count': 0, 'sms_incoming_from_abroad_spendings': 0, 'gprs_session_count': 0, 'gprs_usage': 0.0, 'gprs_spendings': 0.0, 'gprs_inactive_days': 1276, 'last_100_reloads_count': 2, 'last_100_reloads_sum': 15.0, 'last_100_calls_outgoing_duration': 65.1, 'last_100_calls_outgoing_to_onnet_duration': 0, 'last_100_calls_outgoing_to_offnet_duration': 43.62, 'last_100_calls_outgoing_to_abroad_duration': 0, 'last_100_sms_outgoing_count': 7, 'last_100_sms_outgoing_to_onnet_count': 0, 'last_100_sms_outgoing_to_offnet_count': 5, 'last_100_sms_outgoing_to_abroad_count': 0, 'last_100_gprs_usage': 0.0, 'churn': 0}, {'month': 6, 'user_lifetime': 3, 'user_intake': 1, 'user_no_outgoing_activity_in_days': 3, 'user_account_balance_last': 48.0, 'user_spendings': 0.0, 'user_has_outgoing_calls': 1, 'user_has_outgoing_sms': 1, 'user_use_gprs': 0, 'user_does_reload': 1, 'reloads_inactive_days': 3, 'reloads_count': 1, 'reloads_sum': 48.03, 'calls_outgoing_count': 3, 'calls_outgoing_spendings': 0.0, 'calls_outgoing_duration': 4.25, 'calls_outgoing_spendings_max': 0.0, 'calls_outgoing_duration_max': 3.77, 'calls_outgoing_inactive_days': 3, 'calls_outgoing_to_onnet_count': 0, 'calls_outgoing_to_onnet_spendings': 0, 'calls_outgoing_to_onnet_duration': 0, 'calls_outgoing_to_onnet_inactive_days': 3, 'calls_outgoing_to_offnet_count': 0, 'calls_outgoing_to_offnet_spendings': 0.0, 'calls_outgoing_to_offnet_duration': 0.0, 'calls_outgoing_to_offnet_inactive_days': 3, 'calls_outgoing_to_abroad_count': 0, 'calls_outgoing_to_abroad_spendings': 0, 'calls_outgoing_to_abroad_duration': 0, 'calls_outgoing_to_abroad_inactive_days': 3, 'sms_outgoing_count': 2, 'sms_outgoing_spendings': 0.0, 'sms_outgoing_spendings_max': 0.0, 'sms_outgoing_inactive_days': 3, 'sms_outgoing_to_onnet_count': 0, 'sms_outgoing_to_onnet_spendings': 0.0, 'sms_outgoing_to_onnet_inactive_days': 3, 'sms_outgoing_to_offnet_count': 0, 'sms_outgoing_to_offnet_spendings': 0.0, 'sms_outgoing_to_offnet_inactive_days': 3, 'sms_outgoing_to_abroad_count': 0, 'sms_outgoing_to_abroad_spendings': 0, 'sms_outgoing_to_abroad_inactive_days': 3, 'sms_incoming_count': 1, 'sms_incoming_spendings': 0, 'sms_incoming_from_abroad_count': 0, 'sms_incoming_from_abroad_spendings': 0, 'gprs_session_count': 0, 'gprs_usage': 0.0, 'gprs_spendings': 0.0, 'gprs_inactive_days': 1276, 'last_100_reloads_count': 7, 'last_100_reloads_sum': 48.03, 'last_100_calls_outgoing_duration': 4.25, 'last_100_calls_outgoing_to_onnet_duration': 0, 'last_100_calls_outgoing_to_offnet_duration': 0.0, 'last_100_calls_outgoing_to_abroad_duration': 0, 'last_100_sms_outgoing_count': 2, 'last_100_sms_outgoing_to_onnet_count': 0, 'last_100_sms_outgoing_to_offnet_count': 0, 'last_100_sms_outgoing_to_abroad_count': 0, 'last_100_gprs_usage': 0.0, 'churn': 0}]\n"
     ]
    },
    {
     "name": "stdout",
     "output_type": "stream",
     "text": [
      "2150\n",
      "[{'month': 6, 'user_lifetime': 3, 'user_intake': 1, 'user_no_outgoing_activity_in_days': 1, 'user_account_balance_last': 23.79, 'user_spendings': 0.21, 'user_has_outgoing_calls': 1, 'user_has_outgoing_sms': 1, 'user_use_gprs': 0, 'user_does_reload': 1, 'reloads_inactive_days': 3, 'reloads_count': 1, 'reloads_sum': 24.02, 'calls_outgoing_count': 3, 'calls_outgoing_spendings': 0.0, 'calls_outgoing_duration': 1.18, 'calls_outgoing_spendings_max': 0.0, 'calls_outgoing_duration_max': 1.18, 'calls_outgoing_inactive_days': 1, 'calls_outgoing_to_onnet_count': 0, 'calls_outgoing_to_onnet_spendings': 0, 'calls_outgoing_to_onnet_duration': 0, 'calls_outgoing_to_onnet_inactive_days': 1, 'calls_outgoing_to_offnet_count': 0, 'calls_outgoing_to_offnet_spendings': 0.0, 'calls_outgoing_to_offnet_duration': 0.0, 'calls_outgoing_to_offnet_inactive_days': 1, 'calls_outgoing_to_abroad_count': 0, 'calls_outgoing_to_abroad_spendings': 0, 'calls_outgoing_to_abroad_duration': 0, 'calls_outgoing_to_abroad_inactive_days': 1, 'sms_outgoing_count': 6, 'sms_outgoing_spendings': 0.21, 'sms_outgoing_spendings_max': 0.15, 'sms_outgoing_inactive_days': 1, 'sms_outgoing_to_onnet_count': 4, 'sms_outgoing_to_onnet_spendings': 0.0, 'sms_outgoing_to_onnet_inactive_days': 1, 'sms_outgoing_to_offnet_count': 1, 'sms_outgoing_to_offnet_spendings': 0.06, 'sms_outgoing_to_offnet_inactive_days': 1, 'sms_outgoing_to_abroad_count': 0, 'sms_outgoing_to_abroad_spendings': 0, 'sms_outgoing_to_abroad_inactive_days': 1, 'sms_incoming_count': 1, 'sms_incoming_spendings': 0, 'sms_incoming_from_abroad_count': 0, 'sms_incoming_from_abroad_spendings': 0, 'gprs_session_count': 0, 'gprs_usage': 0.0, 'gprs_spendings': 0.0, 'gprs_inactive_days': 1276, 'last_100_reloads_count': 4, 'last_100_reloads_sum': 24.015, 'last_100_calls_outgoing_duration': 1.18, 'last_100_calls_outgoing_to_onnet_duration': 0, 'last_100_calls_outgoing_to_offnet_duration': 0.0, 'last_100_calls_outgoing_to_abroad_duration': 0, 'last_100_sms_outgoing_count': 6, 'last_100_sms_outgoing_to_onnet_count': 4, 'last_100_sms_outgoing_to_offnet_count': 1, 'last_100_sms_outgoing_to_abroad_count': 0, 'last_100_gprs_usage': 0.0, 'churn': 0}, {'month': 6, 'user_lifetime': 3, 'user_intake': 1, 'user_no_outgoing_activity_in_days': 1, 'user_account_balance_last': 10.91, 'user_spendings': 28.64, 'user_has_outgoing_calls': 1, 'user_has_outgoing_sms': 1, 'user_use_gprs': 1, 'user_does_reload': 1, 'reloads_inactive_days': 1, 'reloads_count': 3, 'reloads_sum': 29.0, 'calls_outgoing_count': 61, 'calls_outgoing_spendings': 5.77, 'calls_outgoing_duration': 37.93, 'calls_outgoing_spendings_max': 0.59, 'calls_outgoing_duration_max': 3.95, 'calls_outgoing_inactive_days': 1, 'calls_outgoing_to_onnet_count': 0, 'calls_outgoing_to_onnet_spendings': 0, 'calls_outgoing_to_onnet_duration': 0, 'calls_outgoing_to_onnet_inactive_days': 1, 'calls_outgoing_to_offnet_count': 42, 'calls_outgoing_to_offnet_spendings': 3.75, 'calls_outgoing_to_offnet_duration': 25.0, 'calls_outgoing_to_offnet_inactive_days': 1, 'calls_outgoing_to_abroad_count': 0, 'calls_outgoing_to_abroad_spendings': 0, 'calls_outgoing_to_abroad_duration': 0, 'calls_outgoing_to_abroad_inactive_days': 1, 'sms_outgoing_count': 12, 'sms_outgoing_spendings': 1.17, 'sms_outgoing_spendings_max': 0.5, 'sms_outgoing_inactive_days': 1, 'sms_outgoing_to_onnet_count': 0, 'sms_outgoing_to_onnet_spendings': 0.0, 'sms_outgoing_to_onnet_inactive_days': 1, 'sms_outgoing_to_offnet_count': 2, 'sms_outgoing_to_offnet_spendings': 0.12, 'sms_outgoing_to_offnet_inactive_days': 1, 'sms_outgoing_to_abroad_count': 0, 'sms_outgoing_to_abroad_spendings': 0, 'sms_outgoing_to_abroad_inactive_days': 1, 'sms_incoming_count': 63, 'sms_incoming_spendings': 0, 'sms_incoming_from_abroad_count': 0, 'sms_incoming_from_abroad_spendings': 0, 'gprs_session_count': 1030, 'gprs_usage': 499.16, 'gprs_spendings': 21.7, 'gprs_inactive_days': 1, 'last_100_reloads_count': 5, 'last_100_reloads_sum': 29.0, 'last_100_calls_outgoing_duration': 36.93, 'last_100_calls_outgoing_to_onnet_duration': 0, 'last_100_calls_outgoing_to_offnet_duration': 25.0, 'last_100_calls_outgoing_to_abroad_duration': 0, 'last_100_sms_outgoing_count': 12, 'last_100_sms_outgoing_to_onnet_count': 0, 'last_100_sms_outgoing_to_offnet_count': 2, 'last_100_sms_outgoing_to_abroad_count': 0, 'last_100_gprs_usage': 417.84, 'churn': 0}, {'month': 6, 'user_lifetime': 3, 'user_intake': 1, 'user_no_outgoing_activity_in_days': 1, 'user_account_balance_last': 6.75, 'user_spendings': 8.25, 'user_has_outgoing_calls': 1, 'user_has_outgoing_sms': 0, 'user_use_gprs': 0, 'user_does_reload': 1, 'reloads_inactive_days': 3, 'reloads_count': 1, 'reloads_sum': 15.0, 'calls_outgoing_count': 48, 'calls_outgoing_spendings': 8.25, 'calls_outgoing_duration': 54.37, 'calls_outgoing_spendings_max': 0.82, 'calls_outgoing_duration_max': 5.43, 'calls_outgoing_inactive_days': 1, 'calls_outgoing_to_onnet_count': 0, 'calls_outgoing_to_onnet_spendings': 0, 'calls_outgoing_to_onnet_duration': 0, 'calls_outgoing_to_onnet_inactive_days': 1, 'calls_outgoing_to_offnet_count': 33, 'calls_outgoing_to_offnet_spendings': 7.42, 'calls_outgoing_to_offnet_duration': 49.48, 'calls_outgoing_to_offnet_inactive_days': 1, 'calls_outgoing_to_abroad_count': 0, 'calls_outgoing_to_abroad_spendings': 0, 'calls_outgoing_to_abroad_duration': 0, 'calls_outgoing_to_abroad_inactive_days': 1, 'sms_outgoing_count': 0, 'sms_outgoing_spendings': 0.0, 'sms_outgoing_spendings_max': 0.0, 'sms_outgoing_inactive_days': 1276, 'sms_outgoing_to_onnet_count': 0, 'sms_outgoing_to_onnet_spendings': 0.0, 'sms_outgoing_to_onnet_inactive_days': 1276, 'sms_outgoing_to_offnet_count': 0, 'sms_outgoing_to_offnet_spendings': 0.0, 'sms_outgoing_to_offnet_inactive_days': 1276, 'sms_outgoing_to_abroad_count': 0, 'sms_outgoing_to_abroad_spendings': 0, 'sms_outgoing_to_abroad_inactive_days': 1276, 'sms_incoming_count': 9, 'sms_incoming_spendings': 0, 'sms_incoming_from_abroad_count': 0, 'sms_incoming_from_abroad_spendings': 0, 'gprs_session_count': 0, 'gprs_usage': 0.0, 'gprs_spendings': 0.0, 'gprs_inactive_days': 1276, 'last_100_reloads_count': 2, 'last_100_reloads_sum': 15.0, 'last_100_calls_outgoing_duration': 53.37, 'last_100_calls_outgoing_to_onnet_duration': 0, 'last_100_calls_outgoing_to_offnet_duration': 48.48, 'last_100_calls_outgoing_to_abroad_duration': 0, 'last_100_sms_outgoing_count': 0, 'last_100_sms_outgoing_to_onnet_count': 0, 'last_100_sms_outgoing_to_offnet_count': 0, 'last_100_sms_outgoing_to_abroad_count': 0, 'last_100_gprs_usage': 0.0, 'churn': 0}, {'month': 6, 'user_lifetime': 3, 'user_intake': 1, 'user_no_outgoing_activity_in_days': 1, 'user_account_balance_last': 1.8, 'user_spendings': 12.87, 'user_has_outgoing_calls': 1, 'user_has_outgoing_sms': 1, 'user_use_gprs': 0, 'user_does_reload': 1, 'reloads_inactive_days': 3, 'reloads_count': 1, 'reloads_sum': 15.0, 'calls_outgoing_count': 41, 'calls_outgoing_spendings': 12.39, 'calls_outgoing_duration': 82.62, 'calls_outgoing_spendings_max': 2.61, 'calls_outgoing_duration_max': 17.38, 'calls_outgoing_inactive_days': 1, 'calls_outgoing_to_onnet_count': 0, 'calls_outgoing_to_onnet_spendings': 0, 'calls_outgoing_to_onnet_duration': 0, 'calls_outgoing_to_onnet_inactive_days': 1, 'calls_outgoing_to_offnet_count': 17, 'calls_outgoing_to_offnet_spendings': 8.98, 'calls_outgoing_to_offnet_duration': 59.88, 'calls_outgoing_to_offnet_inactive_days': 1, 'calls_outgoing_to_abroad_count': 0, 'calls_outgoing_to_abroad_spendings': 0, 'calls_outgoing_to_abroad_duration': 0, 'calls_outgoing_to_abroad_inactive_days': 1, 'sms_outgoing_count': 10, 'sms_outgoing_spendings': 0.48, 'sms_outgoing_spendings_max': 0.06, 'sms_outgoing_inactive_days': 1, 'sms_outgoing_to_onnet_count': 0, 'sms_outgoing_to_onnet_spendings': 0.0, 'sms_outgoing_to_onnet_inactive_days': 1, 'sms_outgoing_to_offnet_count': 8, 'sms_outgoing_to_offnet_spendings': 0.48, 'sms_outgoing_to_offnet_inactive_days': 1, 'sms_outgoing_to_abroad_count': 0, 'sms_outgoing_to_abroad_spendings': 0, 'sms_outgoing_to_abroad_inactive_days': 1, 'sms_incoming_count': 2, 'sms_incoming_spendings': 0, 'sms_incoming_from_abroad_count': 0, 'sms_incoming_from_abroad_spendings': 0, 'gprs_session_count': 0, 'gprs_usage': 0.0, 'gprs_spendings': 0.0, 'gprs_inactive_days': 1276, 'last_100_reloads_count': 2, 'last_100_reloads_sum': 15.0, 'last_100_calls_outgoing_duration': 65.1, 'last_100_calls_outgoing_to_onnet_duration': 0, 'last_100_calls_outgoing_to_offnet_duration': 43.62, 'last_100_calls_outgoing_to_abroad_duration': 0, 'last_100_sms_outgoing_count': 7, 'last_100_sms_outgoing_to_onnet_count': 0, 'last_100_sms_outgoing_to_offnet_count': 5, 'last_100_sms_outgoing_to_abroad_count': 0, 'last_100_gprs_usage': 0.0, 'churn': 0}, {'month': 6, 'user_lifetime': 3, 'user_intake': 1, 'user_no_outgoing_activity_in_days': 3, 'user_account_balance_last': 48.0, 'user_spendings': 0.0, 'user_has_outgoing_calls': 1, 'user_has_outgoing_sms': 1, 'user_use_gprs': 0, 'user_does_reload': 1, 'reloads_inactive_days': 3, 'reloads_count': 1, 'reloads_sum': 48.03, 'calls_outgoing_count': 3, 'calls_outgoing_spendings': 0.0, 'calls_outgoing_duration': 4.25, 'calls_outgoing_spendings_max': 0.0, 'calls_outgoing_duration_max': 3.77, 'calls_outgoing_inactive_days': 3, 'calls_outgoing_to_onnet_count': 0, 'calls_outgoing_to_onnet_spendings': 0, 'calls_outgoing_to_onnet_duration': 0, 'calls_outgoing_to_onnet_inactive_days': 3, 'calls_outgoing_to_offnet_count': 0, 'calls_outgoing_to_offnet_spendings': 0.0, 'calls_outgoing_to_offnet_duration': 0.0, 'calls_outgoing_to_offnet_inactive_days': 3, 'calls_outgoing_to_abroad_count': 0, 'calls_outgoing_to_abroad_spendings': 0, 'calls_outgoing_to_abroad_duration': 0, 'calls_outgoing_to_abroad_inactive_days': 3, 'sms_outgoing_count': 2, 'sms_outgoing_spendings': 0.0, 'sms_outgoing_spendings_max': 0.0, 'sms_outgoing_inactive_days': 3, 'sms_outgoing_to_onnet_count': 0, 'sms_outgoing_to_onnet_spendings': 0.0, 'sms_outgoing_to_onnet_inactive_days': 3, 'sms_outgoing_to_offnet_count': 0, 'sms_outgoing_to_offnet_spendings': 0.0, 'sms_outgoing_to_offnet_inactive_days': 3, 'sms_outgoing_to_abroad_count': 0, 'sms_outgoing_to_abroad_spendings': 0, 'sms_outgoing_to_abroad_inactive_days': 3, 'sms_incoming_count': 1, 'sms_incoming_spendings': 0, 'sms_incoming_from_abroad_count': 0, 'sms_incoming_from_abroad_spendings': 0, 'gprs_session_count': 0, 'gprs_usage': 0.0, 'gprs_spendings': 0.0, 'gprs_inactive_days': 1276, 'last_100_reloads_count': 7, 'last_100_reloads_sum': 48.03, 'last_100_calls_outgoing_duration': 4.25, 'last_100_calls_outgoing_to_onnet_duration': 0, 'last_100_calls_outgoing_to_offnet_duration': 0.0, 'last_100_calls_outgoing_to_abroad_duration': 0, 'last_100_sms_outgoing_count': 2, 'last_100_sms_outgoing_to_onnet_count': 0, 'last_100_sms_outgoing_to_offnet_count': 0, 'last_100_sms_outgoing_to_abroad_count': 0, 'last_100_gprs_usage': 0.0, 'churn': 0}]\n"
     ]
    },
    {
     "name": "stdout",
     "output_type": "stream",
     "text": [
      "2151\n",
      "[{'month': 6, 'user_lifetime': 3, 'user_intake': 1, 'user_no_outgoing_activity_in_days': 1, 'user_account_balance_last': 23.79, 'user_spendings': 0.21, 'user_has_outgoing_calls': 1, 'user_has_outgoing_sms': 1, 'user_use_gprs': 0, 'user_does_reload': 1, 'reloads_inactive_days': 3, 'reloads_count': 1, 'reloads_sum': 24.02, 'calls_outgoing_count': 3, 'calls_outgoing_spendings': 0.0, 'calls_outgoing_duration': 1.18, 'calls_outgoing_spendings_max': 0.0, 'calls_outgoing_duration_max': 1.18, 'calls_outgoing_inactive_days': 1, 'calls_outgoing_to_onnet_count': 0, 'calls_outgoing_to_onnet_spendings': 0, 'calls_outgoing_to_onnet_duration': 0, 'calls_outgoing_to_onnet_inactive_days': 1, 'calls_outgoing_to_offnet_count': 0, 'calls_outgoing_to_offnet_spendings': 0.0, 'calls_outgoing_to_offnet_duration': 0.0, 'calls_outgoing_to_offnet_inactive_days': 1, 'calls_outgoing_to_abroad_count': 0, 'calls_outgoing_to_abroad_spendings': 0, 'calls_outgoing_to_abroad_duration': 0, 'calls_outgoing_to_abroad_inactive_days': 1, 'sms_outgoing_count': 6, 'sms_outgoing_spendings': 0.21, 'sms_outgoing_spendings_max': 0.15, 'sms_outgoing_inactive_days': 1, 'sms_outgoing_to_onnet_count': 4, 'sms_outgoing_to_onnet_spendings': 0.0, 'sms_outgoing_to_onnet_inactive_days': 1, 'sms_outgoing_to_offnet_count': 1, 'sms_outgoing_to_offnet_spendings': 0.06, 'sms_outgoing_to_offnet_inactive_days': 1, 'sms_outgoing_to_abroad_count': 0, 'sms_outgoing_to_abroad_spendings': 0, 'sms_outgoing_to_abroad_inactive_days': 1, 'sms_incoming_count': 1, 'sms_incoming_spendings': 0, 'sms_incoming_from_abroad_count': 0, 'sms_incoming_from_abroad_spendings': 0, 'gprs_session_count': 0, 'gprs_usage': 0.0, 'gprs_spendings': 0.0, 'gprs_inactive_days': 1276, 'last_100_reloads_count': 4, 'last_100_reloads_sum': 24.015, 'last_100_calls_outgoing_duration': 1.18, 'last_100_calls_outgoing_to_onnet_duration': 0, 'last_100_calls_outgoing_to_offnet_duration': 0.0, 'last_100_calls_outgoing_to_abroad_duration': 0, 'last_100_sms_outgoing_count': 6, 'last_100_sms_outgoing_to_onnet_count': 4, 'last_100_sms_outgoing_to_offnet_count': 1, 'last_100_sms_outgoing_to_abroad_count': 0, 'last_100_gprs_usage': 0.0, 'churn': 0}, {'month': 6, 'user_lifetime': 3, 'user_intake': 1, 'user_no_outgoing_activity_in_days': 1, 'user_account_balance_last': 10.91, 'user_spendings': 28.64, 'user_has_outgoing_calls': 1, 'user_has_outgoing_sms': 1, 'user_use_gprs': 1, 'user_does_reload': 1, 'reloads_inactive_days': 1, 'reloads_count': 3, 'reloads_sum': 29.0, 'calls_outgoing_count': 61, 'calls_outgoing_spendings': 5.77, 'calls_outgoing_duration': 37.93, 'calls_outgoing_spendings_max': 0.59, 'calls_outgoing_duration_max': 3.95, 'calls_outgoing_inactive_days': 1, 'calls_outgoing_to_onnet_count': 0, 'calls_outgoing_to_onnet_spendings': 0, 'calls_outgoing_to_onnet_duration': 0, 'calls_outgoing_to_onnet_inactive_days': 1, 'calls_outgoing_to_offnet_count': 42, 'calls_outgoing_to_offnet_spendings': 3.75, 'calls_outgoing_to_offnet_duration': 25.0, 'calls_outgoing_to_offnet_inactive_days': 1, 'calls_outgoing_to_abroad_count': 0, 'calls_outgoing_to_abroad_spendings': 0, 'calls_outgoing_to_abroad_duration': 0, 'calls_outgoing_to_abroad_inactive_days': 1, 'sms_outgoing_count': 12, 'sms_outgoing_spendings': 1.17, 'sms_outgoing_spendings_max': 0.5, 'sms_outgoing_inactive_days': 1, 'sms_outgoing_to_onnet_count': 0, 'sms_outgoing_to_onnet_spendings': 0.0, 'sms_outgoing_to_onnet_inactive_days': 1, 'sms_outgoing_to_offnet_count': 2, 'sms_outgoing_to_offnet_spendings': 0.12, 'sms_outgoing_to_offnet_inactive_days': 1, 'sms_outgoing_to_abroad_count': 0, 'sms_outgoing_to_abroad_spendings': 0, 'sms_outgoing_to_abroad_inactive_days': 1, 'sms_incoming_count': 63, 'sms_incoming_spendings': 0, 'sms_incoming_from_abroad_count': 0, 'sms_incoming_from_abroad_spendings': 0, 'gprs_session_count': 1030, 'gprs_usage': 499.16, 'gprs_spendings': 21.7, 'gprs_inactive_days': 1, 'last_100_reloads_count': 5, 'last_100_reloads_sum': 29.0, 'last_100_calls_outgoing_duration': 36.93, 'last_100_calls_outgoing_to_onnet_duration': 0, 'last_100_calls_outgoing_to_offnet_duration': 25.0, 'last_100_calls_outgoing_to_abroad_duration': 0, 'last_100_sms_outgoing_count': 12, 'last_100_sms_outgoing_to_onnet_count': 0, 'last_100_sms_outgoing_to_offnet_count': 2, 'last_100_sms_outgoing_to_abroad_count': 0, 'last_100_gprs_usage': 417.84, 'churn': 0}, {'month': 6, 'user_lifetime': 3, 'user_intake': 1, 'user_no_outgoing_activity_in_days': 1, 'user_account_balance_last': 6.75, 'user_spendings': 8.25, 'user_has_outgoing_calls': 1, 'user_has_outgoing_sms': 0, 'user_use_gprs': 0, 'user_does_reload': 1, 'reloads_inactive_days': 3, 'reloads_count': 1, 'reloads_sum': 15.0, 'calls_outgoing_count': 48, 'calls_outgoing_spendings': 8.25, 'calls_outgoing_duration': 54.37, 'calls_outgoing_spendings_max': 0.82, 'calls_outgoing_duration_max': 5.43, 'calls_outgoing_inactive_days': 1, 'calls_outgoing_to_onnet_count': 0, 'calls_outgoing_to_onnet_spendings': 0, 'calls_outgoing_to_onnet_duration': 0, 'calls_outgoing_to_onnet_inactive_days': 1, 'calls_outgoing_to_offnet_count': 33, 'calls_outgoing_to_offnet_spendings': 7.42, 'calls_outgoing_to_offnet_duration': 49.48, 'calls_outgoing_to_offnet_inactive_days': 1, 'calls_outgoing_to_abroad_count': 0, 'calls_outgoing_to_abroad_spendings': 0, 'calls_outgoing_to_abroad_duration': 0, 'calls_outgoing_to_abroad_inactive_days': 1, 'sms_outgoing_count': 0, 'sms_outgoing_spendings': 0.0, 'sms_outgoing_spendings_max': 0.0, 'sms_outgoing_inactive_days': 1276, 'sms_outgoing_to_onnet_count': 0, 'sms_outgoing_to_onnet_spendings': 0.0, 'sms_outgoing_to_onnet_inactive_days': 1276, 'sms_outgoing_to_offnet_count': 0, 'sms_outgoing_to_offnet_spendings': 0.0, 'sms_outgoing_to_offnet_inactive_days': 1276, 'sms_outgoing_to_abroad_count': 0, 'sms_outgoing_to_abroad_spendings': 0, 'sms_outgoing_to_abroad_inactive_days': 1276, 'sms_incoming_count': 9, 'sms_incoming_spendings': 0, 'sms_incoming_from_abroad_count': 0, 'sms_incoming_from_abroad_spendings': 0, 'gprs_session_count': 0, 'gprs_usage': 0.0, 'gprs_spendings': 0.0, 'gprs_inactive_days': 1276, 'last_100_reloads_count': 2, 'last_100_reloads_sum': 15.0, 'last_100_calls_outgoing_duration': 53.37, 'last_100_calls_outgoing_to_onnet_duration': 0, 'last_100_calls_outgoing_to_offnet_duration': 48.48, 'last_100_calls_outgoing_to_abroad_duration': 0, 'last_100_sms_outgoing_count': 0, 'last_100_sms_outgoing_to_onnet_count': 0, 'last_100_sms_outgoing_to_offnet_count': 0, 'last_100_sms_outgoing_to_abroad_count': 0, 'last_100_gprs_usage': 0.0, 'churn': 0}, {'month': 6, 'user_lifetime': 3, 'user_intake': 1, 'user_no_outgoing_activity_in_days': 1, 'user_account_balance_last': 1.8, 'user_spendings': 12.87, 'user_has_outgoing_calls': 1, 'user_has_outgoing_sms': 1, 'user_use_gprs': 0, 'user_does_reload': 1, 'reloads_inactive_days': 3, 'reloads_count': 1, 'reloads_sum': 15.0, 'calls_outgoing_count': 41, 'calls_outgoing_spendings': 12.39, 'calls_outgoing_duration': 82.62, 'calls_outgoing_spendings_max': 2.61, 'calls_outgoing_duration_max': 17.38, 'calls_outgoing_inactive_days': 1, 'calls_outgoing_to_onnet_count': 0, 'calls_outgoing_to_onnet_spendings': 0, 'calls_outgoing_to_onnet_duration': 0, 'calls_outgoing_to_onnet_inactive_days': 1, 'calls_outgoing_to_offnet_count': 17, 'calls_outgoing_to_offnet_spendings': 8.98, 'calls_outgoing_to_offnet_duration': 59.88, 'calls_outgoing_to_offnet_inactive_days': 1, 'calls_outgoing_to_abroad_count': 0, 'calls_outgoing_to_abroad_spendings': 0, 'calls_outgoing_to_abroad_duration': 0, 'calls_outgoing_to_abroad_inactive_days': 1, 'sms_outgoing_count': 10, 'sms_outgoing_spendings': 0.48, 'sms_outgoing_spendings_max': 0.06, 'sms_outgoing_inactive_days': 1, 'sms_outgoing_to_onnet_count': 0, 'sms_outgoing_to_onnet_spendings': 0.0, 'sms_outgoing_to_onnet_inactive_days': 1, 'sms_outgoing_to_offnet_count': 8, 'sms_outgoing_to_offnet_spendings': 0.48, 'sms_outgoing_to_offnet_inactive_days': 1, 'sms_outgoing_to_abroad_count': 0, 'sms_outgoing_to_abroad_spendings': 0, 'sms_outgoing_to_abroad_inactive_days': 1, 'sms_incoming_count': 2, 'sms_incoming_spendings': 0, 'sms_incoming_from_abroad_count': 0, 'sms_incoming_from_abroad_spendings': 0, 'gprs_session_count': 0, 'gprs_usage': 0.0, 'gprs_spendings': 0.0, 'gprs_inactive_days': 1276, 'last_100_reloads_count': 2, 'last_100_reloads_sum': 15.0, 'last_100_calls_outgoing_duration': 65.1, 'last_100_calls_outgoing_to_onnet_duration': 0, 'last_100_calls_outgoing_to_offnet_duration': 43.62, 'last_100_calls_outgoing_to_abroad_duration': 0, 'last_100_sms_outgoing_count': 7, 'last_100_sms_outgoing_to_onnet_count': 0, 'last_100_sms_outgoing_to_offnet_count': 5, 'last_100_sms_outgoing_to_abroad_count': 0, 'last_100_gprs_usage': 0.0, 'churn': 0}, {'month': 6, 'user_lifetime': 3, 'user_intake': 1, 'user_no_outgoing_activity_in_days': 3, 'user_account_balance_last': 48.0, 'user_spendings': 0.0, 'user_has_outgoing_calls': 1, 'user_has_outgoing_sms': 1, 'user_use_gprs': 0, 'user_does_reload': 1, 'reloads_inactive_days': 3, 'reloads_count': 1, 'reloads_sum': 48.03, 'calls_outgoing_count': 3, 'calls_outgoing_spendings': 0.0, 'calls_outgoing_duration': 4.25, 'calls_outgoing_spendings_max': 0.0, 'calls_outgoing_duration_max': 3.77, 'calls_outgoing_inactive_days': 3, 'calls_outgoing_to_onnet_count': 0, 'calls_outgoing_to_onnet_spendings': 0, 'calls_outgoing_to_onnet_duration': 0, 'calls_outgoing_to_onnet_inactive_days': 3, 'calls_outgoing_to_offnet_count': 0, 'calls_outgoing_to_offnet_spendings': 0.0, 'calls_outgoing_to_offnet_duration': 0.0, 'calls_outgoing_to_offnet_inactive_days': 3, 'calls_outgoing_to_abroad_count': 0, 'calls_outgoing_to_abroad_spendings': 0, 'calls_outgoing_to_abroad_duration': 0, 'calls_outgoing_to_abroad_inactive_days': 3, 'sms_outgoing_count': 2, 'sms_outgoing_spendings': 0.0, 'sms_outgoing_spendings_max': 0.0, 'sms_outgoing_inactive_days': 3, 'sms_outgoing_to_onnet_count': 0, 'sms_outgoing_to_onnet_spendings': 0.0, 'sms_outgoing_to_onnet_inactive_days': 3, 'sms_outgoing_to_offnet_count': 0, 'sms_outgoing_to_offnet_spendings': 0.0, 'sms_outgoing_to_offnet_inactive_days': 3, 'sms_outgoing_to_abroad_count': 0, 'sms_outgoing_to_abroad_spendings': 0, 'sms_outgoing_to_abroad_inactive_days': 3, 'sms_incoming_count': 1, 'sms_incoming_spendings': 0, 'sms_incoming_from_abroad_count': 0, 'sms_incoming_from_abroad_spendings': 0, 'gprs_session_count': 0, 'gprs_usage': 0.0, 'gprs_spendings': 0.0, 'gprs_inactive_days': 1276, 'last_100_reloads_count': 7, 'last_100_reloads_sum': 48.03, 'last_100_calls_outgoing_duration': 4.25, 'last_100_calls_outgoing_to_onnet_duration': 0, 'last_100_calls_outgoing_to_offnet_duration': 0.0, 'last_100_calls_outgoing_to_abroad_duration': 0, 'last_100_sms_outgoing_count': 2, 'last_100_sms_outgoing_to_onnet_count': 0, 'last_100_sms_outgoing_to_offnet_count': 0, 'last_100_sms_outgoing_to_abroad_count': 0, 'last_100_gprs_usage': 0.0, 'churn': 0}]\n"
     ]
    },
    {
     "name": "stdout",
     "output_type": "stream",
     "text": [
      "2152\n",
      "[{'month': 6, 'user_lifetime': 3, 'user_intake': 1, 'user_no_outgoing_activity_in_days': 1, 'user_account_balance_last': 23.79, 'user_spendings': 0.21, 'user_has_outgoing_calls': 1, 'user_has_outgoing_sms': 1, 'user_use_gprs': 0, 'user_does_reload': 1, 'reloads_inactive_days': 3, 'reloads_count': 1, 'reloads_sum': 24.02, 'calls_outgoing_count': 3, 'calls_outgoing_spendings': 0.0, 'calls_outgoing_duration': 1.18, 'calls_outgoing_spendings_max': 0.0, 'calls_outgoing_duration_max': 1.18, 'calls_outgoing_inactive_days': 1, 'calls_outgoing_to_onnet_count': 0, 'calls_outgoing_to_onnet_spendings': 0, 'calls_outgoing_to_onnet_duration': 0, 'calls_outgoing_to_onnet_inactive_days': 1, 'calls_outgoing_to_offnet_count': 0, 'calls_outgoing_to_offnet_spendings': 0.0, 'calls_outgoing_to_offnet_duration': 0.0, 'calls_outgoing_to_offnet_inactive_days': 1, 'calls_outgoing_to_abroad_count': 0, 'calls_outgoing_to_abroad_spendings': 0, 'calls_outgoing_to_abroad_duration': 0, 'calls_outgoing_to_abroad_inactive_days': 1, 'sms_outgoing_count': 6, 'sms_outgoing_spendings': 0.21, 'sms_outgoing_spendings_max': 0.15, 'sms_outgoing_inactive_days': 1, 'sms_outgoing_to_onnet_count': 4, 'sms_outgoing_to_onnet_spendings': 0.0, 'sms_outgoing_to_onnet_inactive_days': 1, 'sms_outgoing_to_offnet_count': 1, 'sms_outgoing_to_offnet_spendings': 0.06, 'sms_outgoing_to_offnet_inactive_days': 1, 'sms_outgoing_to_abroad_count': 0, 'sms_outgoing_to_abroad_spendings': 0, 'sms_outgoing_to_abroad_inactive_days': 1, 'sms_incoming_count': 1, 'sms_incoming_spendings': 0, 'sms_incoming_from_abroad_count': 0, 'sms_incoming_from_abroad_spendings': 0, 'gprs_session_count': 0, 'gprs_usage': 0.0, 'gprs_spendings': 0.0, 'gprs_inactive_days': 1276, 'last_100_reloads_count': 4, 'last_100_reloads_sum': 24.015, 'last_100_calls_outgoing_duration': 1.18, 'last_100_calls_outgoing_to_onnet_duration': 0, 'last_100_calls_outgoing_to_offnet_duration': 0.0, 'last_100_calls_outgoing_to_abroad_duration': 0, 'last_100_sms_outgoing_count': 6, 'last_100_sms_outgoing_to_onnet_count': 4, 'last_100_sms_outgoing_to_offnet_count': 1, 'last_100_sms_outgoing_to_abroad_count': 0, 'last_100_gprs_usage': 0.0, 'churn': 0}, {'month': 6, 'user_lifetime': 3, 'user_intake': 1, 'user_no_outgoing_activity_in_days': 1, 'user_account_balance_last': 10.91, 'user_spendings': 28.64, 'user_has_outgoing_calls': 1, 'user_has_outgoing_sms': 1, 'user_use_gprs': 1, 'user_does_reload': 1, 'reloads_inactive_days': 1, 'reloads_count': 3, 'reloads_sum': 29.0, 'calls_outgoing_count': 61, 'calls_outgoing_spendings': 5.77, 'calls_outgoing_duration': 37.93, 'calls_outgoing_spendings_max': 0.59, 'calls_outgoing_duration_max': 3.95, 'calls_outgoing_inactive_days': 1, 'calls_outgoing_to_onnet_count': 0, 'calls_outgoing_to_onnet_spendings': 0, 'calls_outgoing_to_onnet_duration': 0, 'calls_outgoing_to_onnet_inactive_days': 1, 'calls_outgoing_to_offnet_count': 42, 'calls_outgoing_to_offnet_spendings': 3.75, 'calls_outgoing_to_offnet_duration': 25.0, 'calls_outgoing_to_offnet_inactive_days': 1, 'calls_outgoing_to_abroad_count': 0, 'calls_outgoing_to_abroad_spendings': 0, 'calls_outgoing_to_abroad_duration': 0, 'calls_outgoing_to_abroad_inactive_days': 1, 'sms_outgoing_count': 12, 'sms_outgoing_spendings': 1.17, 'sms_outgoing_spendings_max': 0.5, 'sms_outgoing_inactive_days': 1, 'sms_outgoing_to_onnet_count': 0, 'sms_outgoing_to_onnet_spendings': 0.0, 'sms_outgoing_to_onnet_inactive_days': 1, 'sms_outgoing_to_offnet_count': 2, 'sms_outgoing_to_offnet_spendings': 0.12, 'sms_outgoing_to_offnet_inactive_days': 1, 'sms_outgoing_to_abroad_count': 0, 'sms_outgoing_to_abroad_spendings': 0, 'sms_outgoing_to_abroad_inactive_days': 1, 'sms_incoming_count': 63, 'sms_incoming_spendings': 0, 'sms_incoming_from_abroad_count': 0, 'sms_incoming_from_abroad_spendings': 0, 'gprs_session_count': 1030, 'gprs_usage': 499.16, 'gprs_spendings': 21.7, 'gprs_inactive_days': 1, 'last_100_reloads_count': 5, 'last_100_reloads_sum': 29.0, 'last_100_calls_outgoing_duration': 36.93, 'last_100_calls_outgoing_to_onnet_duration': 0, 'last_100_calls_outgoing_to_offnet_duration': 25.0, 'last_100_calls_outgoing_to_abroad_duration': 0, 'last_100_sms_outgoing_count': 12, 'last_100_sms_outgoing_to_onnet_count': 0, 'last_100_sms_outgoing_to_offnet_count': 2, 'last_100_sms_outgoing_to_abroad_count': 0, 'last_100_gprs_usage': 417.84, 'churn': 0}, {'month': 6, 'user_lifetime': 3, 'user_intake': 1, 'user_no_outgoing_activity_in_days': 1, 'user_account_balance_last': 6.75, 'user_spendings': 8.25, 'user_has_outgoing_calls': 1, 'user_has_outgoing_sms': 0, 'user_use_gprs': 0, 'user_does_reload': 1, 'reloads_inactive_days': 3, 'reloads_count': 1, 'reloads_sum': 15.0, 'calls_outgoing_count': 48, 'calls_outgoing_spendings': 8.25, 'calls_outgoing_duration': 54.37, 'calls_outgoing_spendings_max': 0.82, 'calls_outgoing_duration_max': 5.43, 'calls_outgoing_inactive_days': 1, 'calls_outgoing_to_onnet_count': 0, 'calls_outgoing_to_onnet_spendings': 0, 'calls_outgoing_to_onnet_duration': 0, 'calls_outgoing_to_onnet_inactive_days': 1, 'calls_outgoing_to_offnet_count': 33, 'calls_outgoing_to_offnet_spendings': 7.42, 'calls_outgoing_to_offnet_duration': 49.48, 'calls_outgoing_to_offnet_inactive_days': 1, 'calls_outgoing_to_abroad_count': 0, 'calls_outgoing_to_abroad_spendings': 0, 'calls_outgoing_to_abroad_duration': 0, 'calls_outgoing_to_abroad_inactive_days': 1, 'sms_outgoing_count': 0, 'sms_outgoing_spendings': 0.0, 'sms_outgoing_spendings_max': 0.0, 'sms_outgoing_inactive_days': 1276, 'sms_outgoing_to_onnet_count': 0, 'sms_outgoing_to_onnet_spendings': 0.0, 'sms_outgoing_to_onnet_inactive_days': 1276, 'sms_outgoing_to_offnet_count': 0, 'sms_outgoing_to_offnet_spendings': 0.0, 'sms_outgoing_to_offnet_inactive_days': 1276, 'sms_outgoing_to_abroad_count': 0, 'sms_outgoing_to_abroad_spendings': 0, 'sms_outgoing_to_abroad_inactive_days': 1276, 'sms_incoming_count': 9, 'sms_incoming_spendings': 0, 'sms_incoming_from_abroad_count': 0, 'sms_incoming_from_abroad_spendings': 0, 'gprs_session_count': 0, 'gprs_usage': 0.0, 'gprs_spendings': 0.0, 'gprs_inactive_days': 1276, 'last_100_reloads_count': 2, 'last_100_reloads_sum': 15.0, 'last_100_calls_outgoing_duration': 53.37, 'last_100_calls_outgoing_to_onnet_duration': 0, 'last_100_calls_outgoing_to_offnet_duration': 48.48, 'last_100_calls_outgoing_to_abroad_duration': 0, 'last_100_sms_outgoing_count': 0, 'last_100_sms_outgoing_to_onnet_count': 0, 'last_100_sms_outgoing_to_offnet_count': 0, 'last_100_sms_outgoing_to_abroad_count': 0, 'last_100_gprs_usage': 0.0, 'churn': 0}, {'month': 6, 'user_lifetime': 3, 'user_intake': 1, 'user_no_outgoing_activity_in_days': 1, 'user_account_balance_last': 1.8, 'user_spendings': 12.87, 'user_has_outgoing_calls': 1, 'user_has_outgoing_sms': 1, 'user_use_gprs': 0, 'user_does_reload': 1, 'reloads_inactive_days': 3, 'reloads_count': 1, 'reloads_sum': 15.0, 'calls_outgoing_count': 41, 'calls_outgoing_spendings': 12.39, 'calls_outgoing_duration': 82.62, 'calls_outgoing_spendings_max': 2.61, 'calls_outgoing_duration_max': 17.38, 'calls_outgoing_inactive_days': 1, 'calls_outgoing_to_onnet_count': 0, 'calls_outgoing_to_onnet_spendings': 0, 'calls_outgoing_to_onnet_duration': 0, 'calls_outgoing_to_onnet_inactive_days': 1, 'calls_outgoing_to_offnet_count': 17, 'calls_outgoing_to_offnet_spendings': 8.98, 'calls_outgoing_to_offnet_duration': 59.88, 'calls_outgoing_to_offnet_inactive_days': 1, 'calls_outgoing_to_abroad_count': 0, 'calls_outgoing_to_abroad_spendings': 0, 'calls_outgoing_to_abroad_duration': 0, 'calls_outgoing_to_abroad_inactive_days': 1, 'sms_outgoing_count': 10, 'sms_outgoing_spendings': 0.48, 'sms_outgoing_spendings_max': 0.06, 'sms_outgoing_inactive_days': 1, 'sms_outgoing_to_onnet_count': 0, 'sms_outgoing_to_onnet_spendings': 0.0, 'sms_outgoing_to_onnet_inactive_days': 1, 'sms_outgoing_to_offnet_count': 8, 'sms_outgoing_to_offnet_spendings': 0.48, 'sms_outgoing_to_offnet_inactive_days': 1, 'sms_outgoing_to_abroad_count': 0, 'sms_outgoing_to_abroad_spendings': 0, 'sms_outgoing_to_abroad_inactive_days': 1, 'sms_incoming_count': 2, 'sms_incoming_spendings': 0, 'sms_incoming_from_abroad_count': 0, 'sms_incoming_from_abroad_spendings': 0, 'gprs_session_count': 0, 'gprs_usage': 0.0, 'gprs_spendings': 0.0, 'gprs_inactive_days': 1276, 'last_100_reloads_count': 2, 'last_100_reloads_sum': 15.0, 'last_100_calls_outgoing_duration': 65.1, 'last_100_calls_outgoing_to_onnet_duration': 0, 'last_100_calls_outgoing_to_offnet_duration': 43.62, 'last_100_calls_outgoing_to_abroad_duration': 0, 'last_100_sms_outgoing_count': 7, 'last_100_sms_outgoing_to_onnet_count': 0, 'last_100_sms_outgoing_to_offnet_count': 5, 'last_100_sms_outgoing_to_abroad_count': 0, 'last_100_gprs_usage': 0.0, 'churn': 0}, {'month': 6, 'user_lifetime': 3, 'user_intake': 1, 'user_no_outgoing_activity_in_days': 3, 'user_account_balance_last': 48.0, 'user_spendings': 0.0, 'user_has_outgoing_calls': 1, 'user_has_outgoing_sms': 1, 'user_use_gprs': 0, 'user_does_reload': 1, 'reloads_inactive_days': 3, 'reloads_count': 1, 'reloads_sum': 48.03, 'calls_outgoing_count': 3, 'calls_outgoing_spendings': 0.0, 'calls_outgoing_duration': 4.25, 'calls_outgoing_spendings_max': 0.0, 'calls_outgoing_duration_max': 3.77, 'calls_outgoing_inactive_days': 3, 'calls_outgoing_to_onnet_count': 0, 'calls_outgoing_to_onnet_spendings': 0, 'calls_outgoing_to_onnet_duration': 0, 'calls_outgoing_to_onnet_inactive_days': 3, 'calls_outgoing_to_offnet_count': 0, 'calls_outgoing_to_offnet_spendings': 0.0, 'calls_outgoing_to_offnet_duration': 0.0, 'calls_outgoing_to_offnet_inactive_days': 3, 'calls_outgoing_to_abroad_count': 0, 'calls_outgoing_to_abroad_spendings': 0, 'calls_outgoing_to_abroad_duration': 0, 'calls_outgoing_to_abroad_inactive_days': 3, 'sms_outgoing_count': 2, 'sms_outgoing_spendings': 0.0, 'sms_outgoing_spendings_max': 0.0, 'sms_outgoing_inactive_days': 3, 'sms_outgoing_to_onnet_count': 0, 'sms_outgoing_to_onnet_spendings': 0.0, 'sms_outgoing_to_onnet_inactive_days': 3, 'sms_outgoing_to_offnet_count': 0, 'sms_outgoing_to_offnet_spendings': 0.0, 'sms_outgoing_to_offnet_inactive_days': 3, 'sms_outgoing_to_abroad_count': 0, 'sms_outgoing_to_abroad_spendings': 0, 'sms_outgoing_to_abroad_inactive_days': 3, 'sms_incoming_count': 1, 'sms_incoming_spendings': 0, 'sms_incoming_from_abroad_count': 0, 'sms_incoming_from_abroad_spendings': 0, 'gprs_session_count': 0, 'gprs_usage': 0.0, 'gprs_spendings': 0.0, 'gprs_inactive_days': 1276, 'last_100_reloads_count': 7, 'last_100_reloads_sum': 48.03, 'last_100_calls_outgoing_duration': 4.25, 'last_100_calls_outgoing_to_onnet_duration': 0, 'last_100_calls_outgoing_to_offnet_duration': 0.0, 'last_100_calls_outgoing_to_abroad_duration': 0, 'last_100_sms_outgoing_count': 2, 'last_100_sms_outgoing_to_onnet_count': 0, 'last_100_sms_outgoing_to_offnet_count': 0, 'last_100_sms_outgoing_to_abroad_count': 0, 'last_100_gprs_usage': 0.0, 'churn': 0}]\n"
     ]
    },
    {
     "ename": "KeyboardInterrupt",
     "evalue": "",
     "output_type": "error",
     "traceback": [
      "\u001b[0;31m---------------------------------------------------------------------------\u001b[0m",
      "\u001b[0;31mKeyboardInterrupt\u001b[0m                         Traceback (most recent call last)",
      "\u001b[0;32m<ipython-input-147-5c8291d4c2d4>\u001b[0m in \u001b[0;36m<module>\u001b[0;34m\u001b[0m\n\u001b[1;32m     11\u001b[0m \u001b[0mdata_stream\u001b[0m \u001b[0;34m=\u001b[0m \u001b[0;34m[\u001b[0m\u001b[0;34m]\u001b[0m\u001b[0;34m\u001b[0m\u001b[0;34m\u001b[0m\u001b[0m\n\u001b[1;32m     12\u001b[0m \u001b[0;34m\u001b[0m\u001b[0m\n\u001b[0;32m---> 13\u001b[0;31m \u001b[0;32mfor\u001b[0m \u001b[0mmsg\u001b[0m \u001b[0;32min\u001b[0m \u001b[0mc\u001b[0m\u001b[0;34m:\u001b[0m\u001b[0;34m\u001b[0m\u001b[0;34m\u001b[0m\u001b[0m\n\u001b[0m\u001b[1;32m     14\u001b[0m     \u001b[0mprocess_msg\u001b[0m\u001b[0;34m(\u001b[0m\u001b[0mmsg\u001b[0m\u001b[0;34m)\u001b[0m\u001b[0;34m\u001b[0m\u001b[0;34m\u001b[0m\u001b[0m\n\u001b[1;32m     15\u001b[0m     \u001b[0mdata_stream\u001b[0m\u001b[0;34m.\u001b[0m\u001b[0mappend\u001b[0m\u001b[0;34m(\u001b[0m\u001b[0mmsg\u001b[0m\u001b[0;34m.\u001b[0m\u001b[0mvalue\u001b[0m\u001b[0;34m)\u001b[0m\u001b[0;34m\u001b[0m\u001b[0;34m\u001b[0m\u001b[0m\n",
      "\u001b[0;32m/opt/conda/lib/python3.8/site-packages/kafka/consumer/group.py\u001b[0m in \u001b[0;36m__next__\u001b[0;34m(self)\u001b[0m\n\u001b[1;32m   1191\u001b[0m             \u001b[0;32mreturn\u001b[0m \u001b[0mself\u001b[0m\u001b[0;34m.\u001b[0m\u001b[0mnext_v1\u001b[0m\u001b[0;34m(\u001b[0m\u001b[0;34m)\u001b[0m\u001b[0;34m\u001b[0m\u001b[0;34m\u001b[0m\u001b[0m\n\u001b[1;32m   1192\u001b[0m         \u001b[0;32melse\u001b[0m\u001b[0;34m:\u001b[0m\u001b[0;34m\u001b[0m\u001b[0;34m\u001b[0m\u001b[0m\n\u001b[0;32m-> 1193\u001b[0;31m             \u001b[0;32mreturn\u001b[0m \u001b[0mself\u001b[0m\u001b[0;34m.\u001b[0m\u001b[0mnext_v2\u001b[0m\u001b[0;34m(\u001b[0m\u001b[0;34m)\u001b[0m\u001b[0;34m\u001b[0m\u001b[0;34m\u001b[0m\u001b[0m\n\u001b[0m\u001b[1;32m   1194\u001b[0m \u001b[0;34m\u001b[0m\u001b[0m\n\u001b[1;32m   1195\u001b[0m     \u001b[0;32mdef\u001b[0m \u001b[0mnext_v2\u001b[0m\u001b[0;34m(\u001b[0m\u001b[0mself\u001b[0m\u001b[0;34m)\u001b[0m\u001b[0;34m:\u001b[0m\u001b[0;34m\u001b[0m\u001b[0;34m\u001b[0m\u001b[0m\n",
      "\u001b[0;32m/opt/conda/lib/python3.8/site-packages/kafka/consumer/group.py\u001b[0m in \u001b[0;36mnext_v2\u001b[0;34m(self)\u001b[0m\n\u001b[1;32m   1199\u001b[0m                 \u001b[0mself\u001b[0m\u001b[0;34m.\u001b[0m\u001b[0m_iterator\u001b[0m \u001b[0;34m=\u001b[0m \u001b[0mself\u001b[0m\u001b[0;34m.\u001b[0m\u001b[0m_message_generator_v2\u001b[0m\u001b[0;34m(\u001b[0m\u001b[0;34m)\u001b[0m\u001b[0;34m\u001b[0m\u001b[0;34m\u001b[0m\u001b[0m\n\u001b[1;32m   1200\u001b[0m             \u001b[0;32mtry\u001b[0m\u001b[0;34m:\u001b[0m\u001b[0;34m\u001b[0m\u001b[0;34m\u001b[0m\u001b[0m\n\u001b[0;32m-> 1201\u001b[0;31m                 \u001b[0;32mreturn\u001b[0m \u001b[0mnext\u001b[0m\u001b[0;34m(\u001b[0m\u001b[0mself\u001b[0m\u001b[0;34m.\u001b[0m\u001b[0m_iterator\u001b[0m\u001b[0;34m)\u001b[0m\u001b[0;34m\u001b[0m\u001b[0;34m\u001b[0m\u001b[0m\n\u001b[0m\u001b[1;32m   1202\u001b[0m             \u001b[0;32mexcept\u001b[0m \u001b[0mStopIteration\u001b[0m\u001b[0;34m:\u001b[0m\u001b[0;34m\u001b[0m\u001b[0;34m\u001b[0m\u001b[0m\n\u001b[1;32m   1203\u001b[0m                 \u001b[0mself\u001b[0m\u001b[0;34m.\u001b[0m\u001b[0m_iterator\u001b[0m \u001b[0;34m=\u001b[0m \u001b[0;32mNone\u001b[0m\u001b[0;34m\u001b[0m\u001b[0;34m\u001b[0m\u001b[0m\n",
      "\u001b[0;32m/opt/conda/lib/python3.8/site-packages/kafka/consumer/group.py\u001b[0m in \u001b[0;36m_message_generator_v2\u001b[0;34m(self)\u001b[0m\n\u001b[1;32m   1114\u001b[0m     \u001b[0;32mdef\u001b[0m \u001b[0m_message_generator_v2\u001b[0m\u001b[0;34m(\u001b[0m\u001b[0mself\u001b[0m\u001b[0;34m)\u001b[0m\u001b[0;34m:\u001b[0m\u001b[0;34m\u001b[0m\u001b[0;34m\u001b[0m\u001b[0m\n\u001b[1;32m   1115\u001b[0m         \u001b[0mtimeout_ms\u001b[0m \u001b[0;34m=\u001b[0m \u001b[0;36m1000\u001b[0m \u001b[0;34m*\u001b[0m \u001b[0;34m(\u001b[0m\u001b[0mself\u001b[0m\u001b[0;34m.\u001b[0m\u001b[0m_consumer_timeout\u001b[0m \u001b[0;34m-\u001b[0m \u001b[0mtime\u001b[0m\u001b[0;34m.\u001b[0m\u001b[0mtime\u001b[0m\u001b[0;34m(\u001b[0m\u001b[0;34m)\u001b[0m\u001b[0;34m)\u001b[0m\u001b[0;34m\u001b[0m\u001b[0;34m\u001b[0m\u001b[0m\n\u001b[0;32m-> 1116\u001b[0;31m         \u001b[0mrecord_map\u001b[0m \u001b[0;34m=\u001b[0m \u001b[0mself\u001b[0m\u001b[0;34m.\u001b[0m\u001b[0mpoll\u001b[0m\u001b[0;34m(\u001b[0m\u001b[0mtimeout_ms\u001b[0m\u001b[0;34m=\u001b[0m\u001b[0mtimeout_ms\u001b[0m\u001b[0;34m,\u001b[0m \u001b[0mupdate_offsets\u001b[0m\u001b[0;34m=\u001b[0m\u001b[0;32mFalse\u001b[0m\u001b[0;34m)\u001b[0m\u001b[0;34m\u001b[0m\u001b[0;34m\u001b[0m\u001b[0m\n\u001b[0m\u001b[1;32m   1117\u001b[0m         \u001b[0;32mfor\u001b[0m \u001b[0mtp\u001b[0m\u001b[0;34m,\u001b[0m \u001b[0mrecords\u001b[0m \u001b[0;32min\u001b[0m \u001b[0msix\u001b[0m\u001b[0;34m.\u001b[0m\u001b[0miteritems\u001b[0m\u001b[0;34m(\u001b[0m\u001b[0mrecord_map\u001b[0m\u001b[0;34m)\u001b[0m\u001b[0;34m:\u001b[0m\u001b[0;34m\u001b[0m\u001b[0;34m\u001b[0m\u001b[0m\n\u001b[1;32m   1118\u001b[0m             \u001b[0;31m# Generators are stateful, and it is possible that the tp / records\u001b[0m\u001b[0;34m\u001b[0m\u001b[0;34m\u001b[0m\u001b[0;34m\u001b[0m\u001b[0m\n",
      "\u001b[0;32m/opt/conda/lib/python3.8/site-packages/kafka/consumer/group.py\u001b[0m in \u001b[0;36mpoll\u001b[0;34m(self, timeout_ms, max_records, update_offsets)\u001b[0m\n\u001b[1;32m    653\u001b[0m         \u001b[0mremaining\u001b[0m \u001b[0;34m=\u001b[0m \u001b[0mtimeout_ms\u001b[0m\u001b[0;34m\u001b[0m\u001b[0;34m\u001b[0m\u001b[0m\n\u001b[1;32m    654\u001b[0m         \u001b[0;32mwhile\u001b[0m \u001b[0;32mTrue\u001b[0m\u001b[0;34m:\u001b[0m\u001b[0;34m\u001b[0m\u001b[0;34m\u001b[0m\u001b[0m\n\u001b[0;32m--> 655\u001b[0;31m             \u001b[0mrecords\u001b[0m \u001b[0;34m=\u001b[0m \u001b[0mself\u001b[0m\u001b[0;34m.\u001b[0m\u001b[0m_poll_once\u001b[0m\u001b[0;34m(\u001b[0m\u001b[0mremaining\u001b[0m\u001b[0;34m,\u001b[0m \u001b[0mmax_records\u001b[0m\u001b[0;34m,\u001b[0m \u001b[0mupdate_offsets\u001b[0m\u001b[0;34m=\u001b[0m\u001b[0mupdate_offsets\u001b[0m\u001b[0;34m)\u001b[0m\u001b[0;34m\u001b[0m\u001b[0;34m\u001b[0m\u001b[0m\n\u001b[0m\u001b[1;32m    656\u001b[0m             \u001b[0;32mif\u001b[0m \u001b[0mrecords\u001b[0m\u001b[0;34m:\u001b[0m\u001b[0;34m\u001b[0m\u001b[0;34m\u001b[0m\u001b[0m\n\u001b[1;32m    657\u001b[0m                 \u001b[0;32mreturn\u001b[0m \u001b[0mrecords\u001b[0m\u001b[0;34m\u001b[0m\u001b[0;34m\u001b[0m\u001b[0m\n",
      "\u001b[0;32m/opt/conda/lib/python3.8/site-packages/kafka/consumer/group.py\u001b[0m in \u001b[0;36m_poll_once\u001b[0;34m(self, timeout_ms, max_records, update_offsets)\u001b[0m\n\u001b[1;32m    700\u001b[0m \u001b[0;34m\u001b[0m\u001b[0m\n\u001b[1;32m    701\u001b[0m         \u001b[0mtimeout_ms\u001b[0m \u001b[0;34m=\u001b[0m \u001b[0mmin\u001b[0m\u001b[0;34m(\u001b[0m\u001b[0mtimeout_ms\u001b[0m\u001b[0;34m,\u001b[0m \u001b[0mself\u001b[0m\u001b[0;34m.\u001b[0m\u001b[0m_coordinator\u001b[0m\u001b[0;34m.\u001b[0m\u001b[0mtime_to_next_poll\u001b[0m\u001b[0;34m(\u001b[0m\u001b[0;34m)\u001b[0m \u001b[0;34m*\u001b[0m \u001b[0;36m1000\u001b[0m\u001b[0;34m)\u001b[0m\u001b[0;34m\u001b[0m\u001b[0;34m\u001b[0m\u001b[0m\n\u001b[0;32m--> 702\u001b[0;31m         \u001b[0mself\u001b[0m\u001b[0;34m.\u001b[0m\u001b[0m_client\u001b[0m\u001b[0;34m.\u001b[0m\u001b[0mpoll\u001b[0m\u001b[0;34m(\u001b[0m\u001b[0mtimeout_ms\u001b[0m\u001b[0;34m=\u001b[0m\u001b[0mtimeout_ms\u001b[0m\u001b[0;34m)\u001b[0m\u001b[0;34m\u001b[0m\u001b[0;34m\u001b[0m\u001b[0m\n\u001b[0m\u001b[1;32m    703\u001b[0m         \u001b[0;31m# after the long poll, we should check whether the group needs to rebalance\u001b[0m\u001b[0;34m\u001b[0m\u001b[0;34m\u001b[0m\u001b[0;34m\u001b[0m\u001b[0m\n\u001b[1;32m    704\u001b[0m         \u001b[0;31m# prior to returning data so that the group can stabilize faster\u001b[0m\u001b[0;34m\u001b[0m\u001b[0;34m\u001b[0m\u001b[0;34m\u001b[0m\u001b[0m\n",
      "\u001b[0;32m/opt/conda/lib/python3.8/site-packages/kafka/client_async.py\u001b[0m in \u001b[0;36mpoll\u001b[0;34m(self, timeout_ms, future)\u001b[0m\n\u001b[1;32m    600\u001b[0m                     \u001b[0mtimeout\u001b[0m \u001b[0;34m=\u001b[0m \u001b[0mmax\u001b[0m\u001b[0;34m(\u001b[0m\u001b[0;36m0\u001b[0m\u001b[0;34m,\u001b[0m \u001b[0mtimeout\u001b[0m\u001b[0;34m)\u001b[0m  \u001b[0;31m# avoid negative timeouts\u001b[0m\u001b[0;34m\u001b[0m\u001b[0;34m\u001b[0m\u001b[0m\n\u001b[1;32m    601\u001b[0m \u001b[0;34m\u001b[0m\u001b[0m\n\u001b[0;32m--> 602\u001b[0;31m                 \u001b[0mself\u001b[0m\u001b[0;34m.\u001b[0m\u001b[0m_poll\u001b[0m\u001b[0;34m(\u001b[0m\u001b[0mtimeout\u001b[0m \u001b[0;34m/\u001b[0m \u001b[0;36m1000\u001b[0m\u001b[0;34m)\u001b[0m\u001b[0;34m\u001b[0m\u001b[0;34m\u001b[0m\u001b[0m\n\u001b[0m\u001b[1;32m    603\u001b[0m \u001b[0;34m\u001b[0m\u001b[0m\n\u001b[1;32m    604\u001b[0m             \u001b[0;31m# called without the lock to avoid deadlock potential\u001b[0m\u001b[0;34m\u001b[0m\u001b[0;34m\u001b[0m\u001b[0;34m\u001b[0m\u001b[0m\n",
      "\u001b[0;32m/opt/conda/lib/python3.8/site-packages/kafka/client_async.py\u001b[0m in \u001b[0;36m_poll\u001b[0;34m(self, timeout)\u001b[0m\n\u001b[1;32m    632\u001b[0m \u001b[0;34m\u001b[0m\u001b[0m\n\u001b[1;32m    633\u001b[0m         \u001b[0mstart_select\u001b[0m \u001b[0;34m=\u001b[0m \u001b[0mtime\u001b[0m\u001b[0;34m.\u001b[0m\u001b[0mtime\u001b[0m\u001b[0;34m(\u001b[0m\u001b[0;34m)\u001b[0m\u001b[0;34m\u001b[0m\u001b[0;34m\u001b[0m\u001b[0m\n\u001b[0;32m--> 634\u001b[0;31m         \u001b[0mready\u001b[0m \u001b[0;34m=\u001b[0m \u001b[0mself\u001b[0m\u001b[0;34m.\u001b[0m\u001b[0m_selector\u001b[0m\u001b[0;34m.\u001b[0m\u001b[0mselect\u001b[0m\u001b[0;34m(\u001b[0m\u001b[0mtimeout\u001b[0m\u001b[0;34m)\u001b[0m\u001b[0;34m\u001b[0m\u001b[0;34m\u001b[0m\u001b[0m\n\u001b[0m\u001b[1;32m    635\u001b[0m         \u001b[0mend_select\u001b[0m \u001b[0;34m=\u001b[0m \u001b[0mtime\u001b[0m\u001b[0;34m.\u001b[0m\u001b[0mtime\u001b[0m\u001b[0;34m(\u001b[0m\u001b[0;34m)\u001b[0m\u001b[0;34m\u001b[0m\u001b[0;34m\u001b[0m\u001b[0m\n\u001b[1;32m    636\u001b[0m         \u001b[0;32mif\u001b[0m \u001b[0mself\u001b[0m\u001b[0;34m.\u001b[0m\u001b[0m_sensors\u001b[0m\u001b[0;34m:\u001b[0m\u001b[0;34m\u001b[0m\u001b[0;34m\u001b[0m\u001b[0m\n",
      "\u001b[0;32m/opt/conda/lib/python3.8/selectors.py\u001b[0m in \u001b[0;36mselect\u001b[0;34m(self, timeout)\u001b[0m\n\u001b[1;32m    466\u001b[0m             \u001b[0mready\u001b[0m \u001b[0;34m=\u001b[0m \u001b[0;34m[\u001b[0m\u001b[0;34m]\u001b[0m\u001b[0;34m\u001b[0m\u001b[0;34m\u001b[0m\u001b[0m\n\u001b[1;32m    467\u001b[0m             \u001b[0;32mtry\u001b[0m\u001b[0;34m:\u001b[0m\u001b[0;34m\u001b[0m\u001b[0;34m\u001b[0m\u001b[0m\n\u001b[0;32m--> 468\u001b[0;31m                 \u001b[0mfd_event_list\u001b[0m \u001b[0;34m=\u001b[0m \u001b[0mself\u001b[0m\u001b[0;34m.\u001b[0m\u001b[0m_selector\u001b[0m\u001b[0;34m.\u001b[0m\u001b[0mpoll\u001b[0m\u001b[0;34m(\u001b[0m\u001b[0mtimeout\u001b[0m\u001b[0;34m,\u001b[0m \u001b[0mmax_ev\u001b[0m\u001b[0;34m)\u001b[0m\u001b[0;34m\u001b[0m\u001b[0;34m\u001b[0m\u001b[0m\n\u001b[0m\u001b[1;32m    469\u001b[0m             \u001b[0;32mexcept\u001b[0m \u001b[0mInterruptedError\u001b[0m\u001b[0;34m:\u001b[0m\u001b[0;34m\u001b[0m\u001b[0;34m\u001b[0m\u001b[0m\n\u001b[1;32m    470\u001b[0m                 \u001b[0;32mreturn\u001b[0m \u001b[0mready\u001b[0m\u001b[0;34m\u001b[0m\u001b[0;34m\u001b[0m\u001b[0m\n",
      "\u001b[0;31mKeyboardInterrupt\u001b[0m: "
     ]
    }
   ],
   "source": [
    "from kafka import KafkaConsumer\n",
    "import json\n",
    "\n",
    "\n",
    "c = KafkaConsumer('test', bootstrap_servers=['kafka:9093'], api_version=(2,6,0))\n",
    "\n",
    "def process_msg(msg):\n",
    "    print(msg.offset)\n",
    "    print(json.loads(msg.value))\n",
    "\n",
    "data_stream = []\n",
    "\n",
    "for msg in c:\n",
    "    process_msg(msg)\n",
    "    data_stream.append(msg.value)\n",
    "    \n",
    "    \n",
    "    \n"
   ]
  },
  {
   "cell_type": "code",
   "execution_count": 148,
   "id": "7dfe3cbc",
   "metadata": {
    "scrolled": true
   },
   "outputs": [
    {
     "name": "stdout",
     "output_type": "stream",
     "text": [
      "+-----+-------------+-----------+---------------------------------+-------------------------+--------------+-----------------------+---------------------+-------------+----------------+---------------------+-------------+-----------+--------------------+------------------------+-----------------------+----------------------------+---------------------------+----------------------------+-----------------------------+---------------------------------+--------------------------------+-------------------------------------+------------------------------+----------------------------------+---------------------------------+--------------------------------------+------------------------------+----------------------------------+---------------------------------+--------------------------------------+------------------+----------------------+-----------------------------------------------------+---------------------------+-------------------------------+-----------------------------------+----------------------------+--------------------------------+------------------------------------+----------------------------+--------------------------------+------------------------------------+------------------+----------------------+------------------------------+----------------------------------+------------------+----------+--------------+------------------+----------------------+--------------------+--------------------------------+-----------------------------------------+------------------------------------------+------------------------------------------+---------------------------+------------------------------------+-------------------------------------+-------------------------------------+-------------------+-----+-------------+\n",
      "|month|user_lifetime|user_intake|user_no_outgoing_activity_in_days|user_account_balance_last|user_spendings|user_has_outgoing_calls|user_has_outgoing_sms|user_use_gprs|user_does_reload|reloads_inactive_days|reloads_count|reloads_sum|calls_outgoing_count|calls_outgoing_spendings|calls_outgoing_duration|calls_outgoing_spendings_max|calls_outgoing_duration_max|calls_outgoing_inactive_days|calls_outgoing_to_onnet_count|calls_outgoing_to_onnet_spendings|calls_outgoing_to_onnet_duration|calls_outgoing_to_onnet_inactive_days|calls_outgoing_to_offnet_count|calls_outgoing_to_offnet_spendings|calls_outgoing_to_offnet_duration|calls_outgoing_to_offnet_inactive_days|calls_outgoing_to_abroad_count|calls_outgoing_to_abroad_spendings|calls_outgoing_to_abroad_duration|calls_outgoing_to_abroad_inactive_days|sms_outgoing_count|sms_outgoing_spendings|sms_outgoing_spendings_max\tsms_outgoing_inactive_days|sms_outgoing_to_onnet_count|sms_outgoing_to_onnet_spendings|sms_outgoing_to_onnet_inactive_days|sms_outgoing_to_offnet_count|sms_outgoing_to_offnet_spendings|sms_outgoing_to_offnet_inactive_days|sms_outgoing_to_abroad_count|sms_outgoing_to_abroad_spendings|sms_outgoing_to_abroad_inactive_days|sms_incoming_count|sms_incoming_spendings|sms_incoming_from_abroad_count|sms_incoming_from_abroad_spendings|gprs_session_count|gprs_usage|gprs_spendings|gprs_inactive_days|last_100_reloads_count|last_100_reloads_sum|last_100_calls_outgoing_duration|last_100_calls_outgoing_to_onnet_duration|last_100_calls_outgoing_to_offnet_duration|last_100_calls_outgoing_to_abroad_duration|last_100_sms_outgoing_count|last_100_sms_outgoing_to_onnet_count|last_100_sms_outgoing_to_offnet_count|last_100_sms_outgoing_to_abroad_count|last_100_gprs_usage|churn|user_use_gprs|\n",
      "+-----+-------------+-----------+---------------------------------+-------------------------+--------------+-----------------------+---------------------+-------------+----------------+---------------------+-------------+-----------+--------------------+------------------------+-----------------------+----------------------------+---------------------------+----------------------------+-----------------------------+---------------------------------+--------------------------------+-------------------------------------+------------------------------+----------------------------------+---------------------------------+--------------------------------------+------------------------------+----------------------------------+---------------------------------+--------------------------------------+------------------+----------------------+-----------------------------------------------------+---------------------------+-------------------------------+-----------------------------------+----------------------------+--------------------------------+------------------------------------+----------------------------+--------------------------------+------------------------------------+------------------+----------------------+------------------------------+----------------------------------+------------------+----------+--------------+------------------+----------------------+--------------------+--------------------------------+-----------------------------------------+------------------------------------------+------------------------------------------+---------------------------+------------------------------------+-------------------------------------+-------------------------------------+-------------------+-----+-------------+\n",
      "|    3|         1.18|       1.18|                                1|                      0.0|           0.0|                      0|                    0|            1|               0|                    0|          0.0|          1|                 0.0|                       0|                      0|                           1|                          0|                           0|                         1276|                                0|                             0.0|                                  0.0|                          1.18|                                 0|                              0.0|                                     0|                           0.0|                                 4|                           24.015|                                     6|                 0|                     1|                                                    4|                          6|                              1|                                  3|                       24.02|                               1|                                   0|                           0|                               0|                                   6|                 1|                  0.21|                          0.15|                                 0|                 1|         0|             1|                 1|                  0.06|                   4|                               1|                                      0.0|                                     23.79|                                         1|                          1|                                   1|                                    1|                                    3|                  1| 0.21|            0|\n",
      "|   61|        37.93|       3.95|                                1|                     5.77|          0.59|                      0|                    0|            1|               0|                   42|         25.0|          1|                3.75|                       0|                      0|                           1|                          0|                           0|                            1|                             1030|                            21.7|                               499.16|                         36.93|                                 0|                             25.0|                                     0|                        417.84|                                 5|                             29.0|                                    12|                 0|                     2|                                                    0|                          6|                              3|                                  1|                        29.0|                              63|                                   0|                           0|                               0|                                  12|                 1|                  1.17|                           0.5|                                 0|                 1|         0|             2|                 1|                  0.12|                   0|                               1|                                      0.0|                                     10.91|                                         1|                          1|                                   1|                                    1|                                    3|                  1|28.64|            1|\n",
      "|   48|        54.37|       5.43|                                1|                     8.25|          0.82|                      0|                    0|            1|               0|                   33|        49.48|          1|                7.42|                       0|                      0|                           1|                          0|                           0|                         1276|                                0|                             0.0|                                  0.0|                         53.37|                                 0|                            48.48|                                     0|                           0.0|                                 2|                             15.0|                                     0|                 0|                     0|                                                    0|                          6|                              1|                                  3|                        15.0|                               9|                                   0|                           0|                               0|                                   0|              1276|                   0.0|                           0.0|                                 0|              1276|         0|             0|              1276|                   0.0|                   0|                            1276|                                      0.0|                                      6.75|                                         1|                          1|                                   0|                                    1|                                    3|                  1| 8.25|            0|\n",
      "|   41|        82.62|      17.38|                                1|                    12.39|          2.61|                      0|                    0|            1|               0|                   17|        59.88|          1|                8.98|                       0|                      0|                           1|                          0|                           0|                         1276|                                0|                             0.0|                                  0.0|                          65.1|                                 0|                            43.62|                                     0|                           0.0|                                 2|                             15.0|                                     7|                 0|                     5|                                                    0|                          6|                              1|                                  3|                        15.0|                               2|                                   0|                           0|                               0|                                  10|                 1|                  0.48|                          0.06|                                 0|                 1|         0|             8|                 1|                  0.48|                   0|                               1|                                      0.0|                                       1.8|                                         1|                          1|                                   1|                                    1|                                    3|                  1|12.87|            0|\n",
      "|    3|         4.25|       3.77|                                3|                      0.0|           0.0|                      0|                    0|            3|               0|                    0|          0.0|          3|                 0.0|                       0|                      0|                           3|                          0|                           0|                         1276|                                0|                             0.0|                                  0.0|                          4.25|                                 0|                              0.0|                                     0|                           0.0|                                 7|                            48.03|                                     2|                 0|                     0|                                                    0|                          6|                              1|                                  3|                       48.03|                               1|                                   0|                           0|                               0|                                   2|                 3|                   0.0|                           0.0|                                 0|                 3|         0|             0|                 3|                   0.0|                   0|                               3|                                      0.0|                                      48.0|                                         1|                          1|                                   1|                                    1|                                    3|                  3|  0.0|            0|\n",
      "+-----+-------------+-----------+---------------------------------+-------------------------+--------------+-----------------------+---------------------+-------------+----------------+---------------------+-------------+-----------+--------------------+------------------------+-----------------------+----------------------------+---------------------------+----------------------------+-----------------------------+---------------------------------+--------------------------------+-------------------------------------+------------------------------+----------------------------------+---------------------------------+--------------------------------------+------------------------------+----------------------------------+---------------------------------+--------------------------------------+------------------+----------------------+-----------------------------------------------------+---------------------------+-------------------------------+-----------------------------------+----------------------------+--------------------------------+------------------------------------+----------------------------+--------------------------------+------------------------------------+------------------+----------------------+------------------------------+----------------------------------+------------------+----------+--------------+------------------+----------------------+--------------------+--------------------------------+-----------------------------------------+------------------------------------------+------------------------------------------+---------------------------+------------------------------------+-------------------------------------+-------------------------------------+-------------------+-----+-------------+\n",
      "\n"
     ]
    }
   ],
   "source": [
    "import json\n",
    "\n",
    "schema=[\"month\",\"user_lifetime\",\"user_intake\",\"user_no_outgoing_activity_in_days\",\"user_account_balance_last\",\n",
    "       \"user_spendings\",\"user_has_outgoing_calls\",\"user_has_outgoing_sms\",\"user_use_gprs\",\n",
    "       \"user_does_reload\",\"reloads_inactive_days\",\"reloads_count\",\"reloads_sum\",\"calls_outgoing_count\",\n",
    "       \"calls_outgoing_spendings\",\"calls_outgoing_duration\",\"calls_outgoing_spendings_max\",\"calls_outgoing_duration_max\",\n",
    "       \"calls_outgoing_inactive_days\",\"calls_outgoing_to_onnet_count\",\"calls_outgoing_to_onnet_spendings\",\n",
    "       \"calls_outgoing_to_onnet_duration\",\"calls_outgoing_to_onnet_inactive_days\",\"calls_outgoing_to_offnet_count\",\n",
    "       \"calls_outgoing_to_offnet_spendings\",\"calls_outgoing_to_offnet_duration\",\"calls_outgoing_to_offnet_inactive_days\",\n",
    "       \"calls_outgoing_to_abroad_count\",\"calls_outgoing_to_abroad_spendings\",\n",
    "       \"calls_outgoing_to_abroad_duration\",\"calls_outgoing_to_abroad_inactive_days\",\"sms_outgoing_count\",\n",
    "       \"sms_outgoing_spendings\",\"sms_outgoing_spendings_max\tsms_outgoing_inactive_days\",\n",
    "       \"sms_outgoing_to_onnet_count\",\"sms_outgoing_to_onnet_spendings\",\n",
    "       \"sms_outgoing_to_onnet_inactive_days\",\"sms_outgoing_to_offnet_count\",\n",
    "       \"sms_outgoing_to_offnet_spendings\",\"sms_outgoing_to_offnet_inactive_days\",\"sms_outgoing_to_abroad_count\",\n",
    "       \"sms_outgoing_to_abroad_spendings\",\"sms_outgoing_to_abroad_inactive_days\",\"sms_incoming_count\",\"sms_incoming_spendings\",\n",
    "       \"sms_incoming_from_abroad_count\",\"sms_incoming_from_abroad_spendings\",\"gprs_session_count\",\"gprs_usage\",\n",
    "       \"gprs_spendings\",\"gprs_inactive_days\",\"last_100_reloads_count\",\"last_100_reloads_sum\",\"last_100_calls_outgoing_duration\",\n",
    "       \"last_100_calls_outgoing_to_onnet_duration\",\"last_100_calls_outgoing_to_offnet_duration\",\n",
    "       \"last_100_calls_outgoing_to_abroad_duration\",\"last_100_sms_outgoing_count\",\"last_100_sms_outgoing_to_onnet_count\",\n",
    "       \"last_100_sms_outgoing_to_offnet_count\",\"last_100_sms_outgoing_to_abroad_count\",\"last_100_gprs_usage\",\"churn\"]\n",
    "\n",
    "\n",
    "df_stream = spark.createDataFrame(m,schema=schema).show()\n",
    "\n",
    "\n"
   ]
  },
  {
   "cell_type": "code",
   "execution_count": null,
   "id": "0ea89c17",
   "metadata": {},
   "outputs": [],
   "source": []
  },
  {
   "cell_type": "code",
   "execution_count": null,
   "id": "3edd9229",
   "metadata": {},
   "outputs": [],
   "source": []
  },
  {
   "cell_type": "code",
   "execution_count": null,
   "id": "eed9b66f",
   "metadata": {},
   "outputs": [],
   "source": []
  },
  {
   "cell_type": "code",
   "execution_count": null,
   "id": "202a0c7e",
   "metadata": {},
   "outputs": [],
   "source": []
  },
  {
   "cell_type": "code",
   "execution_count": null,
   "id": "ee2e57de",
   "metadata": {},
   "outputs": [],
   "source": []
  },
  {
   "cell_type": "code",
   "execution_count": null,
   "id": "066664a9",
   "metadata": {},
   "outputs": [],
   "source": []
  },
  {
   "cell_type": "code",
   "execution_count": null,
   "id": "09ffe158",
   "metadata": {},
   "outputs": [],
   "source": []
  },
  {
   "cell_type": "code",
   "execution_count": null,
   "id": "5d4730de",
   "metadata": {},
   "outputs": [],
   "source": []
  },
  {
   "cell_type": "code",
   "execution_count": null,
   "id": "c6db7cbf",
   "metadata": {},
   "outputs": [],
   "source": []
  },
  {
   "cell_type": "code",
   "execution_count": null,
   "id": "134a5509",
   "metadata": {},
   "outputs": [],
   "source": []
  },
  {
   "cell_type": "code",
   "execution_count": null,
   "id": "451db28b",
   "metadata": {},
   "outputs": [],
   "source": []
  },
  {
   "cell_type": "code",
   "execution_count": null,
   "id": "ee5e37c7",
   "metadata": {},
   "outputs": [],
   "source": []
  }
 ],
 "metadata": {
  "kernelspec": {
   "display_name": "Python 3",
   "language": "python",
   "name": "python3"
  },
  "language_info": {
   "codemirror_mode": {
    "name": "ipython",
    "version": 3
   },
   "file_extension": ".py",
   "mimetype": "text/x-python",
   "name": "python",
   "nbconvert_exporter": "python",
   "pygments_lexer": "ipython3",
   "version": "3.8.8"
  }
 },
 "nbformat": 4,
 "nbformat_minor": 5
}
